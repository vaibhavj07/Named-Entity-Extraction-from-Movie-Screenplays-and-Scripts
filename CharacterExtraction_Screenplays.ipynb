{
 "cells": [
  {
   "cell_type": "markdown",
   "metadata": {},
   "source": [
    "# Extracting Original Characters for movies from IMDB"
   ]
  },
  {
   "cell_type": "code",
   "execution_count": 1,
   "metadata": {},
   "outputs": [],
   "source": [
    "from difflib import SequenceMatcher\n",
    "import pandas as pd\n",
    "import imdb\n",
    "import requests\n",
    "import traceback\n",
    "from nltk import pos_tag, word_tokenize\n",
    "import nltk\n",
    "from collections import Counter\n",
    "import spacy\n",
    "import pandas as pd\n",
    "import traceback\n",
    "import re\n",
    "import math\n",
    "spacy_nlp  = spacy.load('en_core_web_sm')"
   ]
  },
  {
   "cell_type": "markdown",
   "metadata": {},
   "source": [
    "## Getting Orignal Character Names"
   ]
  },
  {
   "cell_type": "code",
   "execution_count": 2,
   "metadata": {},
   "outputs": [],
   "source": [
    "def getCharactersNames_IMDB():\n",
    "    Movie_data = pd.read_csv(\"Movies.csv\")\n",
    "    Character_Df = pd.DataFrame(columns = ['Name', 'Character Names'])\n",
    "    movie_name = Movie_data['Title']\n",
    "    originalmovie_name = Movie_data['Original Title']\n",
    "    original_name = \"\"\n",
    "    characterNames = []\n",
    "    imdbobj = imdb.IMDb()\n",
    "    for index in range(len(originalmovie_name)):\n",
    "        try:\n",
    "            characterNames = []\n",
    "            original_name = originalmovie_name[index].strip()\n",
    "            name = movie_name[index].strip()\n",
    "            print(name)\n",
    "            movies = imdbobj.search_movie(original_name)\n",
    "            Code = movies[0].movieID\n",
    "            movie = imdbobj.get_movie(Code)\n",
    "            actors = movie['cast']\n",
    "            for actor in actors:\n",
    "                if(actor.currentRole and isinstance(actor.currentRole, imdb.utils.RolesList)):\n",
    "                    for role in actor.currentRole:\n",
    "                        characterNames.append(getattr(role, 'data')['name'])\n",
    "                elif(actor.currentRole):\n",
    "                    characterNames.append(getattr(actor.currentRole, 'data')['name'])\n",
    "            characterNamesSet = set(characterNames)\n",
    "            Character_Df = Character_Df.append(pd.Series([name, characterNamesSet],\n",
    "                                             index = ['Name', 'Character Names']),\n",
    "                                   ignore_index=True)\n",
    "        except:\n",
    "            continue\n",
    "    Character_Df.to_csv(\"Original_Characters.csv\")\n"
   ]
  },
  {
   "cell_type": "code",
   "execution_count": 3,
   "metadata": {
    "scrolled": true
   },
   "outputs": [
    {
     "name": "stdout",
     "output_type": "stream",
     "text": [
      "Godfather\n",
      "Shawshank Redemption\n",
      "Schindler's List\n",
      "Raging Bull\n",
      "Casablanca\n",
      "Citizen Kane\n",
      "Gone with  Wind\n",
      "One Flew Over  Cuckoo's Nest\n",
      "Vertigo\n",
      "Psycho\n",
      "Godfather Part II\n",
      "On the Waterfront\n",
      "Sunset Blvd\n",
      "Forrest Gump\n",
      "12 Angry Men\n",
      "Star Wars\n",
      "2001 A Space Odyssey\n",
      "Chinatown\n",
      "Singin' in the Rain\n",
      "It's a Wonderful Life\n",
      "Some Like It Hot\n",
      "Ben-Hur\n",
      "Apocalypse Now\n",
      "Amadeus\n",
      "Lord of the Rings The Return of the King\n",
      "Gladiator\n",
      "Titanic\n",
      "From Here to Eternity\n",
      "Saving Private Ryan\n",
      "Unforgiven\n",
      "Rocky\n",
      "A Streetcar Named Desire\n",
      "To Kill a Mockingbird\n",
      "An American in Paris\n",
      "Best Years of Our Lives\n",
      "A Clockwork Orange\n",
      "Doctor Zhivago\n",
      "Jaws\n",
      "Patton\n",
      "Platoon\n",
      "Braveheart\n",
      "Dances with Wolves\n",
      "Jurassic Park\n",
      "Exorcist\n",
      "Pianist\n",
      "Goodfellas\n",
      "Deer Hunter\n",
      "All Quiet on  the Western Front\n",
      "Bonnie and Clyde\n",
      "French Connection\n",
      "City Lights\n",
      "It Happened One Night\n",
      "A Place in the  Sun\n",
      "Midnight Cowboy\n",
      "Mr. Smith Goes to Washington\n",
      "Rain Man\n",
      "Annie Hall\n",
      "Fargo\n",
      "Giant\n",
      "Shane\n",
      "Grapes of Wrath\n",
      "Green Mile\n",
      "Close Encounters of the Third Kind\n",
      "Nashville\n",
      "Network\n",
      "Graduate\n",
      "American Graffiti\n",
      "Pulp Fiction\n",
      "Terms of Endearment\n",
      "Good Will Hunting\n",
      "African Queen\n",
      "Stagecoach\n",
      "Double Indemnity\n",
      "Wuring Heights\n",
      "Taxi Driver\n",
      "Rear Window\n",
      "Third Man\n",
      "Rebel Without a Cause\n",
      "North by Northwest\n",
      "Yankee Doodle Dandy\n"
     ]
    }
   ],
   "source": [
    "getCharactersNames_IMDB()"
   ]
  },
  {
   "cell_type": "markdown",
   "metadata": {},
   "source": [
    "## Extracting Character from scripts"
   ]
  },
  {
   "cell_type": "code",
   "execution_count": 4,
   "metadata": {
    "id": "official-orbit"
   },
   "outputs": [],
   "source": [
    "class NamedEntityExtractor:\n",
    "    def extract(self, text: str) :\n",
    "        doc = spacy_nlp(text.strip())\n",
    "        named_entities = set()\n",
    "\n",
    "        for i in doc.ents:\n",
    "            entry = str(i.lemma_).lower()\n",
    "            text = text.replace(str(i).lower(), \"\")\n",
    "            if i.label_ in [\"PERSON\"]:\n",
    "                named_entities.add(entry.title())\n",
    "        named_entities_list = list(named_entities)\n",
    "        return named_entities_list\n",
    "\n",
    "def clean_text(text):\n",
    "    # remove backslash-apostrophe \n",
    "    text = re.sub(\"\\'\", \"\", text) \n",
    "    # remove everything except alphabets \n",
    "    text = re.sub(\"[^a-zA-Z]\",\" \",text) \n",
    "    # remove whitespaces \n",
    "    text = ' '.join(text.split()) \n",
    "    # convert text to lowercase \n",
    "#     text = text.lower() \n",
    "    \n",
    "    return text\n",
    "\n",
    "def FinalExtraction():\n",
    "    named_entity_extractor = NamedEntityExtractor()\n",
    "    characterNamesFile = pd.read_csv('Original_Characters.csv')\n",
    "    titles = characterNamesFile['Name']\n",
    "    knows_titles=[]\n",
    "    predictedCharacterNames = []\n",
    "    for title in titles:\n",
    "        try:\n",
    "            f = open(\"scripts/\"+title+\".txt\",'r')\n",
    "            text = f.read()\n",
    "            text = clean_text(text)\n",
    "            named_entities = named_entity_extractor.extract(text)\n",
    "            named_entities_nouns = []\n",
    "            for role in named_entities:\n",
    "                if(role):\n",
    "                    tagged_role = pos_tag(role.split(\";\"))\n",
    "                    [named_entities_nouns.append(word) for word,pos in tagged_role if pos in (\"NN\", \"NNP\", \"NNS\")]\n",
    "            named_entities_set = set(named_entities_nouns)\n",
    "            print(f\"named entities - {named_entities_set}\\n\")\n",
    "            predictedCharacterNames.append(named_entities_set)\n",
    "            knows_titles.append(title)\n",
    "\n",
    "        except Exception:\n",
    "            print(traceback.print_exc())\n",
    "            continue\n",
    "    return knows_titles,predictedCharacterNames \n"
   ]
  },
  {
   "cell_type": "code",
   "execution_count": 6,
   "metadata": {
    "collapsed": true,
    "id": "dzBXurnVzOVf"
   },
   "outputs": [
    {
     "name": "stdout",
     "output_type": "stream",
     "text": [
      "named entities - {'Michael Hagen Mama', 'Michael We', 'Mike Michael', 'Ext', 'Right Moe Moe', 'Michael Hurry', 'Michael Enzo', 'Moe Green', 'Woltz', 'Tessio You', 'Michael Ciao', 'Frank', 'Michael Tom Tom', 'Luca Brasis', 'Corleone Ill', 'Speak', 'Luca Brasi', 'Vitelli', 'Tom Michael', 'Palermo Michael', 'Sollozzo', 'Sicilian Michael', 'Michael Fabrizzio', 'Michael Mama Fredo', 'Tessio He', 'Kraut Mick', 'Khartoum', 'Paulie You', 'Michael Innkeeper', 'Dago', 'Carlos', 'Michael Ill', 'Lampone', 'Kay Al Capone', 'Tom', 'Appolonia Michael', 'Mccluskey Michael Lets', 'Michael Michael', 'Mccluskeys', 'Pea', 'Clemenzas', 'Michael Francis Rizzi Flash', 'Tom Tom', 'Michael You', 'Nightclub', 'Mike Mccluskey', 'Sonny Michael', 'Michael Sonny', 'Michael Gunfire', 'Sollozzo Find', 'Moe Buy', 'Rocco Lampone', 'Kay Kay', 'Mccluskey Phil', 'Connie', 'Kay Michael', 'Sonny Talk', 'Mccluskey', 'Strachi Cuneo', 'Michael Tom', 'Moe Greene', 'Roccos', 'Michael Sit', 'Paulie Paulie', 'Tom Hagen', 'Joseph Zaluchi', 'Michael Freddie', 'Whatsamatter Trigger', 'Ingrid Bergman', 'Consiglere Gencos', 'Country', 'Regime', 'Kay Connie', 'Michael Cut', 'Church Kay', 'Al Capone', 'Paulie Rocco', 'Michael Shhhh', 'Michael Carlo', 'Michael Kay', 'Hansel', 'Ill', 'Fredo Fredo', 'Michael Get', 'Ruffino', 'Johnny', 'Mike', 'Nazorine', 'Michael Listen', 'Virgil Sollozzo Don Corleone', 'Buick', 'Michael O S', 'Michael All', 'Villa', 'Genco', 'Fredo', 'Don Francesco Of L A', 'Michael', 'Explosion', 'Paulie', 'Strachi', 'Luca', 'Mike Sonny', 'Paulie Ill', 'Tattaglia', 'Louis Restaurant', 'Michael Tell', 'Amerigo Bonasera', 'Grandchildren', 'Francis Ford', 'Greaseball Goombahs', 'Michael Ext', 'Mama Connie Kay', 'Bruno Tattaglia', 'Don Corleone', 'Grandfather', 'Don Corleone Michael', 'Michael Hagen', 'Michael Visit Hour', 'Maid', 'Michael Goodbye', 'Pompeii', 'Michael Neri', 'Paulie Clemenza', 'Michael Corleone', 'Grandchilren', 'Mikey', 'Rocco', 'Ambulance', 'Kay Adams Kay', 'Don', 'Paulie Gatto', 'Moe', 'Church', 'Kay Ill', 'Waiter', 'Moe Mike', 'Luca Sollozzo', 'Corleone Nazorine', 'Corleone Hill', 'Michael O', 'Bruno Sonny', 'Michael Come', 'Hitler', 'Corleone Tom', 'Turk', 'Godson', 'Cmon', 'Michael Don Tommassino', 'Michael Don', 'Paulie Michael', 'Tessio', 'Those Pezzonovante', 'Johnnys', 'Sonny', 'Slowly Bonasera', 'Johnny Fontane', 'Bruno', 'Turns', 'Corleone', 'Michael Sonny Sonny Jesus', 'Hagen Mike', 'Khartoum Kartoum', 'Michael Vitelli', 'Kay', 'Luca Michael', 'Michael Mama', 'Easter'}\n",
      "\n",
      "named entities - {'Andy Pleasure', 'Floyd Smokes Put', 'Wiley', 'Floyd', 'Lawyer', 'Tier Norton', 'Jake', 'Ray Milland', 'Hadleys', 'Dumbfuck', 'Hal Dave Get', 'Rita Moonlight', 'Bob Bob', 'Brooks Hatlen', 'Robert Frost', 'Rory Hoo', 'Jake Int Wood', 'Thomas Williams Tommy', 'Jigger Shit', 'Jeez Louise', 'Poppa', 'Floyd Skeet', 'Andy Discuss', 'Buff', 'Bottom', 'Floyd Red', 'Andy Ext', 'Small', 'Pete', 'Rita Norton', 'John Chapter', 'Rooster Rooster Laugh Andy', 'Mrs Nortons', 'Pete Andy', 'Push', 'Noresby Marauders', 'Library Andys', 'Joe Heywood', 'Red Cmon', 'Rita Hayworth', 'Ai', 'Mert Entwhistle', 'Quickie', 'Int Brooks', 'Sos', 'Rory Tremont', 'Ecstasy', 'Bog', 'Tommy Tomny', 'Robert Louis Andy', 'Bull', 'Say', 'Young', 'Warden Norton', 'Wileys', 'Tommy Smart', 'Andy Red', 'Angle', 'Female Teller', 'Dufresne', 'Mozart Le Nozze De Figaro', 'Racquel Smiles Pull', 'Zip Lock', 'Mm', 'Proud', 'Haig Haig', 'Shawshank', 'Andy Smile', 'Ernie', 'Ill', 'Peter Stevens', 'Pete Verness', 'Tommy', 'Jake Andy', 'Andys', 'Jerry Lee Lewis Red V O Tommy Williams', 'Tommy Cmon', 'Brooks', 'Dear Warden', 'Yuh', 'Sam', 'Thomaston', 'Bluer', 'Peter Stevens Red', 'Sunshine', 'Jigger Cmon Brooksie', 'Tommy Ill', 'Haig', 'Hadley First', 'Cons', 'Mexicos', 'Ned', 'Mozart', 'Rory Warden', 'Leonard', 'Heywood Cmon Be', 'Sceni Cruiser', 'Beth', 'Mert', 'Floyd Gettin', 'Restroom', 'Williams', 'Listen Wait', 'Louis Lamours', 'Crazy', 'Andy Andy', 'Byron Hadley', 'Bronze Star', 'Uncle Sam', 'Tommy Williams', 'Floyd Takin', 'Wet', 'Wall', 'Bob', 'Grab', 'Andy', 'Mr Stevens', 'Mrs John', 'Maisie', 'Hadley Ambulance', 'Andy Place', 'Racquel Int', 'Hadley', 'Frank Darabont', 'Bogs Diamond', 'Zihuatanejo Red', 'Bag', 'Tommy Andy Red', 'Andy Bogs', 'Andy Thank', 'Lay', 'Glaring Haig', 'Dollying Tommy', 'Racquel Welch', 'Marilyn Monroe', 'Hadley Dumbshit', 'Stevens', 'Movin', 'Cmon', 'Tommy Warden Norton', 'Andy Red V', 'Andy Dufresne', 'Erle Stanley Gardners Every', 'Luke Chapter', 'Deutino Che', 'Rory Smells', 'Bogs', 'Exultant Triumphant', 'Brooks Goddamn', 'Racquel', 'Ext Beach', 'Kennedy', 'Hadley Fuckin', 'Crush', 'Warden', 'Hadley Tommy', 'Nothin', 'Jigger Comin', 'Andy A', 'Footsteps', 'Aint', 'Hank Williams', 'Jigger', 'Glenn Quentin', 'Jigger Watch', 'Warden Nortons', 'Sweet Jesus', 'Noise Brooks'}\n",
      "\n",
      "named entities - {'Clerk Good', 'Lena Schindler', 'Goeths Adler', 'Amon', 'Podgorze', 'Slap', 'Amon Goeth', 'Sigmund Lists', 'Schindlers', 'Emilie', 'Madritsch', 'Oberstrumfuhrer', 'Szerwitz', 'Wail', 'Kunder Sergeant Kunder', 'Hoss', 'Kennkarte', 'Schinder', 'Schindler Ill', 'Von Suppe Goeth', 'Sterns', 'Int Nightclub', 'Itzhak Stern Schindler', 'Goeth Schindler', 'Klonowska Goodbye', 'Annoyed Goeth', 'Gestapo', 'Schindler', 'Rasch', 'Liepold He', 'Goeth Hujar', 'Scherner', 'Tight', 'Scherner Schindler', 'Int Brinnlitz', 'Calmly', 'Leo', 'Wine Girls Schindler', 'Mrs Schindler', 'St Marys', 'Goeth Knude', 'Oskar Schindler Int', 'Stern Schindler', 'Canon Law', 'Hans Frank', 'Janek', 'Hujar', 'Neither Schindler', 'Oskar Schindler', 'Mila Pfefferberg', 'Strauss', 'Oskar', 'Goldberg', 'Ill', 'Schindler Liepold', 'Milas', 'Mammi', 'Leo Rosner', 'Commandant Liepold', 'Herman Toffel', 'Klonowska', 'Schindler Schindler', 'Toffels', 'Kiddush', 'God Goeth', 'Henry Rosner', 'Brinnlitz', 'Leo This', 'Clerk Executor', 'Goldberg Goeth', 'Stern Oskar', 'Goeth Sweeps', 'Rosner', 'Max Redlicht', 'Max', 'Brahms', 'Name', 'Steinberg Chilowitz', 'Czurda Schindler', 'Hohne', 'Leo John', 'Eventually Janek', 'Amon Goeth Be Arrest Again', 'Careful Pfefferberg', 'Stern Mr Lowenstein', 'Dismounting Schindler', 'Goeth', 'Arm', 'Schindler Int', 'Schindler Mercedes', 'Really Schindler', 'Auschwitz Commandant', 'Hang', 'Pfefferberg', 'Stern Oskar Schindler', 'Pens', 'Emilie Schindler', 'Torah', 'Untersturmfuhrer Amon Goeth', 'Winston Churchill Int', 'Hilo', 'Untersturmfuhrer Goeth', 'Scherners', 'Liepold', 'Day Schindler', 'Commandant Goeth', 'S Schindler', 'Waiter', 'Goeths', 'Regina Perlman', 'D Ill', 'Kuhnpast', 'Schindlers Mercedes', 'Untersturmfuhrer Jose Liepold', 'Typewriter Keys', 'Mila', 'Hitler', 'Sonderkommandos', 'Pferdchen Mommy', 'Keys', 'Checkbook', 'Metal', 'Clerk', 'Untersturmfuhrer Liepold', 'Oskar Czurda', 'Morning Goeth', 'Henry', 'Stern Ill', 'Knude', 'Silence Schindler', 'Handcards', 'Clerk Sergeant', 'Gestapo Clerk', 'Morning Amon Goeth', 'Elsa Krause', 'Rudolf Hoss', 'Shapes', 'Mr Goeth', 'Eisenhower', 'Clerk Klaus Tauber As Schindler', 'Nothings', 'Emilie Wine', 'Pfefferberg Mila Pfefferberg'}\n",
      "\n",
      "named entities - {'Jack Jake', 'Jake Get Everyone Out Of', 'Jake Tony', 'Jake Hi Tommy', 'Jake', 'Vickie', 'Daisy Maes', 'Nah', 'Cmon Tommy Tommy', 'Tony Janiro Vickie', 'Jackie You', 'Jake Vickie', 'Joey Get', 'Frank Sinatra', 'Jake Whadda', 'Jake Valentines Day', 'Eddie Eagan', 'Jake Jake Cmon Joey Joey', 'Louis Win', 'Jake Hey', 'Jake Lamotta', 'Jake Tryin', 'Salvy', 'Eagan Ok', 'Jake Hi', 'Tony Ill', 'Charles Atlas', 'Sugar Ray', 'Jake Joey', 'Jake Nah', 'Joey Ya', 'Jake Fuckin', 'Jake He S', 'Sandy', 'Laurent Dauthuillle', 'Bob Satterfield', 'Jake Any', 'Louis', 'Young', 'Jake Come', 'Bull', 'Vickie Jakes', 'Copa', 'Jake He', 'Billy Fox', 'Jake Answer', 'Bronson', 'Lou Handler', 'Queer', 'Joey Cmon', 'Sugar Ray Robinson', 'Jake Cmon', 'Salvy Tommy Como', 'Champ Pimp', 'Charlie You', 'Williams Int', 'Mm', 'Mrs Lamotta', 'Jack', 'Charlie', 'Ill', 'Jake Tommy', 'Patsy Ill', 'Tommy Como', 'Louis Jordon', 'Bohemia', 'Tommy', 'Clenches Unclenches', 'Joe Louis Come', 'Jake Watch', 'Whataya', 'Lil Abner', 'Jake Good', 'Sugar Rav', 'Joey', 'Patsy', 'Mario Vickie', 'G Reprise', 'Tommy Bell', 'D Reprise', 'Robinson', 'Joey Vickie', 'Shakespeare', 'Jake Just', 'Johnny Lets', 'Marlon Brando', 'Ma', 'Vickie Vickie', 'Joey Salvy', 'Jake Look', 'Jake Lamota', 'Jackie Curtie', 'Williams', 'Older Couples', 'Jake Believe', 'Jimmy Reeves', 'Tony', 'Lana Turner', 'Tony Janiros', 'Whatcha', 'Eagan', 'Joe Louis', 'Frankie', 'Eagan Billy Fox', 'Dauthuille', 'The Lower Depths', 'Joey You', 'Jake Lamottas Int', 'This Janiros', 'Tony Janiro', 'Jake Shut', 'Joey I Wish Joey', 'Patsy Get', 'Jake Be', 'Janiros', 'Int Jakes Pelham', 'Sugar Kill', 'Linda', 'Bing Crosby', 'Joe Joe', 'Charlie A', 'Jake Both Guards', 'Eagan You', 'Jake Whew', 'Jake Aw', 'Jake Contd Miamis', 'Vickie You', 'Cmon', 'Sinatra', 'Janiro You', 'Comedian Ladies', 'Eagan Tony Janiro', 'Nothin Salvy', 'Jake Never', 'Bud Schulberg', 'Jake Go', 'Ext Jake', 'Lamotta', 'Jakes Pov Salvy Frankie', 'Janet', 'Meyer Lansky', 'Jake Contd', 'Jake Jake', 'Jake Ai', 'Jake You'}\n",
      "\n"
     ]
    },
    {
     "name": "stdout",
     "output_type": "stream",
     "text": [
      "named entities - {'Ilsa Kiss', 'Berger', 'Rick', 'Herr Rick We', 'Rick Ugarte Rick', 'Ho', 'Russian Carl', 'Rick Oh', 'Rick Mademoiselle', 'Lund', 'Yvonne Rick', 'Herr Rick Sacha', 'Rick Do', 'Rick Ill', 'Monsieur Blaine', 'Reich', 'Wacht', 'Ilsa Richard Richard', 'Jan Rick', 'Monsieur Au', 'De Gaulle Can', 'Ilsa Laszlo', 'Louis The', 'Reich Rick', 'Mademoiselle Ilsa', 'Veuve Cliquot', 'Sam Ilsa', 'Richard Rick', 'Ferrari Signor Ferrari', 'Ilsa Play', 'Richard Victor', 'Laszlo', 'Rick Ilsa', 'Louis Ill', 'Rick Put', 'Enjoy', 'Rick Ugarte', 'Gestapo', 'Jan', 'Rick Goodnight Rick', 'Abdul', 'Ilsa Put', 'Ilsa Say', 'Blaine', 'Ilsa Rick', 'Signor Jan', 'Louis', 'Marseilles', 'Marseilles Rick', 'Rick Goodnight', 'Sam Rick', 'Monsieur Rick Monsieur Rick', 'Leuchtag Liebchen', 'Rick Shut', 'Liberte', 'Monsieur Rick', 'Ilsa Captain', 'Yvonne Sacha German', 'Strasser', 'Mrs Leuchtag', 'Rick Carl', 'Cointreaux', 'Richard Blaine American Age', 'Ill', 'Rick Laszlo', 'Louis Renault', 'Rick Signor Ferrari', 'Goodnight', 'Casablanca', 'Ilsa Raindrops', 'Sacha Fill', 'Signor Ferrari', 'Monsieur Rick Rick', 'Carl European', 'Rick Go', 'Ricky Renault', 'Mademoiselle Renault', 'Tonelli', 'Sam', 'Levantines Naval', 'Rick Sam', 'Herr', 'Sam Boss Rick', 'America Rick', 'Rick Stay', 'Leuchtag Frau Leuchtag', 'Berger Ugarte', 'Oran', 'Monsieur Rick Strasser', 'Victor Laszlo', 'Rick Will', 'Heinrich Strasser', 'Laszlo Ilsa', 'Carl Carl', 'Richard', 'Blaine Rick', 'Rick They', 'Rick Heres', 'Angriff', 'Oran Murderer', 'Rick Get', 'Rick Renault', 'Sam Sam', 'Ilsa Richard Victor', 'Lieutenant Casselle', 'Ilsa Ten', 'Ilsa Richard', 'As Time Go', 'Carl', 'Sacha', 'Rick Louis', 'Seine Rick', 'Casselle', 'Ilsa Ilsa', 'Baby Face Rick', 'Signor Ugarte', 'Herr Rick Rick', 'Sam Play', 'Rick Just', 'Cheerio Carl', 'Waiter', 'Rick Goodbye', 'Heinrich Strasser Strasser', 'Yvonne', 'Leuchtag Carl', 'Rick One', 'Rick Not', 'Ricky Rick', 'Ilsa Ilsa Play', 'Berger Berger', 'Rick Yvonne', 'Sam Ferrari', 'Rick Major', 'Sam Boss', 'Ilsa Ill', 'Abdul Abdul', 'Ilsa', 'Rick Rick', 'Rick Ferrari', 'Renault Rick', 'Rick Come', 'Shouts Halt', 'Ilsa Goodnight', 'Rick Then', 'Monsieur Rick Ilsas', 'Heinze', 'Rick Ext', 'Ferrari', 'Ilsa Lund', 'Rick Sam Boss', 'Marseillaise', 'Rick Jan', 'Victor', 'Rick Tonight', 'Herr Heinze', 'Bois', 'Louis Nobodys', 'Je'}\n",
      "\n",
      "named entities - {'Raymond Raymonds Voice', 'Mrs Kane Kanes', 'Junior Good Night', 'Mrs Kane Go', 'Laughter', 'Raymond', 'Mary Kane Little', 'Venus', 'J Mankiewicz', 'Herbert Carter Kane', 'Andy Jackson Old Hickory', 'Venuses Kane', 'Brad We', 'Charlie Kane Susan', 'Xanadu Kane', 'Alexander Susan', 'Howard Kane', 'Anderson', 'Benton Pulitzer', 'Brad Brad', 'Charlie Play', 'David Grobleski Davis', 'Kane Pull', 'Camera', 'Hearst', 'Bradford', 'Charles Foster Kanes', 'Mary Kane Raymond', 'Raymond Throw', 'Naturally Bernstein', 'Kane Charles', 'Raymond The Girl', 'Charles Kanes', 'Newsreel', 'Joseph Pulitzer Americas', 'Fame', 'Bertha Anderson', 'Kane Kane', 'Oliver Kane', 'Citizen Kane', 'Charles If', 'Banks', 'Monroe Norton', 'Ow Susan', 'Carter', 'Corey', 'Orson Welles Genres', 'Alexander All', 'Mr Kane Kane', 'Charles Foster Kane Camera', 'Mrs Kane', 'Maids', 'Susan Kane', 'Thomas Foster Kane', 'Gratefully Susan', 'Ow Kane', 'Mrs Kane She', 'Emily Kane', 'Charlie We', 'James Gordon Bennet', 'Silence Kane', 'Charlie Bernstein', 'Raymond That S', 'Richard Carl', 'Mrs Whitehall', 'Katherine', 'Teddy', 'Brad Ill', 'Frank Norris', 'Auld Lang', 'Brad Leland', 'Emily Charles', 'Susan Dissolve Out', 'Slight', 'Listen Kane', 'Thompson Leland', 'John Low', 'Insert', 'Kane Susan', 'Capitalistic Greed', 'Int Projection', 'Susan Everythingll', 'Carter Carter', 'Charles I', 'Kane Mr Carter', 'Bernstein Leland', 'Kane Hya', 'Kane Shot', 'Thatcher Charles', 'Mr Bernstein', 'Mr Kane', 'Charles Thatcher Voice', 'Jerrys', 'Charlie You', 'Charles Foster Kane Xanadu', 'Susan', 'Kane Jr', 'Raymond Marie', 'Rosebud Thompson', 'Reilly Leland', 'Leland Mr Bernstein', 'Charlie', 'Ben Hur', 'Kane Goodbye', 'Ill', 'Assassinated Newsboy', 'Churchill Shot', 'Goodnight', 'Murmur', 'Witholds', 'John Doe', 'Kane Mrs Kane', 'Carter Kane', 'Photograph Full Screen', 'Mike', 'Emily Norton', 'Charles Foster Kane', 'Susan Alexander', 'Charles Kane Wherem', 'Susan Narrator Kane', 'Leland Bernstein', 'Susan Alexander Kane Half', 'Rectors Brad', 'Susie', 'Susan Silence Kane', 'Fred Near', 'Syne Bernstein', 'Thatcher', 'Noah Contents', 'Kane Sr', 'Sorry Mr', 'Mr Kane Kane Ill', 'Bennett', 'Norton Kane', 'Walter Thatchers', 'Charles Kane', 'Junior Kane', 'Mike Mike', 'Charles Foster Kane Bernstein', 'Mrs Kanes', 'Bernsteins', 'Charles Rogers', 'Charles', 'Charlie Kane', 'Slowly Kane', 'Brad Lets', 'Charles Lets', 'Kane Ill', 'Hickville Gazette', 'Smile Susan', 'Dr Corey', 'Lets', 'Raymond Raymond', 'Susan Ill', 'Townsend', 'Susan You', 'Leland Charlie', 'Mary', 'Kane Papers', 'Kane Ready', 'Johnson', 'Georgie', 'Susan Alexander Kane', 'Charles Kane Sr', 'Charles You', 'Thompson', 'Reilly Run', 'Anderson Bertha', 'Miss Townsend', 'Alexander Mrs Kane', 'Kane Leland', 'Raymond Its The', 'Charles Foster Kane Narrator', 'Smathers', 'James Kane', 'Charles Foster Kane Then', 'Brad', 'Extreme', 'Mrs Kane Kane', 'Charlie Mrs', 'Charles Could', 'Rawlston', 'Jerry Third Newspaperman', 'Death Gun Street Shot Of Bucket Brigade Shot', 'Sloppy Joes', 'Ethel', 'Emilys', 'Mr Kane Good', 'Susan Shut', 'Mrs Kane Susan', 'Susan Susan Lets', 'Rawlston Thompson', 'Leland', 'Matisti', 'Eleven Kane', 'Mrs Tinsdall', 'Bernstein Bernstein', 'Miss Alexander', 'Signor Matisti', 'Foreman', 'Charles He', 'Hitler', 'Swung', 'Brad Georgie', 'Rawlston Hold', 'Nine Venus', 'Kubla Kahn', 'Bernstein', 'Arthur Ellis', 'Kane Kane Dear Wheeler', 'Charlie Another', 'Kane Mom', 'J Mankiewicz Orson Welles', 'Governement', 'Mrs Harry Silverstone Why', 'Oh Mr Kane', 'Kane Lock', 'Leland Kane', 'Mary Kane', 'Kane Raymond', 'Susie Thompson', 'Warden', 'Brad Bernstein', 'Teddy Roosevelt', 'Susan Right', 'Say Ill', 'Kane Re', 'Dr Corey Shell', 'Reilly Look', 'St Louis Kane', 'Mrs Kane Kane Sr', 'Mary Kane Value', 'Thatcher Bernstein', 'Sing Kane', 'Kane', 'Susan Susan', 'Charles Thatcher', 'Armada Off', 'Mrs Harry Silverstone Carter', 'Sanctrum', 'Merry Andrew', 'Auld Lang Syne', 'Mrs Charles Foster Kane', 'Charles Foster Kane Ii', 'Glad', 'Dissolve Int', 'Bernstein Kane'}\n",
      "\n",
      "None\n",
      "None\n"
     ]
    },
    {
     "name": "stderr",
     "output_type": "stream",
     "text": [
      "Traceback (most recent call last):\n",
      "  File \"<ipython-input-4-926e6ae6d1a6>\", line 34, in FinalExtraction\n",
      "    f = open(\"scripts/\"+title+\".txt\",'r')\n",
      "FileNotFoundError: [Errno 2] No such file or directory: 'scripts/Gone with  Wind.txt'\n",
      "Traceback (most recent call last):\n",
      "  File \"<ipython-input-4-926e6ae6d1a6>\", line 34, in FinalExtraction\n",
      "    f = open(\"scripts/\"+title+\".txt\",'r')\n",
      "FileNotFoundError: [Errno 2] No such file or directory: \"scripts/One Flew Over  Cuckoo's Nest.txt\"\n"
     ]
    },
    {
     "name": "stdout",
     "output_type": "stream",
     "text": [
      "named entities - {'Jack Scottie', 'Satisfied Pull', 'Fred Hansen', 'Johnny O Scottie', 'Ext Golden Gate Park Day', 'Madeleine Judy', 'Smiles', 'Midge Wood', 'John Ferguson', 'Sequoia Sempervirens', 'Castro House', 'Midge', 'Scottie Grins', 'Madeleine Dissolve', 'Move', 'Madeleine Search', 'Elsters', 'Press Madeleine', 'Hansen', 'Beyond Scottie', 'Judy Push', 'Closeup Madeleine', 'Saunders', 'Scottie', 'Indicates', 'Madeleine He', 'Judy One', 'Judy Barton', 'Judy Vendor', 'Sister Teresa', 'Johnny Scottie', 'Madeleine Ext Market', 'Jack', 'Ill', 'Judy Take', 'Pause Smiles', 'Madeleine Wander', 'Johnny', 'John Or', 'Mozarts', 'Judy Pull', 'Madeleine Ext Graveyard', 'Acrophobia Midge', 'Gavin Elster Midge Gavin Gavin Elster You', 'Madeleine Long Ago Scottie', 'Madeleine Ext', 'Sweet', 'Madeleine Scottie', 'Mozart', 'Judy Frighten', 'Ferguson', 'Scot', 'Scottie Hansen', 'Madeleine Elster', 'Judy Judy', 'Mozart Wolfgang Amadeus', 'Madeleine', 'Gavin Elster', 'William Fogarty', 'Judy Judy Barton Scottie', 'John Madeleine', 'Castro Rouse', 'Ripper', 'Flag', 'Madeleine Elster Scottie', 'Detective Hansen', 'Midge Midge', 'Foreman', 'John Scottie Wander', 'Bach', 'Samuel Taylor', 'Madeleine Her', 'Midge Ill', 'Scottie Hello', 'Judy', 'Ah Johnny Come On Scottie', 'Judy Scottie', 'Elster', 'Judy Repel', 'Johnny O', 'Ah Johnny'}\n",
      "\n",
      "named entities - {'Barcadia', 'Laughs Jeez Patrick', 'Evelyn Great', 'Christie Bateman Varda', 'Bateman Phill Collins', 'Paul Owen', 'Meredith Ill', 'Pat Bateman Nice', 'Patrick You', 'Owens', 'Courtneys', 'Ed', 'Phill Collins', 'Bateman Evelyn Evelyn', 'Bateman B Doorman', 'Patrick Mcdermott', 'Courtney Dorsia', 'Phil Collins', 'Bateman Listen', 'Oliver Peoples', 'Lacroix', 'Luis', 'Meredith Powell', 'Bateman Bateman Patrick', 'Bosco', 'Cecelia', 'Pierce Pierce', 'Courtney Patrick', 'Rutherford', 'Armani Bateman', 'Ivana Trump', 'Jean Pause Bateman', 'Gesture', 'Ivana', 'Soho', 'Bateman Talk', 'God Patrick Shut', 'Elvis Costello', 'Timothy Price', 'Spicey Christie', 'Donald Kimball Bateman', 'Pat', 'Annie Leibovitz', 'Hueys', 'Baselitz', 'Harold Carnes', 'Davis', 'Rockin', 'Courtney Patrick Turn', 'Pat Bateman', 'Hubert Ainsworth', 'Ted Bundys', 'Sweet Briar', 'Kimball Lets', 'Nells Kimball', 'A Whitney Houston', 'Wollensky', 'Al Bateman Speak', 'Eric Fischl', 'George Michael', 'Libby', 'Owen Bateman', 'Luis Courtney Light', 'Bateman Calm', 'Batemans', 'Evelyn Patrick', 'Bateman Courtney', 'Patrick Bateman Jesus', 'Jean Jean', 'Paul Owen Paul Owens', 'Bateman', 'May', 'Luis Next', 'Charles Rust', 'Elizabeth', 'Barneys', 'Ed Gein', 'Rail Van', 'Elizabeth Christie', 'Bateman Christie', 'Gorbachevs', 'Bateman Bitch', 'Harold', 'Sarah Lawrence', 'Patrick Batemans', 'Kenny G', 'Jean', 'Absolut', 'Huberts', 'Al', 'Rolex', 'Jean Hmmmm', 'Bateman Nuprin', 'Street Evening Bateman', 'Elizabeth Shell', 'Buzzing Jean Jean', 'Bateman The Sound Drop', 'Bateman He S', 'Bateman Dinner', 'Dorsia Bateman', 'Spencer', 'Charlie Sheen', 'Kimball Great', 'Sorry Any', 'Evelyns', 'Navajo', 'Ill', 'Victoria', 'Matsuda Jean', 'Malcolm Forbes', 'Rothschild', 'Cq Bateman Bateman', 'Bateman Courtney Dinner', 'Tex Mex', 'Valium Bateman Say', 'Jean Smile', 'Luis Int Batemans', 'Patrick Bateman', 'Ralph Lauren', 'Paul Owen Elizabeth', 'Bateman Be', 'Sussudio', 'Mcdermott', 'Kinsley Bateman', 'Carruther Patrick', 'Hmmm', 'Campbell Kimball Kimball Extend', 'Bateman Dorsia', 'Dunkin Donuts', 'Bateman Dan', 'Hilarious Davis', 'Tim Price', 'Bateman Bleach', 'David Salle', 'Harley Bateman', 'London Ill', 'Slowly Bateman', 'Bateman Van Patten', 'Marcus Halberstam', 'David Van', 'Tom Cruise', 'Bateman J B Straight Courtney Champagne', 'Pat Bateman Vanden', 'Patrick', 'Jean Patrick', 'Evelyn Marzipan Pink', 'Bateman Perrier San Pellegrino', 'Paul Owens', 'Pierce Pierce Int', 'Spicey', 'Laurie Kennedy', 'Owen', 'Wayfarer', 'Christie Bateman', 'Harry Newman', 'Jean Ummm', 'Craig Mcdermott Frederick', 'Whitney Houston', 'Christie Whitneys', 'Pamela', 'Tad', 'Turn', 'Saint Barts', 'Halcyon Bateman', 'Bateman V O', 'Stoli Bateman', 'Christie Before', 'Paul Normans', 'Gwendolyn Ichiban', 'Bateman Hmmm', 'Dalton Christie', 'Tribeca', 'Paul Owen Bateman', 'Mcdufus', 'Rolex Bateman', 'Int Batemans Apartment Afternoon', 'Edward Towers', 'Cynthia', 'Williams Patrick Batemans', 'Mr Smith', 'Jean You', 'The Baselitz Elizabeth', 'Jean O S', 'Courtney', 'Bateman Catching Luis', 'Frederick Bennet', 'Luis Carruthers', 'Price Bateman', 'Mrs Wolfe', 'Bateman Bateman', 'Suit', 'Al Bateman', 'Valentino', 'Ronald Reagan', 'Jesus Mcdermott', 'Waiter', 'Evelyn', 'Mcdermott Van Patten', 'Bate', 'Ted Bundy', 'Steuben', 'Courtney Patrick Bateman', 'Huey Lewis', 'Pierce Pierce Day', 'Mauras', 'Ricky Hendricks', 'Mary Harron', 'Bateman Shut', 'Matthew Markwalder', 'Bateman Elizabeth', 'Price', 'Halberstam Bateman', 'Ed Gein Maitre', 'George Butner', 'Evelyn Williams', 'Jesus Davis', 'Barcadia Int', 'Halberstam Paul Owen', 'Eames', 'Jean Hello', 'Doorman', 'Gorbachev', 'Laughs', 'Taylor', 'Bateman Patrick Bateman', 'Ronald Harrison', 'Bret Easton Ellis', 'Schnabel', 'Craig Mcdermott', 'Banks Collins', 'Daisy', 'Reed Robinson', 'Jean Sorbet', 'Walkman', 'Split', 'Donald Trumps', 'Helicopter', 'S Paul Owen'}\n",
      "\n",
      "named entities - {'Michael We', 'Arnold Rothstein Vito', 'Michael His View', 'Ola', 'Ext', 'Cohen', 'Pit', 'Vito Andolini', 'Michael Hurry', 'Ready Frankie Pentangeli Lets', 'Anthony Kay O S', 'Johnny Lips Vito', 'Michael Alright', 'Michael Put', 'Johnny Ola', 'Merle Michael', 'Fanuccis', 'Anthony Will', 'Carla', 'Michael Good', 'Speak', 'Hyman Hyman Suchowsky', 'Michael Its Connie', 'Tom Michael', 'Don Tomasino', 'Wonderful Sal', 'Michael Francesca', 'Mike Jesus Christ Mike', 'Anthony A', 'Mrs Corleone', 'Buttonmen', 'Deanna', 'Gearys', 'Anthony Vito Corleone', 'Michaels Mercury', 'Bussetta', 'Tom', 'Paul Jones', 'Michael Michael', 'Move', 'Michael Keep', 'Vito Paisan Augustino', 'Albert Neri', 'Lido De Paris', 'Michael Tonight', 'Hyman', 'Clemenzas', 'Waltz', 'Kay Kay View', 'Tom Tom', 'Michael Connie', 'Marshall Kay', 'Francie', 'John Ola', 'Johnny Lips', 'Rogers', 'Anthony Goodbye', 'Connie', 'Kay Kay', 'Sandra', 'Messrs Corngold', 'Rocco Lampone', 'Barretts', 'Klingman Get', 'Michael Pentangelis', 'Signora', 'Kay Michael', 'Michael Int', 'Rocco Michael', 'Vito Corleone', 'Tomasino', 'Castro', 'Don Francesco', 'Mother Wife', 'Michael Dissolve', 'Goddamn', 'Young', 'Jose Martis', 'Moe Greene', 'Michael Tom', 'Happy Birthday Roth', 'Michael Sit', 'Fredo Sonuvabitch', 'Sam Roth Welcome', 'Michael Corleones', 'Tom Hagen', 'Michael Anthony', 'Michael Gardner', 'Patrolman Stutz', 'Carlo Rizzi', 'The Leonardo Suite', 'Carlo', 'Joe', 'Michael Jeeze', 'Carol', 'Slowly Michael', 'Tom Int', 'Hyman Roth', 'Michael View', 'Carlos M Piedra', 'Sidney Barclay', 'Widow Sicilian Don Francesco', 'Michael Driver', 'Int Tiny Tenement Full', 'Fanucci', 'Fredo Goddamn', 'Hyman Rothstein Genco', 'Kay Theresa', 'Fredo Sorry Al', 'White', 'Ream', 'Stutz Watch', 'Fred Vincent', 'Michael Kay', 'Ill', 'Kill', 'Vito Chi Genco Roberto', 'Fredo Fredo', 'Frankie Pantangeli', 'Jack Unimportant', 'Rosatos', 'Arnold Rothstein', 'Jake Cohen', 'Johnny', 'Mike', 'Geary Ill', 'Michael Man', 'Tomasino Sit', 'Mrs Barrett', 'Vito', 'Michael Rocco', 'Quartet', 'Anthony Neri', 'Superman Johnny Ola', 'Vincenzo Pentangeli', 'Superman', 'Francis Ford Coppola Second', 'Carmella', 'Meyer Klingman', 'Sam', 'Payton', 'Carmine', 'William Proxmiro', 'Genco', 'Fredo', 'Gardner', 'Hagens', 'Esther', 'Michael Al', 'Salvatore Ormenta', 'Michael', 'Gardner Shaw Francesca', 'Reno', 'Kay Please', 'Demalco', 'Mikey Be', 'Neri', 'Grandson', 'Hyman Suchowsky', 'Michael Clemenza', 'Klingman', 'Michael Forget', 'Roth People', 'Michael Sandra', 'Michael Fellas', 'Fulgencio Batista', 'Grandchildren', 'Francis Ford', 'Michael Alone', 'Frankie Pentangeli', 'Michael Ext', 'Canapes', 'Mamas', 'Roth', 'Fran Barrett', 'Anthony He', 'Robert Allen', 'Senator Kane', 'Barrett', 'Ole Johnny', 'Don Corleone', 'Anthony Mama Hagen', 'Leon', 'Tony', 'Grandfather', 'Michael Hagen', 'Mary', 'Batistianos', 'Kay Anthony Daddys', 'Francies Uncle', 'Vito He', 'Michael Senator Gearys', 'Frankie', 'Reno Fredo', 'Mosca', 'Michael Corleone', 'Uncle Fredos', 'Uncle', 'Augustino', 'Geary Major', 'Mikey', 'Tessio Ext', 'Rocco', 'Gencos', 'Fredo Michael', 'Michael Yo', 'Habana Habana Ext', 'Michael Francis', 'Mike Ill', 'Don', 'Vito Int', 'Moe', 'Guantanamera', 'Hyman Roths', 'Merle', 'Policeman', 'Signor Abbandando', 'Antonio Andolini', 'Kay Ill', 'Merle Fredo', 'Waiter', 'Cicci', 'Mike Michael Then', 'Michael Find', 'Kays', 'Weak', 'Jacob Lawrence', 'Rum', 'Johnny Ola Ola', 'Ritchie', 'Michael Fredo', 'Nacionale', 'Michael Come', 'Anthony', 'Michael Fredos', 'Send Fredo', 'Sam Roth', 'Hitler', 'Roman Legions', 'Signora Colombo', 'Tony Blue Derosa', 'Anne Fredo', 'Willy Cicci', 'Humor', 'Stutz', 'Kay Anthony', 'Buon Natale', 'Willie Bufalino', 'Signor Fanucci', 'Tessio', 'Hyman Rothstein', 'Michael He', 'Paolo', 'Anthony Fredo', 'Kane Senator Kane', 'Michael Turnbull', 'Michael Frankie', 'Cent Anne', 'Sonny', 'Fredo Anthony', 'Kay Honor', 'Light', 'Kennedy', 'Rosato Roth', 'Vincenzo', 'Virgil Sollozzo', 'Michael Ola', 'Corleone', 'Gee Frankie', 'Jake Jake', 'Olas', 'Frankie Roth', 'Fred Corngold', 'Grandmother Connie', 'Pete Clemenza', 'Michael Mio', 'Ecce Agnus', 'Klingman Klingman', 'Tom Sandra', 'Uncle Carlo', 'Kane', 'Eisenhower', 'Signor Roberto', 'Kay', 'Paisan Hold', 'Santo Virgilio', 'Sam The American Embassy', 'Signora You'}\n",
      "\n"
     ]
    },
    {
     "name": "stdout",
     "output_type": "stream",
     "text": [
      "named entities - {'Terry Nice', 'Jimmy', 'Johnny Ill', 'Solari Terry', 'Terry Got', 'Luke Terry', 'Mutt Murphy', 'Sonny Shut', 'Charleys', 'Joseph', 'Johnny Stow', 'Group Shoot Shape', 'Terry Malloy', 'Kayo Nolan', 'Jackie', 'Joey Doyle', 'Barney Specs Sonny Truck', 'Terry Terry Want', 'Edie', 'Terry Other', 'Terry Nolan', 'Jackie Terry', 'Charley Charley', 'Wham Terry', 'Terry Gee Charley', 'Vincent', 'Terry Look', 'Stand', 'Barry Ill', 'Timothy J Nolan Terry Nolan', 'Moose', 'Terry Approach Pier Entrance', 'Joey Pop', 'Group Shot Pop Nolan', 'Terry Get', 'Barney', 'Gerry G', 'Pier Dayfather Barry', 'Johnny Guts', 'Terry Ill', 'Waterf', 'Edie Edie', 'Bye Edie', 'Glover', 'Long Shot', 'Luke Luke', 'Wilson', 'Terry Malloys', 'Pier Entrance', 'Group Shoot Hatch', 'Behind Johnnys', 'Terry Edie', 'Jimmy You', 'G Charley', 'Luke', 'Terry', 'Cousin Johnny', 'Terry Edie Edie Get', 'Mac Johnny', 'Terry Jocko', 'Johnny I', 'Jackie Jackie', 'Truck Sonny', 'Timothy J Nolan', 'Skins Johnny', 'Nolan Terry', 'Billy Conn', 'Moose Luke', 'Listen Edie', 'Johnny Pop', 'Terry He', 'Truck', 'Johnny On', 'Terry Startle', 'Luke Edie', 'Moose Tommy Luke', 'Hya', 'Terry Edie Edie Edie', 'Sonny Count', 'Terry Terry', 'Easy Easy', 'Johnny Friendlys', 'Terry Boss Stevedore', 'Mutt', 'Fog Wanna', 'Edie Ill', 'Ill', 'Doyle', 'Goodnight', 'Swifty', 'Sonny Truck', 'Flowers', 'Johnny Truck', 'Johnny', 'Tommy', 'Terry Charley', 'Terry Mutt', 'Skins', 'Terry Womans Voice', 'Mutt Longshoreman', 'Marquis', 'Terry Chick', 'Terry Terry Keep', 'Terry Mm', 'Mrs Collins', 'Joey Jimmy', 'Dead Edie', 'Joey', 'Mickey Mantle', 'Barry Int', 'Sonny Truck Barney', 'Terry Pop', 'Tommy Luke', 'Joeys', 'Kayo Medium', 'Swifty Terry', 'Keep Charley', 'Bang Bang Bang', 'Terry Father Barry', 'Mac', 'Deef', 'Sidney', 'Joey Terry', 'Group Shoot Longshoremen Pier Day Wait', 'Patrick', 'Joey Doyles', 'Fix Joey', 'Moose Tommy', 'Charley Ext Medium', 'Terry Edie Edie', 'Charley', 'Mary', 'Vince', 'Boy', 'Sonny Skins', 'Tommy Edie Tommy Collins', 'Barry', 'Shh Sonnys', 'Kid', 'Terry Sonny Truck', 'Clerk Name', 'Andy', 'Specs', 'Johnnys He', 'St Paul Come', 'Jackie Jackie Aah', 'Glover Really Terry', 'Longshoremen', 'Terry Grab', 'Jimmy Conners', 'Barrys', 'Nolan', 'Friendlys', 'Johnny Gimme', 'Truck Terry', 'Terry Terry Terry', 'Sonny Johnny', 'Kayo Yours', 'Shut', 'Jackie He', 'Jocko', 'Jimmy Jimmy', 'Hendrick Krajowski', 'Truck Johnny', 'Into', 'Johnny Johnny', 'Johnny Terry', 'Terry Rileys', 'Sonny', 'Kayo', 'Terry You', 'Dya', 'Knock', 'Terry Jimmy', 'Gerry G Charley', 'Terry Keep', 'Hail Marys', 'Danny', 'Charley Terry', 'Joey Tell', 'Shh', 'Barry Close Shoot', 'Edie Terry', 'Uncle Johnny', 'Morgan', 'Standin', 'Johnny Shut', 'Terry Strike'}\n",
      "\n",
      "named entities - {'Vilma Banky', 'Normas', 'Crosby', 'Norma Desmond Home Max', 'Max Max Gillis Max', 'Com Max', 'Chaplin', 'Gillis De Mille', 'Schwabadero', 'Betty Schaefer E Norma', 'Joe Gillis', 'Rudys Shoe', 'Bill Demarest One', 'Demille', 'Pearl White', 'Desmond Head', 'Artie Artie', 'Max Want', 'Desmond As', 'Max Max', 'De Mille', 'Zeus', 'Hog', 'Betty Nobody', 'Donald Duck', 'Desmond House Max', 'De Mille Gillis', 'Barbara Stanwyck Artie', 'Artie Good', 'Artie Hurt', 'Auld Lang', 'Charles Brackett', 'John Gilbert', 'Bel Air', 'Artie Ill', 'Morino', 'Max Pull', 'Joe Without', 'Betty Schaefer', 'Bronson', 'Betty Shut', 'Gillis Gillis', 'Barbara Stan', 'Studio', 'Maxs', 'Gordon Cole De Mille', 'Joe', 'Artie', 'Skolsky', 'White', 'Ill', 'Automatically Gillis', 'Norma Desmond B', 'Betty Schaerer', 'Betty Ill', 'Lamarr', 'James Joyce Dostoosvsky Sheldrake Name', 'Norma Get Out Gillis', 'Brooks', 'Norma Desmond Gillis', 'Norma Jonesy', 'Mocambo Romanoff', 'Gillis Norma', 'Carthay Circle', 'Gillis E Patio Night Dark', 'Norma Hea', 'Betty Schaefers', 'Max', 'Gilberts', 'Somebody', 'Parlor Rudy', 'Valentinos', 'Gillis Ill', 'Hedy Lamarr St', 'Murphy', 'Betty You', 'Max Ill', 'Num', 'Betty Hutton', 'Rinso White', 'Rudy', 'Corridor Norma', 'Sarah Bernhardt Betty', 'Desmond Its Bessie', 'Rod La Roque', 'Norma Desmond', 'D W Grirrith C B Demille', 'Hand Norma Desmond', 'Technicolor', 'Lady Agatha', 'Norma Norma', 'Or Ill', 'Joan', 'Joseph C Gilliss', 'Nights', 'Norma Desmonds', 'Schaefer', 'Valentino', 'Gordon Cole', 'Joseph C Gillis Gillis', 'Joe Joe', 'Thru', 'Norma Mad', 'Mack Sennett', 'Alan Ladd Good', 'Betty Phillip', 'Sunset', 'Sunset Gillis', 'Bach', 'Gordon Cole Norma', 'Artie Green', 'Norma', 'Norma Demille', 'Wallace Reid', 'Betty Schaeter Sheldrakes', 'Mr De Mille', 'The Mack Sennett', 'Desmond Norma', 'Miss Schaefer Betty Goodbye Mr Gillis', 'Max To Gillis', 'Miss Kramer', 'Adolphe Menjou', 'La Traviata', 'Norma Joe', 'Hollywood Gillis', 'Oscar', 'Gillis', 'Forgotten Star', 'Jonesy', 'Desmond', 'Max Tell', 'Billy Wilder D M Harshman', 'Norma Nonsense'}\n",
      "\n",
      "named entities - {'Dan Nurse', 'Forrest V O', 'Momma Mrs', 'Flashlight', 'Ford', 'Lynett Alice Fromme', 'Hurry Boy', 'Forrest Gump', 'Drill Sergeant', 'Gunshot', 'Forrest Bubba', 'Bubba Gump', 'Anchorman', 'Louise Louise', 'Jenny Hug', 'Sarah Jane Moore', 'Wesley Jenny', 'Jean Harlow', 'Forrest Maam', 'Carla', 'Jimmy Hood', 'Dan', 'Lt Dans', 'Color', 'Bert', 'Lt Dan', 'John Lennon Forrest V O', 'Int Greenbow Barber Shop', 'Jenny', 'Nixon', 'Forrests', 'Houng', 'Male Nurse Harper', 'Jenny One Base', 'Johnson Goddamn', 'Jenny Run', 'Jenny Shut', 'Dan Lt Dan', 'Dan Run', 'Dan Shrimpin', 'Abbie Hoffmann', 'Carter', 'Elvis Presley', 'Graham', 'Curious George', 'Lieutenant Dan', 'Dan Susan', 'Man Hold', 'Tex', 'Black Panther', 'Forrest Stop', 'Robert Kennedy', 'Bobbie Bobbie', 'Bubba Bubba', 'Forrest Forrest Jenny', 'Walk', 'Winston Groom Genres Comedy Drama User', 'Bayou La Batres', 'Mommy', 'Coach Naw', 'Reagan', 'Dan Strongarm', 'Forrest Jr', 'Hilary Come', 'Goddamn', 'Momma', 'Abbie Hoffman', 'Winston Groom Ext', 'Gilligan', 'Jennyd', 'Abbie', 'Graham Newsman', 'Kangaroo Men', 'Forrest Forrest V O', 'Forrest Help', 'Vietnams', 'Bobbie Dylan', 'Abbie Hoffman Abbie Hoffman', 'Tex Tex', 'Dan Pull', 'Forrest Mommas', 'Susan', 'Jenny You', 'Ernie', 'Forrest Momma', 'Charlie', 'Lyndon Johnson', 'Hilary Follow', 'Ill', 'Greenbow Ill', 'Jenny I', 'Lynn Marie', 'Candy', 'Kangaroo Color', 'Flex O Ping Pong Paddle', 'Tommy', 'Lieutenant Dan Taylor', 'Jenny Take', 'Ext Greenbow Mrs Gump', 'Jenny Quit', 'Benjamin Buford Blue Bubba', 'Charles Manson', 'Whoo', 'Forrest Jenny', 'Dan Ho Get Your', 'Forrest Everybody', 'Forrest Int Army', 'Charlie I', 'Wesley', 'George Wallace', 'Ruben Shut', 'Johnson We', 'Squeaky', 'Newscaster Charles Cooper', 'Comin', 'Lt Dan He', 'Cunning Carla', 'Billy Git', 'Hail', 'Dan Get', 'Old Boy', 'Night Bubba', 'Forrest Mrs Gump', 'Forrest Earl', 'Gomer Pyle', 'Roger Strongarm', 'Johnson', 'Uncle Sam', 'John Lennon', 'Jenny The Box', 'Long Limbs', 'Dan Hello', 'Lt Dan Lenore Danny', 'Wesley Wesley', 'Neil Armstrongs', 'Hilary Ill', 'Jenny Hsh Daddys', 'Fourth Platoon', 'Dan Blow', 'Momma Ext Greenbow Night Mrs Gump', 'Dorothy Harris', 'Forrest Pray', 'Mrs Blue', 'Mrs Gump', 'Goddammit', 'Elvis', 'Cooper Larson', 'Jenny Ill', 'Louise', 'Dan Ext', 'Bayou La Batre Alabama', 'Jenny Jennys', 'Johnson America', 'Dan Patron', 'Hilary Stand', 'Shut', 'Dan Lieutenant', 'Marilyn Monroe', 'Forrest Abbie Hoffman', 'Jenny Jenny', 'Leg Lima', 'Dick Clark', 'Forrest Recruit', 'Dan Tyler', 'Dan Goddammit', 'Gerald Ford', 'Gump You', 'Wallace', 'Kennedy', 'Jennys', 'Jenny Touch Forrests', 'Dan Mount', 'Forrest We', 'Dan Colemans', 'Bob Hope', 'Joan Baez', 'Mao Tse', 'Greenbow Alabama', 'Bubba', 'Bubbas', 'Split', 'Jenny Jenny Come', 'Dick Cavett', 'Forrest Good', 'Gump Mao', 'Bayou La Batre', 'Ext Lincoln'}\n",
      "\n",
      "None\n"
     ]
    },
    {
     "name": "stderr",
     "output_type": "stream",
     "text": [
      "Traceback (most recent call last):\n",
      "  File \"<ipython-input-4-926e6ae6d1a6>\", line 35, in FinalExtraction\n",
      "    text = f.read()\n",
      "  File \"C:\\Users\\vaibh\\anaconda3\\lib\\encodings\\cp1252.py\", line 23, in decode\n",
      "    return codecs.charmap_decode(input,self.errors,decoding_table)[0]\n",
      "UnicodeDecodeError: 'charmap' codec can't decode byte 0x9d in position 14054: character maps to <undefined>\n"
     ]
    },
    {
     "name": "stdout",
     "output_type": "stream",
     "text": [
      "named entities - {'Luke Ill', 'Luke X', 'Threepio Chewie', 'Int Cloud', 'Vader Mind', 'Vader Pietts', 'Threepio Threepios', 'Relieved Luke', 'Cockpit Leia', 'Ohhh', 'Landos', 'Skywalker', 'Afraid Han', 'Blood', 'Powerful Jedi', 'Veerss', 'Leia', 'Ben Yoda', 'Zevs', 'I Lando', 'Threepio Artoo', 'Small', 'Crack', 'Needa', 'Junk', 'Luke Try', 'Leia Star Destroyer', 'Hobbie', 'Darth Vader Boba', 'Luke Ben', 'Artoo Luke', 'Ben Luke', 'Fett Han', 'Leias', 'Lando Han', 'Luke Luke', 'Vader Alert', 'Quickly Chewie', 'Luke Artoo', 'Luke', 'George Lucas Lawrence', 'Ord Mantell', 'Detach Han', 'Cockpit Luke', 'Zev', 'Jedi Hm Luke', 'Jedi Knight', 'Cockpit', 'Ben Ben Han Hang', 'Wampas', 'Chewie', 'Anything', 'Afraid', 'Shoo Shoo Han', 'Behind Luke', 'Surrender', 'Mynocks Han Go', 'Leigh Brackett', 'Luke Dagobah', 'Leia Vader', 'Ill', 'Solo Captain Solo', 'Mynock', 'Whew Luke Dagobah Han', 'Luke Yoda', 'Int Gantry', 'Again Luke', 'Jedi Mmm Luke', 'Furious Threepio', 'Vader Meanwhile', 'A Jedi Vader', 'Steady Rogue', 'Hans', 'Leigh Brackett Genres Action', 'Vader A', 'Spark', 'Vader', 'Steady Luke', 'Vane Luke', 'Luke Ext', 'Yoda Han', 'Boba Fetts', 'Shocked Luke', 'Han Leia', 'Boba Fett Lando', 'Threepio Int Cloud', 'Yoda', 'Chewie Leia', 'Leia Lando', 'Luke Ben Leia', 'Lukes', 'Artoo', 'Chewbacca', 'Threepio', 'Dack Dack', 'Lando Leia', 'Luke Aaargh Luke', 'Leia Shut', 'Yoda Luke', 'Janson', 'Angry Han', 'Princess Leia', 'Quietly Yoda', 'Cockpit Lando', 'Buzz', 'Ben', 'Hans Tauntaun', 'Hmm Control', 'Darth Vader Two', 'Scoundrel Scoundrel', 'Skywalker Hans', 'Leia Int', 'Cockpit Asteroids', 'Ben Luke Luke Luke', 'Headquarters', 'Luke Ben Even Yoda', 'Darth Vader Stand', 'Deploy', 'Breathe', 'Derlin', 'Rieekan', 'Veers', 'Quickly Luke', 'Piett Piett', 'Int Vaders Star', 'Jedi Ben', 'Luke Han', 'Luke Skywalker', 'Wan', 'Rebel', 'Luke Vader', 'Ben Ben Luke', 'Lando Chewie', 'Han Landos', 'Piett', 'Holding Leia Chewie', 'Solo', 'Ben Ben', 'Right Ill', 'Darth Vader', 'Han Luke Luke', 'Platform Three', 'Fett', 'Luke Ben Ben', 'Dack', 'Alert', 'Luke Int', 'Needa Ext', 'Solo Landos', 'Ben Kenobi', 'Boba Fett', 'Luke Leia', 'Yoda The Jedi Master', 'Luke Dack Dack Dack', 'Vader Luke', 'Cockpit Han', 'Jedis', 'Int Lukes Snowspeeder', 'Chewie Ill', 'Artoo Hurry', 'Yoda Concentrate Annoy', 'Vader Vader', 'Leia Ill', 'Threepio Leia', 'Lawrence Kasdan', 'Dack Attack', 'Jedi', 'Threepio Han Hurry', 'Lando', 'Set'}\n",
      "\n",
      "named entities - {'Frank C Pooles', 'Kaminsky', 'Floyd', 'Dave My', 'Meter Bowman', 'Mr Halvorsen', 'Mommy', 'Floyd Ill', 'Be Hold', 'Hal', 'Tomb', 'Roger Poole Hal', 'Hal Bowman', 'Bowman Hal', 'Marshall', 'Newspad Bowman', 'Frank', 'Miles', 'Frank Hello', 'Stanley Kubrick', 'Pilot', 'Halvorsen', 'Dave You', 'Hal Hal My F P C', 'Dave Pause', 'Simpson', 'Dr Floyd', 'Bowman Listen', 'Macys Floyd Good', 'Tell Mommy', 'Bowman', 'Hal Roger', 'Hyewood', 'Hal Roger C', 'Hal Poole', 'Hal Well', 'Frank Poole Hal', 'Hello Frank', 'Nick Miller', 'Bowman Ignores Him Hal', 'Lunar', 'Dinosaurs', 'Dave Bowman', 'Miss Turner', 'Hal Unless', 'Hal Hal', 'Ill', 'Mrs Brown', 'Daisy Daisy', 'Floyd Holds', 'Clarke Kubrick', 'B Orion Iii Passenger Area', 'Gregor', 'Deep Space Monitor', 'Dave Shall', 'Bush', 'Moon', 'Pilot Ill', 'Floyd Heywood', 'Frank Wave', 'Sun', 'Simonson', 'Andre Smyslov Smyslov And'}\n",
      "\n",
      "named entities - {'J J Gittes', 'Jake Care', 'Downstream', 'Hauls', 'Lou', 'Mrs Evelyn Mulwray', 'Gardener', 'Evelyn Whoever', 'Russ Yelburton', 'Evelyn Ill', 'Salt', 'Into Shot', 'Relax Mulvihill', 'Hollis Mulwray', 'Mrs Mulwrays', 'Wallet', 'Claude Mulvihill', 'Curly Start', 'Robert Knox Emma Dill', 'Evelyn Either', 'Blood', 'Evelyn Mulwray', 'Evelyn He', 'Barney', 'Maids', 'Lou Escobar', 'Dad Want', 'Walsh Walsh', 'Gittes Shut', 'Curly Ill', 'Somebodys Dump', 'Alto Vallejo', 'Byrd', 'Morty', 'Escobar', 'Katherine', 'Walk', 'Robert Knox', 'Gitte Join', 'Whitey Whitey Cmon', 'Jasper Lamar Crabb', 'Earl Int', 'Armour', 'Evelyn Evelyn Unless', 'Florsheim', 'Mrs Mulwray', 'Sophies', 'Feel', 'Dad', 'Walsh Mrs Mulwray', 'Hollenbeck Bridge', 'Crippled Farmer Get', 'Oakie', 'Cmon Ill', 'Evelyns', 'Frigidaire', 'Ill', 'Curlys', 'Tom Collins', 'Clerk Say', 'Gee Lou', 'Whitey Mehrholtz', 'Mulvihill', 'Loach', 'Gittes Gittes', 'Buick', 'Morty Morty', 'Photograph Grainy', 'Ensenada', 'Sam Bagby', 'Pedro Ill', 'Hollie', 'Ida Sessions', 'Evelyn First', 'Yelburton', 'Shirley Temple', 'Alley Morty', 'Evelyn Evelyn', 'Lamar Crabb', 'Rio Seco', 'Packard Dubois', 'Loma Linda', 'Maid', 'Mulvihills', 'Walsh Duffy', 'Kid', 'Walsh Shut', 'Earl', 'Mrs Mulwray Evelyn', 'Escobar Cmon', 'Evelyn Int', 'Photograph', 'Kyos', 'Whitey', 'Evelyn', 'Sessions Walsh', 'Sessions', 'Robert Towne', 'Walsh', 'Leroy Shuhardt', 'Mrs Evelyn', 'Gittes', 'Mrs Match', 'Emma Dill', 'Evelyn Take Duffys', 'Evelyn Holds', 'Pilot', 'Brushes', 'Lorenzo Jones', 'Gittes Bad', 'Ida Gittes', 'House Adelaide Drive Gittes', 'Sugar Lemon', 'Clerk', 'Pedro', 'Bagby', 'Lip Dam', 'Lip', 'Walsh Sue', 'Frozen', 'Ida', 'Loach Escobar', 'Belle Another Coroners', 'Mens', 'Curly Carry', 'Mulvihlll', 'Wanna', 'Kyo', 'Jake As', 'Whynt', 'Mrs Mulwray Good'}\n",
      "\n",
      "named entities - {'Lina Lina', 'Sunbeams', 'Dexter Hello', 'Donald Wise', 'Kathy See You', 'Pierre Pierre', 'Singin', 'Shakespeare Ibsen', 'Lina Try', 'Shakespeare', 'Don Good', 'Dye', 'Donnie', 'Donald Lockwoods', 'Lina Lina Lina', 'Guten Morgen', 'Lockwood', 'Dora', 'Lina', 'Linas', 'Speak', 'Bert', 'Kathy Come', 'Rouge Noirof', 'Gay White Way', 'Sunset', 'Mr Simpson', 'Lamont Don', 'Joe', 'Lina Lamont', 'Dora Bailey', 'De Landsfield', 'Rollem', 'Yvonne Yvonne', 'Farewell Ethel Barrymore', 'Lady Macbeth', 'Don Lockwood', 'Dexter', 'Selden', 'Donald Lockwood', 'Dad', 'Calvin Coolidge', 'Warner', 'Phil', 'Kathy Selden Kathy You', 'Dancin', 'Sinful Caesar', 'Hurry', 'Samuel J Snodgrass', 'Lamont', 'Kathy Kathy', 'Ready Don', 'Ill', 'Pierre De Bataille', 'Kathy Selden', 'Dream', 'Kathy Go', 'Lina Lamont Ladies', 'Pierre', 'Rhythm Got', 'Sip', 'Toro Toro', 'Kathy', 'Olga Mara Ooh', 'Shh', 'Lina Heh', 'Milady', 'Iwould', 'Split', 'Swell', 'F Simpson', 'Don', 'Bert Bert', 'Dig'}\n",
      "\n",
      "named entities - {'Mary Ill', 'Hackett Jo', 'Ruth', 'Tom Ill', 'George George George Mr Gower', 'George George Mr Gower Mr Gower', 'Harry Attaboy Harry', 'Billy Potters', 'Joe Hepner', 'George Mr Gower', 'Mary Would', 'George George Mother', 'Hurry Maria Maria', 'George George Ernie', 'Mary Freddies Voice', 'Pete Mommy', 'Ruth Dakin Bailey', 'Joseph', 'Ed', 'Mary Hello Listen', 'Potter', 'Salt', 'Billy Zuzu', 'George Int', 'George Nick', 'Robert', 'Cousin Tillys', 'Bert', 'Sam Int', 'Randall', 'Harry As', 'Albert Hackett', 'Truman', 'Tom Sawyer', 'Campbell George George', 'Laura Uncle', 'George George', 'Stand', 'George Geographic Explorer Bailey', 'Shot Janie', 'Bedford Falls Violet', 'Harry Bailey Feverishly George', 'Gowers', 'George Hello', 'Gower Come', 'Loan Ill', 'Partridge', 'Peter Baileys', 'Mary Come', 'Ma Bailey', 'Sam Momma', 'Tom', 'George Better', 'Marty', 'Move', 'Jane', 'George Bailey Sam', 'Carter', 'Campbell', 'Hee', 'Ext Bedford Falls', 'George Georges', 'George Bailey Mother', 'Pete', 'George Want', 'Marty Remember Marty Dance', 'Joseph Suddenly Clarence', 'Pottersville', 'George Sam So', 'Tom Tom', 'Peter Bailey', 'Merry', 'Sam Sams', 'Mary George', 'Goliath', 'Ruth Dakin', 'George George George', 'Harry George', 'Cook', 'Walk', 'Bailey', 'George Ernie', 'Auld Lang', 'Sole Mio Bailey Park', 'George The', 'Mrs Hatch', 'George Pete', 'Mrs Welchs', 'Shot Sam', 'Mary George Hmmmm', 'Mary Mother', 'Mary Int Potters Office In Bank', 'Bailey Harry', 'Mary Medium Closeup George', 'Violet Bick', 'Young', 'Carter Carter', 'Hs', 'Mary Lo', 'Harry Ruth Dakin', 'Mrs Welch', 'Harry Cousin Eustace', 'Billy George', 'Joseph Thanks', 'Joe', 'Potters', 'Harry Be', 'George Bailey Ill', 'Ernie Bishop', 'Mother Harryll', 'Mickey', 'Reineman', 'Billy Ma', 'Bedford Falls', 'Mary Sam Wainwright', 'Welch', 'Kappa Bailey', 'George Aw', 'Bailey Nick', 'George Mother Ma', 'Potter Bailey He', 'Pandemonium', 'George Mrs', 'Mary Sams', 'Mary Headlights', 'Sam Hee', 'Charlie', 'Ernie', 'Bridal Suite', 'Ill', 'Mary Well', 'Mary Int', 'Mary Hello', 'Tom Sawyer George', 'Mary F R A N K', 'Joseph Jesus', 'Zuzus', 'Bush', 'Tommy', 'George Medium Close Shot George', 'Eustace Parlez', 'Gabriel', 'George Lassos', 'Sam Wainwright', 'Mrs Blaine', 'Mary You', 'Mr Bailey', 'Martini Nick', 'Bert Ernie', 'Medium Closeup', 'George Pop', 'George Thar', 'Sam', 'Schultz', 'Martini Ill', 'Harry Bailey', 'George Bert', 'Close Shot George Mary And Ernie George', 'George Uncle', 'Int Zuzus Bedroom Night Full Shot', 'Nick', 'The Sam Hill', 'Josephs', 'Harry', 'Buffalo Gals', 'Pete Janie Zuzu', 'George George Darling Int', 'Mary Hatch', 'Mrs Davis', 'Charlie Ill', 'Marty Momma', 'Morris', 'Int Luggage', 'Mrs Bailey George', 'George Harry', 'Close Shoot Mary And George On Porch George', 'Close Shot George', 'Mrs Macklins', 'Sam Wainwrights', 'Violet Bick George', 'Browns', 'Marty Hatch Sam', 'Merry Christmas Glad', 'George Bailey Potter', 'Mark Twains', 'Mary', 'Sam Sam Still', 'Hurry', 'George Goodbye Jane', 'Gower Int', 'Georgie', 'George Touch Bert', 'Tom Ed Charlie', 'Bedford Falls George', 'George George Ill', 'Mary Help', 'Harry Oh You Old', 'George Goodbye', 'Mary George Bailey', 'Uncle', 'Liver', 'Nick Nick', 'Nick George', 'Peter Bailey George', 'Martha', 'Uncle Billys', 'George Lap', 'Gower', 'Georges', 'George Play', 'Cousin', 'Cousin Eustace', 'Shoot Sam Wainwright', 'David', 'Harry Aw', 'Gower Ummmm Gower', 'Mrs Bailey', 'Bert Bert Stand', 'Mrs Martini', 'Eustace Bailey', 'Harry Harry Harry', 'Harry Harry', 'George Hold', 'Mary Go', 'Martini', 'George Annie', 'George Mickey', 'Janie', 'George Good', 'George Throw Marys', 'George Baileys', 'George Bailey Help', 'George Gosh', 'George Bailey Clarence', 'Fine Janie', 'Tom Sawyers', 'George For', 'George Bailey Without', 'George Tommy', 'Mary Wait', 'Harry He S', 'George Ill', 'Henry F Potter', 'Mary Bedford', 'Granville', 'George Another Angle', 'Pan Shot', 'Mary Janie', 'George Bailey Franklins Voice', 'Mary About', 'George Merry', 'Spotlights', 'Carter Ill', 'Mary George George', 'George As', 'Mary Ouch George Gesundheit', 'Mother George', 'Mt Bedford', 'Baileys', 'Harry Harry Bailey', 'Pete Pete', 'Blatz', 'George Baileyoffski', 'George Hee', 'George Harry Come', 'George George Hmmm', 'Joes', 'George You', 'George', 'Cousin Tilly Bailey', 'Ernie George', 'Medium Closeup George', 'George George George George', 'George George Come', 'Mrs Thompson', 'Kennedy', 'Janie Tommy', 'Harry Annie', 'Harry Medium Shot George', 'Hello Sam', 'Mary Mary Remember The Night', 'Mary Tommy', 'George Bailey', 'George Freddie', 'Gower George George George', 'Harry Sam', 'Mary Have', 'George Zuzu', 'Closeup George', 'George George Would', 'Mary Mrs', 'Merry Christmas', 'George Bailey Clarences', 'George Bailey She', 'Harry You', 'Zuzu'}\n",
      "\n",
      "named entities - set()\n",
      "\n"
     ]
    },
    {
     "name": "stdout",
     "output_type": "stream",
     "text": [
      "named entities - {'Come Antare', 'Esther', 'Come Antares Rigel', 'Solomon', 'God', 'Down Eros', 'Tirzah Tirzah', 'Miriam', 'Antares', 'Antare Come Rigel', 'Joshua', 'Judah Tirzah', 'Joseph We', 'Lay', 'Esther Tirzah Esther', 'Judah Ben Hur Judah Ben Hur Iet I', 'Guard Unlock', 'Messala Restore', 'Aldebaran Rigel', 'Valerius Gratus', 'Miriam God', 'Arrest', 'Rest', 'John', 'Judah Ben Hur', 'Stand', 'Fire Steersman', 'Messala Judah', 'Messala', 'Thou', 'Agree Treat', 'Tirzah', 'Jailer Jailer', 'Austere Virtuous Roman', 'Hail Caesar', 'Hurry', 'Messala You', 'Simonides', 'Esther Promise', 'Ill', 'Steady Aldebaran', 'Fine Damascus', 'Battle', 'Hail Jupiter', 'Raise Withdraw Steersman', 'Esther Judah Stay', 'Messala Go', 'Jehovah', 'Young Arrius', 'Bring Tirzah', 'Mark', 'This Ben Hur', 'Michael Move', 'Gratus', 'Citizens', 'Leave Judea', 'Quintus Arrius'}\n",
      "\n",
      "named entities - {'Willard Better', 'Sec Intelligence Nha Trang', 'Walt', 'Green Beret', 'Kilgore Lance Johnson', 'Willards', 'Gaston', 'Cong', 'Kurtz', 'De Marais', 'Colonels Huey', 'Walter Kurtz Willards', 'Willard Cmon', 'Kurtz Ill', 'Philippes', 'Tran Van Kac Then', 'Sec Intel', 'Willard Kurtz', 'Muhhh Fuhhh', 'Willard Colby', 'Comsec', 'Hueys', 'Terri', 'Willard He', 'Vung Tau', 'Roxanne', 'L Willard', 'Gastons', 'Gooks', 'Willard Guns', 'Willard Ill', 'Lo Mung Bridge', 'Roxanne Gaston', 'Roach', 'Jeff', 'Kilgore Napalm', 'Lieutenant Bomb', 'Cook', 'Tran Van Kac', 'Willard Steer', 'Rotors', 'Lance Any', 'Asshole Schmuck', 'Nha Thrang', 'Kurtzs', 'Gaston De Marai', 'Headquarters Corps', 'Francis Ford Coppola', 'Goddamn', 'Jet', 'Bullshit', 'Nu Mung Ba Fade Out Fade', 'Bill', 'Gook Killer', 'Walter Kurtz', 'Ace', 'Kilgore Fires', 'Gunfire', 'Mm', 'Nam', 'Jack', 'Charlie', 'Ill', 'Nu Mung Ba', 'Roxanne Je', 'Willard Get', 'Willard', 'Johnny', 'Mike', 'Lance Boss', 'Colby', 'Willard Anyone', 'Shoot', 'Vin Drip', 'Willard Well', 'Charles They', 'Willard Good', 'Willard The Chief', 'Willard Chef', 'Philippe', 'Chris', 'Roxanne Roxanne', 'Willard Full', 'Burn', 'Willard The', 'S Russian Ak S', 'Street Gang', 'Gaston De', 'Willard Esprit De', 'Willard Moonby', 'Francis Ford', 'Willard Willard', 'Rice', 'Lance Nah Willard', 'Spotter', 'Henry Lefevre', 'Kurtzs Wife', 'Kilgore He', 'Ohhhhhhhh', 'A Weatherby Magnum', 'Lop', 'Roxanne Whe', 'Moonby Kurtz', 'Bob', 'Bay', 'Headquarters', 'Charlie The Chief', 'Splotches', 'Willard Dreadful Agent', 'Heroin The Gold Of The Golden Triangle', 'Mark', 'Cam Rau Bay', 'Willard Look', 'St Lefevre Chefs', 'Grenade', 'Waiter', 'Charlie Colby', 'Bat Shan', 'Charlie Willard Look', 'Davy Crockett', 'Vin Drin', 'Kilgore Body', 'Willard V O Two Hour', 'Sec Command', 'Jets', 'Charlie He', 'John Milius Inspire', 'Colonels', 'Roxannes', 'Willard A', 'Willard Med', 'Joseph Conrads Heart Of', 'Willard Fires', 'Lieutenants', 'Blare', 'John Milius Joseph Conrad Genres Action', 'Lance Gunners Mate Third', 'Kurtz Willard', 'Noise', 'Americains', 'Strong Arm', 'Bob Hope', 'Koolaid', 'Moonby', 'Elevate Lance', 'Sec Intelligence Corp', 'Kurtz Kurtz', 'Viets', 'Mike Boss', 'Ann Marie'}\n",
      "\n",
      "named entities - {'Mozart Constanze', 'Bonno Von Swieten', 'Joseph Bravo Mozart', 'Mozart Herr Mozart', 'Salieris', 'Joseph Ah', 'Hurt', 'Joseph', 'His Majesty All', 'Herr Schikaneder', 'Dudi', 'Shyly', 'Salieri Bene', 'Composer', 'Int Chamberlain Von Stracks Study Day', 'Husband', 'Mozart Majesty Joseph', 'Gluck Gluck', 'Sire Joseph', 'Peter Shaffer Genres Drama User', 'Speak', 'This Majesty Joseph It', 'Herr Mozart', 'Int Mozarts Apartment Bedroom', 'Andrai', 'Fraulein Schlumberg Schlumberg Strudel', 'Constanze Weber', 'Mother Salieri', 'Vogler', 'Majesty Orsini', 'Behold Third Lady', 'Bonno Count Orsini Rosenberg', 'Commendatore Shut', 'Michael Schlumberg', 'Leopold Mozart', 'Wolfgang', 'Mozart Pupil', 'Cavalieris', 'Flame', 'Crema Al Mascarpone Mozart', 'Joseph Excuse', 'Mozart Mio', 'Joseph Please Mozart', 'Sophie', 'Joseph Gentlemen', 'Joseph Bravo', 'Contessa Susanna Cherubino', 'Susanna', 'Commendatore', 'Ein Madchen', 'Harlequin', 'Gypsy', 'Papa Papa', 'Silently Mozart', 'Papa Constanze', 'Triumph De', 'Valet Mmmm', 'Honour', 'Joseph Good', 'Cook', 'Sire Von', 'Herr Sommer', 'Ich Mochte', 'Mozart Papa', 'Leopold Hush', 'Herr Salieri', 'Calmly', 'Veramente Salieri', 'Ottavio', 'Young', 'Der Kaiser', 'Hannah', 'Salieris Cook', 'Signore Mozart', 'Salon Count Arco', 'Monkey', 'Laughter Papageno', 'Joseph Would', 'Herr Mozart Constanze', 'Bonno', 'Leopold Am', 'Relieve Mozart', 'Zeman Mandi', 'Wolfgang Constanze', 'Rosenberg Bonno', 'Anything Name', 'Leopold Sorry', 'Herr Wolfgang Amadeus', 'Leopold You', 'Orsini Rosenberg', 'Von Strack', 'Requiem', 'Ill', 'Mozart Sssh', 'Leopold Mine', 'Goodnight', 'Strack', 'Signore Sono', 'Katherina Ill', 'Mozart Majesty', 'Herr Mozart Mozart', 'Emmanuel Schikaneder', 'Joseph Enchanted Madame Madame', 'Schlumberg', 'Clever', 'Vivat Bacchus', 'Elizabeth Mozart', 'Don Giovanni', 'Mozarts', 'La', 'Arco', 'Joseph How', 'Mochte Wohl Der Kaiser', 'Cu Constanze', 'Seraglio We', 'His Majesty', 'Herr', 'Mozarts Piano Concerto', 'Int Mozarts', 'Michael', 'Mozart Schikaneder', 'Don Giovannnnnnnnnni', 'Michael Mozart', 'Sire', 'Strew', 'Josephs', 'Joseph Cattivo', 'Antonio Salieri', 'Mozart Leave', 'Fraulein Frau', 'Salieris Valet', 'Mozart', 'Ma', 'Statue', 'Fraulein Good', 'Mozart Shut', 'Joseph Ii', 'Joseph The', 'Salieri Von Swieten Constanze', 'Mozart Sra', 'Countess', 'Signore Please Be', 'Joseph Why Orsini', 'Papageno', 'Leopold Your Majesty Constanze', 'Pause Joseph', 'Etc Papagena', 'Sopranos', 'Embarrassed Mozart', 'Mozart Start', 'Behold', 'Joseph Delightful Court', 'Gulden', 'Candle', 'Constanze', 'Behold Second Lady', 'Wolfgang Mozart', 'Lorl', 'Herr Mozart Mozart Tea', 'Ich Mochte Wohl Der Kaiser', 'Majesty', 'Warily Mozart', 'Ah Mozart', 'Joseph Sit', 'Fraulein Lorl', 'Saremo', 'Arten Schikaneder', 'Karl Madame', 'Puss', 'Constanzes', 'He Offer', 'Sire Joseph Oblige', 'Don Giovannnnnnnni', 'Int Chamberlain', 'Papagena', 'Weibchen Papageno', 'Seraglio Schikaneder', 'Antoinette', 'Stanzi', 'Wolfi Mama', 'Overjoy', 'Signor Antonio', 'Schikaneder Mozart', 'Von Strack Orsini', 'Nonsense Strudels', 'Hapsburg', 'Leopold V O I', 'Schlumberg Gertrude Frau Schlumberg', 'Grace', 'Dona Eis Pacem We', 'Joseph Mozart', 'Qui Tollis', 'Mozart Guess Guess Majesty Imagine', 'Truly Mozart', 'Behold Pepper Second', 'Mozart Mozart', 'Karl Salieri', 'Joseph You', 'Mozart Sire', 'Mozart Joseph', 'Constanze Just', 'Michael Schlumberg Bluff', 'Karl', 'Int Staircase Outside Old', 'Von Strack Orsini Rosenberg', 'Bach', 'Behold Ottavio', 'Constanze Josefa', 'Nervously Mozart', 'Joseph She', 'Wolfgang Mozart Grazie', 'Rosenberg Mozart', 'Snow', 'Joseph Really Salieri', 'Bonno Salieri', 'Weibchen', 'Minor Mozart', 'Stabat Mater', 'S Joseph', 'Salieri Mozart', 'Int Mozarts Apartment Bedroom Dawn', 'Flam', 'Herr Chamberlain', 'Sire Joseph Lets', 'Signore', 'Mozart Name', 'Ba Ba', 'Int Mozarts Apartment', 'Mozart Frau', 'Fraulein Schlumberg', 'Papers', 'Majesty Joseph', 'Salieri Lorl', 'Leopold', 'Mozart Ill', 'Mozart Wolfgang Amadeus Mozart', 'Joseph Well', 'Strudel', 'Fraulein'}\n",
      "\n",
      "named entities - {'Theoden', 'Gollum Sam', 'Frail', 'Sam Gandalf', 'Pippin Boromir', 'Peter Jackson', 'Elrond Arwen Angle', 'Violent', 'Theodens', 'Rohan', 'Shire', 'Arise', 'Hobbit', 'Theoden Charge', 'Aragorn May', 'Sam Rip Cobwebs', 'Death Forth Eorlingas', 'Sam You', 'Flame', 'Smithy', 'Boromir', 'Gollum', 'Minas Morgul', 'Faramir Tell', 'Twist', 'Steward', 'Yells', 'Frodo Sam Sam Call', 'Minas Tirith Elrond', 'Go Angle', 'Merry', 'Gandalf', 'Amon Din', 'Treebeard Gimli Lets', 'Deagol Ext', 'Sauron', 'Speak Pippin', 'Little Hobbits', 'Entire Orc', 'Pippin Pippin', 'Sam Alight', 'Aragorns', 'Vibration', 'Pip Pippin', 'Miles', 'Mithrandir', 'Frodo Baggins', 'Aragorn You', 'Sam Frodo', 'Brown', 'The Cave Troll', 'Fran Walsh Philippa Boyens', 'Pippins', 'Smeagol', 'Ill', 'Bony', 'Legolas', 'Gimli', 'Frodo', 'Sam Angle', 'Sorry Uncle', 'Grimbold', 'Farewell Peregrin', 'Frodo Sam', 'Sam', 'Gollum Gollum', 'Supplies', 'Sam Stop', 'Bilbo Baggins', 'Ride', 'Merry Merry Come On Push', 'Eomer', 'Condor', 'Hurry Get', 'Sam Merry', 'Echoes', 'Sam Screams', 'Denethor', 'Hail', 'Legolas Theoden', 'Mordor', 'Minas Tirith', 'Faramir', 'Arwen Undomiel Slow Motion', 'Onen', 'Sam Sam', 'No Sam', 'Frodo Sam Sam', 'Samwise Gamgee', 'Hurry Frodo', 'Frodo Sam Merry', 'Weathertop Sam', 'Uncle', 'Denethor Son', 'Ranger', 'Minas Tirith Gandalf', 'Shirt', 'Sam Not', 'Horror', 'Merry Gandalf', 'Helms Deep', 'Aiya Earendil', 'Frodo Frodo', 'Beast', 'Sam Elanor', 'Sam Hello', 'Snowbourne Gamle O', 'Shut', 'Cobwebs', 'Gaffer Sam', 'Sam Come', 'Bilbo', 'Destroy', 'Aim', 'Mace', 'Sam Sorry', 'Morgul', 'Leaves', 'Aragorns Head Slow Motion', 'Quick Beat', 'Gollums', 'Doom Sam', 'Sam Get', 'Rosie Cotton', 'Torch', 'Helmet', 'Int Misty Mountain Caves', 'Paladin', 'Dead Sam', 'Doom', 'Pippin', 'Galadriel'}\n",
      "\n"
     ]
    },
    {
     "name": "stdout",
     "output_type": "stream",
     "text": [
      "named entities - {'Wolf', 'Commodus Maximus', 'Commodus Hail', 'John Logan', 'Proximo Proximo', 'Juba Life', 'Assassin', 'Gracchus', 'Falco Beware', 'Lucillas Handmaiden Commodus', 'Empire Reborn', 'Farewell Maximus', 'Stand', 'Lucilla', 'Soldier Stop To Prisoner', 'Juba Better', 'Maximus Lucilla', 'Flame', 'Maximus Juba', 'Lucillas Commodus', 'Blessed Mother', 'Leeches', 'Glaring Commodus', 'Gaius', 'Prince Anthill Lucius', 'Juba You', 'Albert Speer', 'Lucilla Commodus', 'Wine', 'Juba Juba', 'Juba I', 'Tiger', 'Juba We', 'Juba', 'Marcellus Head', 'Kids Maximus', 'Maximus', 'Valerius Valerius', 'Ill', 'Maximus Maximus', 'Commodus', 'Evening Maximus', 'Vibius', 'Lucilla Mark', 'Maximus Proximo', 'Boy Maximus', 'Felix Regiment', 'Meanwhile Commodus', 'Marcus Commodus', 'Limbs', 'Lucius Commodus', 'Handmaiden', 'Gauls', 'Juba Proximo Come Maximus', 'Lucius Juba', 'Gold Maximus', 'Lucilla Lucius', 'Falco', 'Commodus Commodus', 'Jubas', 'Hail Caesar', 'Juba Vibius', 'Frozen Commodus', 'Silence Maximus', 'Caesar Commodus', 'Bedouin', 'Commodus Lucilla', 'Aurelius Commodus', 'Commodus Where Handmaiden', 'Prisoner', 'Dead Maximus', 'Whenever Tiger', 'Commodus Int', 'Maximus Gladiator', 'Gallus', 'Int Colosseum Trainers Lair', 'Uncle Commodus', 'Vibias', 'Marcellus', 'Trainer', 'Stunned Commodus', 'Gracchus Lucilla', 'David Franzoni', 'Butterfly', 'Commodus Join', 'Unseen', 'Valerius', 'Thinks Lucilla', 'Maximus Commodus', 'Tiger Commodus', 'Frozen', 'Vibius Juba', 'Proximos', 'Marcus', 'Proximo', 'Legionnaires', 'Medieval', 'Lucillas', 'Lorica Segmentata', 'Maximus Meridas', 'Rome Imagine', 'Maximus Ill'}\n",
      "\n",
      "named entities - {'Ruth Shell', 'Wolf', 'Ext', 'Groans', 'Ruth', 'Jack Jack Jack', 'Rose Around', 'Cosmos', 'Jackie', 'Murdoch', 'Mary Marvin', 'Bobby Buell', 'Niagara', 'Marvin', 'Explodes Jack', 'Jakc', 'Helga', 'Jack Slams', 'Jd The', 'Jack Rose Fabrizio', 'Behind Smith Boxhall', 'Lowe', 'Thankyou Andrews', 'Lovett Bobby', 'Russian Next', 'Hockly', 'Akademik Mistislav Keldysh', 'Mrs Calvert', 'Mrs Dewitt Bukater', 'Hesketh', 'Stand', 'Lewis Bodine', 'Husband Hold', 'Rose Dawson', 'Into Frame F G', 'Cosmo', 'Rose Fabrizio', 'Jack Jaaacckk Cut', 'Brock', 'Jacks', 'Rose Ruth', 'Murdoch Ill', 'Keldysh Lovett Bodine Buell', 'Aubert Mrs Guggenheim', 'Cinderella Jack', 'Andrews', 'Mr Dawson Cal', 'Dessert', 'Steward', 'Waltz', 'Groan', 'Enjoy', 'Bodine', 'Lady Duff Gordon', 'Sven Jack', 'Helga Jack', 'John Jacob Astor', 'Titanic', 'Welshman', 'Bobby', 'Fabrizio', 'Seamen Scarott', 'Behind Jack', 'Ruth Ruth', 'Come Josephine', 'Bert Cartmell', 'Rose Jack', 'Investors Lovett', 'Ruth Grab', 'Jack Ill', 'Murdoch Murdoch', 'Louis', 'Quarters Lightoller', 'Hurls', 'Roses Pov', 'Engineer James', 'Rose Dewitt Bukater', 'Harold', 'Murdoch Iceberg', 'Jack Dawson', 'Clara Bow', 'Lead', 'Manchester', 'Nearby Fabrizio', 'Daniel Marvins', 'Broken', 'Hitchins Harda', 'Chippewa Falls', 'Deck Andrews', 'Jack Gutpuches', 'A Cal Daimond', 'Engineer Bell', 'Deck Jack', 'Southanmpton England', 'Buell', 'Cora Cora', 'Steward Barnes', 'Stairwell Fabrizio', 'Pandemonium', 'Laid', 'Helgas', 'Brown', 'Cal Cal', 'Jack', 'Lee', 'Carpenter Hutchinson', 'Jack Gracie', 'Cora Cartmell', 'Ill', 'Chippewa Falls Dawsons', 'Cal Jack', 'Jack Ruth', 'Jack Starts', 'Baker', 'James Cameron Blackness', 'Snoop Dog', 'Cal You', 'Boat', 'Grin Fabrixio', 'Water', 'Roses', 'Tommy', 'Barret', 'Ruth Care', 'Lovett Brock', 'Calvert', 'Ismay', 'Bruce Ismay', 'Pier', 'Trudy', 'Geraldo', 'Anatolys', 'Evans', 'Downangle', 'Lizy', 'Lightoller', 'Zat', 'Mrs Buell', 'Thomas Andrews', 'Shutup Jack', 'Jack Cal', 'Molly Brown', 'Monet', 'Al Well', 'Cora', 'Int Belowdeck', 'Monsieur Monet', 'Lewis', 'Jack Dawson Astor', 'Freddy', 'Benjamin Guggenheim', 'Officer Wilde', 'James Cameron Genres Drama', 'Int Stairwell Jack', 'Jack Jack', 'Colt', 'Kick', 'Lovett Buell', 'Jack Back Go', 'Salad', 'Cal', 'Astor', 'Smith', 'Countess', 'Quartermaster Hitchins', 'Murdoch Shoots', 'Rose Can', 'Galathea', 'Jack Fabrizio', 'Capito', 'Barrett', 'Da Da Da', 'Murdoch Lets', 'Ben', 'Mary', 'Unlock', 'Madonna Yeeaaaaa', 'Hurry', 'Margaret Brown', 'Madeleine', 'Carpathia', 'Goodnight Jack', 'Rose Looks', 'Madeleine Astor', 'Ismay Andrews', 'Mr Dawson Rose', 'Rose Andrews', 'Caledon Hockley', 'Jack Dawson Ruth', 'Smiths', 'Scrawl', 'Lizzy Grandma', 'Keldysh', 'Isador Strauss', 'Jack People', 'Lovett Lizzy', 'Jack Take', 'Gracie', 'Rose Cal', 'Waiter', 'Millionaire Suite', 'Int Cal', 'Jacob Astor', 'Lee Fleet Cor', 'Calverts', 'Good Heavens', 'Rose Hold', 'Gundersen Jack', 'Tommy Fabrizio', 'Reginald Lee', 'Lovejoy', 'Daimler', 'Sorry Fabrizio', 'Lamerica', 'Please Jack', 'Jack Come', 'Shut', 'Lizzy', 'Dave Barry', 'Charles Herbert Lightoller', 'Near Tommy', 'Cal Ben', 'Sacks', 'Lovett', 'Dawson', 'Louis Quinze', 'Duff Gordon', 'Wallace Hartley', 'Biograph', 'William Carters', 'Boxhalls', 'Fred Barrett', 'Paul Bunyan', 'Tommy Ryan', 'Mr Dawson', 'Lovett Ill', 'Bobby Bobby Bobby', 'Lock', 'Jack Colonel', 'Webley', 'Husband Goodbye', 'Cedar Rapids', 'Byles', 'Cartmell', 'Truly Jack', 'Murdoch Hard', 'Aubert', 'Rose Pov', 'Brock Lovett', 'Murdoch Lightoller'}\n",
      "\n",
      "named entities - {'Prew Trainin', 'Lou Gehrig', 'Clark Anderson', 'Mrs Kipfer', 'Maggio Maggio', 'Maggio Nair', 'Ike', 'Sergeant Stark', 'Cho Eat', 'Milton Anthony Warden', 'Mazzioli', 'Stark Ill', 'Slater', 'Perfeckly', 'Alma', 'Sal Anderson Another', 'Maggio Lose', 'Anderson', 'Slater Galovitch', 'Holmes Furious Sergeant Galovitch', 'Barman', 'Wardens', 'Levas Angle', 'Lava', 'Treadwell Ahm', 'Philippes', 'Sergeant Stark Stark', 'Lee Prewitt', 'Prew Flashes Prew', 'Maggio Prew', 'Wop You', 'Angelo Warden', 'Holmes Take', 'Sergeant James R Judson Prew', 'Robert E Lee', 'Move', 'Almas', 'Pete', 'Sergeant Warden Explodes', 'Ross', 'Mrs Kipper Angelo', 'Yea', 'Stark Fatsos', 'Reveals Warden', 'Maureen Ohara', 'Thornhill', 'Holme', 'Choate Henderson', 'Prewitt Ext Quadrangle', 'Wilson', 'Company Bugler', 'Fatso Fatso', 'Sandra', 'Lorene Warden', 'Tearful', 'Rita Hayworth', 'Fatso', 'G Warden', 'Maggio Mess', 'Joan Blondell', 'Top Warden', 'Lady Astor', 'Maggio', 'Fatso Warden Throw', 'Joy', 'Latrine Detail Dis', 'Blues Anderson', 'Lava Warden', 'Holmes Karen', 'Maggio Shut', 'Pete Karelsen', 'Anderson Thornhill', 'Medium Shot Mazzioli', 'Bill', 'Holmes Holmes', 'Broken', 'Anything', 'Prew', 'Holmes', 'Medium Shoot Warden', 'Maggio Thas', 'Driver Shut', 'Leva', 'Compny Warden', 'Japsll', 'Grins', 'Lieutenant Ross', 'Karelsen', 'Warden Warden', 'Maggio Lissen', 'Lorene Prew', 'Bill Bill', 'Holmeb', 'Ill', 'Wardenll', 'Angelo', 'Hula', 'Prew Prew', 'Willard', 'Maggio Stop', 'Anderson Clark', 'Group Shot', 'Warden Stark Karelsen', 'Bugler', 'Mazzioli Holmes', 'Compny', 'Group Shoot Bayonet Practice', 'Treadwell', 'Levas Pov', 'Pov Lorene', 'Mussolini', 'Galovitch Thornhill', 'Holmes Voice', 'Karen', 'Sergeant Warden', 'Anybodys', 'Dixie', 'Williams Holmes', 'Prewitt Thornhill Ike', 'Lorene Lorene', 'Galovitch Medium Shoot', 'Warden Karelsen Stark', 'Fatsos', 'Reveal Karelsen', 'Dana', 'Prew Warden Hello', 'Neither Fatso', 'Holmes Try', 'Galovitch Prew', 'Taps', 'This Sergeant Galovitch', 'Prew Shot Galovitch', 'Williams', 'Waikiki', 'Dhom Wilson', 'Mp Mp Come And Get Us', 'Long Shoot', 'Dana E Holmes', 'Scranton', 'Dixie Wells', 'Maggio Fatso', 'Treadwell Ad', 'Robert E Lee Prewitt Holder', 'Holmes Plenty', 'Group Shot Warden', 'Chuckles', 'Galovitch', 'Shafter Warden', 'Maggios Voice', 'Drawn', 'Prewitt Robert E Lee Prewitt', 'Mumbling Leva', 'Topkick', 'Holmes Quit', 'Custer Prew', 'Gimbels', 'Prewitt You', 'Warden Ill', 'Uncle John S', 'Headquarters', 'Compny Clerk', 'Galovitches Pov Prew', 'Lavas', 'Holmes Success', 'Maggio Fatso Fatso', 'Dana Holmes', 'Sergeant Galovitch', 'Milt', 'Lorene', 'Maggios', 'Fatso Judson', 'Prew Warden Whynt', 'Maggio Enjoy', 'Milt Warden', 'The Re Enlistment Blue', 'Buglers', 'Clark Anderson Treadwell', 'Prew Maggio', 'Dana He', 'Anderson Warden Help', 'Galovitchs', 'Prewitt Prew', 'Gorgette', 'Whym', 'Clark', 'Holmes Smile', 'Martini', 'Wop', 'Compny Ill', 'Lee Ra', 'Wilson Henderson', 'Galovitch Stark', 'Prew Ill', 'Stark', 'Prewitt', 'Fatstuff Ill', 'Leva Stark', 'Buddha', 'Medium Close', 'Daniel Taradash', 'Peels', 'Mrs Kipfers', 'Bill Hello', 'Ike Galovitch', 'Williams Galovitch', 'Prewitts', 'Warden', 'Karen Leva', 'Company Prewitt Warden', 'Galovitch Weakly', 'Clark Clark', 'Maggio Man', 'Holmes Write', 'Maggio Comin', 'Karens', 'Sergeant Thornhill', 'Holmes Feature Warden Warden', 'Prew Bettern', 'Sergeant Karen', 'Sooner', 'Tattoo', 'Roxanne The', 'Joyously Close Shot', 'Wilson Stark'}\n",
      "\n"
     ]
    },
    {
     "name": "stdout",
     "output_type": "stream",
     "text": [
      "named entities - {'Sarge Drive Miller', 'Then Miller', 'Reiben Jackson', 'James Ryan Forrest Ryan Miller', 'Ryan Ryan', 'Ramelle Upham', 'Jackson Capn', 'Falls', 'Forrest Just', 'Reveal Miller', 'Boom Miller', 'Anderson', 'Mulberry', 'Jackson Capn Miller', 'Simpson Sarge Simpson', 'Baker Charley', 'Sarge Reiben', 'Drifts', 'Forrest Ryan', 'Simpson', 'Sarge Keep', 'Ramelle', 'Falls Rolls', 'Path', 'Richard Reiben', 'Rangers Reiben Jackson', 'Jackson Ryan', 'Grapples', 'Goddamned Ryan', 'Thomas', 'Hamill', 'Sarge Miller Put', 'Sarge Ill', 'Sibelius Fourth Symphony', 'Delancey The', 'Fritz', 'Start', 'Sullivan', 'Kraut', 'Leave Ryan', 'Push', 'Shell Land', 'Freeze', 'Ryan Win', 'Turret', 'Trail', 'S Ryan Reiben Look', 'Pats Ryan', 'David Pritchett', 'Radioman', 'Wary Miller', 'Ryan Miller', 'James One', 'Young', 'Goddamn', 'Uphams', 'Marshall', 'Jackson', 'Ryan Reiben', 'Afraid', 'Jackson Jackson', 'Sarge Speaks', 'Miller', 'Lovely Dew', 'Ryan Look', 'Robert Rodat', 'Normandy', 'Delancey Captain', 'I Miller', 'Reiben Glad', 'Ill', 'James Ryan Miller', 'Reibens', 'Delancey Miller', 'Glass', 'Covers Miller', 'Tommy', 'Louder Miller', 'Booms Miller', 'St Michel', 'Jackson Shut', 'Mrs Rachel Troubowitz', 'Radioman Try', 'Captain Miller', 'Explosion', 'Lucy', 'Grabs', 'John Miller Miller', 'Forrest Three', 'Sarge Miller', 'Ryan He', 'Piss', 'Game Miller', 'Sarge Miller Sarge', 'John Miller', 'Capn Miller', 'Forrest Miller', 'Sarge', 'Caens', 'Hamill Get', 'Martha', 'Ranger', 'Ramelle Captain', 'Ramelle Km Miller', 'Sarge Ryan', 'Plenty Miller', 'James Ryan', 'Wade Miller', 'Reiben Time', 'Reiben Miller', 'Beasley', 'Artillery Miller', 'Motorman', 'Private Ryan', 'Captain Hamills', 'Squads Hurry', 'Incoming Miller', 'Wade', 'Delancey', 'Motoraman', 'Jesus Miller', 'Radioman Stay', 'Radioman Captain', 'Reiben Goddamn', 'Upham Miller Miller', 'Fold', 'Ill Ill Ryan', 'Sarge Sarge Turn', 'Into', 'Deadly Beyond', 'Ryan', 'Hudson Ryan', 'Sarge Rolls', 'Frozen', 'Brush', 'Ryan Lots', 'Capn', 'Jackson Know', 'Faulkner', 'Jackson Fires Again', 'Wades', 'Miller Ill', 'Jackson I', 'Dark Miller Jackson', 'Lemme', 'Granddad', 'Sssssh Miller'}\n",
      "\n",
      "named entities - {'Penny', 'Bill Seein Claudia', 'William', 'Ned Logan Ned', 'Lippy Macgregor', 'Ned Ill', 'Little Bill Int', 'Elroy Quincy', 'Ned Worms', 'Kid Munny', 'Morgan', 'Bill Stand', 'Kid The Kid', 'Bawhoom Munny', 'Mrs Peevey', 'Lo', 'Quick Mike', 'Hendershot', 'Whup Hammer', 'David Webb Peoples Production', 'William Bonney', 'Munny Ned', 'Kid Ned', 'Munny Cover', 'Ned Little', 'Billy Munny Ned', 'Ned Sally Munny', 'Clyde', 'Bill Hell', 'Duke Ww', 'Bob Boys', 'Ned Ext', 'Little Sue Davey', 'Watcha', 'Enemy Bob You', 'Bob Hell', 'North Munny', 'Bill You', 'Strawberry Alice', 'Bill Daggett', 'Munny', 'Tom', 'Silky', 'Bill Him', 'Ned Kid', 'Ext Hog', 'Bill Andy', 'Hendershot Munny', 'Inn Andy', 'Johnny Foley', 'Bill Who', 'Roberts', 'Whippin', 'Candlelight Ned', 'Bonaparte', 'Skinny', 'Tom Munny', 'Little Bills', 'Kid You', 'Clyde Ledbetter', 'Yup', 'Joe Crocker', 'Ned Well', 'Pete Sothows', 'Bill Munny', 'Drummer', 'Jim I', 'Billiard', 'William Harbey', 'William Munny', 'Shit Clyde', 'Andy Little', 'Bill', 'Joe', 'Munnt', 'Joe Schultz', 'Billy Billy Munny', 'Ned The Kid', 'Buck', 'Pov Mike', 'Lemmee', 'Spencer', 'Munny Munny', 'Jack', 'Mrs Feathers', 'Ill', 'Greelys', 'Int County Office Night Ww', 'Sally Two', 'Fuzzy', 'Bill Charley', 'Corky', 'Bang Bang', 'Johnny', 'Mike', 'Davey Munny', 'Quincy', 'Munny Shut', 'Bob English Bob', 'Wesson', 'Bill Be', 'Tom Luckinbill', 'Delilah', 'English Bob', 'Bill Munny Ext', 'Corky Corcoran', 'Charley Hecker', 'Charlie Pepper', 'Queen', 'Munny Lemmee', 'Bobs', 'Bang Bang Bang', 'Mike Mike', 'Andy Neds', 'Garfield', 'Munny Jesus Bill', 'Bob The Duck', 'Chandler', 'Ned', 'Bill Innocent', 'Bill Bam', 'Bill Fuzzy', 'Alice Alice', 'Blam Munny', 'Jim', 'Bill Little', 'Munny Beat', 'Little Bill', 'Charley', 'Mike Yup', 'Munny Lookin', 'Fatty Rossiter', 'Ned He', 'Billiard Room Little', 'Sue', 'Shit Ned', 'Alice', 'Gitto Thirsty', 'Schofield Kid', 'Thurston Fuzzy', 'Medicine Hat', 'Alice Nobodys', 'Clay Alisson', 'Ned Ned', 'Jesus Bill', 'Bob', 'Corcoran', 'John Bull', 'Starr', 'Kid', 'Misfire Kill', 'Bob Ww', 'Beauchamp', 'Buck Buck', 'Andy', 'Surprisingly Davey', 'Munny You', 'Bill Munny Munny', 'Ned Sorry Ned Guess', 'Bill First', 'North', 'Bill The', 'Daggett', 'Munny Ill', 'Little Bill I', 'Thirsty Thirsty', 'Sold Mike', 'Bob Little', 'Th', 'Charlie Hecker', 'Greelys Beer Garden', 'Death English Bob', 'Ned Logan', 'The Kid', 'Shut', 'Little Sue', 'Skinny Dubois', 'Ned Hurry', 'Paw', 'Stark', 'Bill Clyde', 'Skinny Down', 'Chri', 'Billiard Room', 'Ned Roundtree', 'Henry', 'Bob Stayin', 'Bill Hold', 'Munny I', 'Andy Be', 'Bill Roof Jesus Skinny', 'Beauchamp Ww', 'Sue Silky Kate', 'Bill He', 'Andy Russell', 'Aint', 'Little Bill Skinny', 'Uncle Pete', 'Barber', 'Macgregor', 'Thirsty', 'Leastways', 'Neds Spencer', 'Albino', 'Bill Word'}\n",
      "\n",
      "named entities - {'Rocky Mickey', 'Roosevelt', 'Rocky Yo Mick', 'Merry Christmas Now', 'Rocky Marie', 'Mac Lee Green', 'Mr Balboa', 'Rocky Dyou', 'Conners', 'Paulie Ya', 'Benny Stein', 'Billy Dukes', 'Thanksgivin', 'Marie', 'Mick', 'Rocky Paulie', 'Ext Atomic Hoagie Shop', 'Jack Dempsey', 'Jimmy Michaels', 'Spider Rice', 'Readin', 'Manassa Mauler', 'Jergens Desk Jergens', 'Mickey Boy', 'Mickey Mickey', 'Hope', 'Commentator', 'William Penn', 'Gazzos', 'Benny', 'Loser', 'Goldmill', 'Mike Hey', 'Rocky Spider', 'Attack Attack Attack Apollos', 'Apollo Mickey', 'Goldmills Gym Out', 'Whatta', 'Louis', 'Winner', 'Rocky Jergen', 'Paulie Paulie', 'See Paulie Andy', 'Paulie Paulie Shutup', 'Rocky Known', 'Joe', 'Rizzos', 'Mickey', 'Rocky Mike', 'Commentator Apollo', 'Andy Drink', 'Mickey Whatta', 'Larry Duggan', 'Mr Gazzo', 'Mm', 'Brown', 'Creed', 'Rocky He', 'Paulie Rocky', 'Rocky Gazzo', 'Mickey Ya', 'Apollo Creed', 'Joe Zack', 'Ill', 'Bent', 'Bustin', 'Miles Jergens', 'Paulie Stop', 'Mike', 'Benny Meet', 'Walker', 'Apollo Cmon Lemme', 'Nail', 'George Washington', 'Goddamnit', 'Autographs Ya', 'Sylvester Stallone', 'Paulie Ai', 'Miles Jergens Jergen', 'Win Rocky Win', 'Rocky Yo Paulie Paulie', 'Gazzo', 'Rocky Bobs', 'Gazzo Hey', 'Paulie', 'Rockys', 'Yo', 'Helen Keller', 'Please Rocky', 'Rocky Balboa', 'Killer', 'Uncle Sam Beard', 'Roseman', 'Rice', 'Miles Jergen Please', 'Commentator Creed', 'Lets', 'Ben Benny', 'Jergens', 'Cinderella', 'Miles Jergen', 'Mickeys Gym', 'Cleaner Time', 'Marciano', 'Joe Frazier', 'Ya', 'Tony', 'Fascinatin Rhythm', 'Uncle Sam', 'Del Rio', 'Honky', 'Joe Louis', 'Mickey Keep', 'Dipper', 'Stop Stop', 'Bob', 'Rocky Flips', 'Balboa', 'Timekeeper Rings', 'Mickey Wanna', 'Halfway', 'Andy', 'Buddy Shaw He S', 'Gazzo Ya', 'Yo Bruce', 'Condominium Nobody', 'Butkus', 'Mafia Yo Rock How S', 'Rocky Marciano', 'Hear Rocky', 'Sure Ill', 'Freak', 'Mickey Goldmill', 'Rocky Yo', 'Firpo', 'This Bruce Bruce', 'Cornerman Ya', 'Mike Ya', 'Dipper Apollo', 'Yo Gloria', 'Martin Luther King Jr Ben Franklin', 'Benny Ai', 'Apollo Ribs', 'Trainer', 'Cleaner', 'Rocky Ya', 'Beethoven', 'Bobby Judge', 'Commentator Jerry Simpson', 'Rocky Gazzo Yo Rock', 'Laughing Andy', 'Fats Bob Rocky', 'Walkin', 'Mick Mickey', 'Rocky Yo Butkus Dead Play', 'Cmon', 'Apollo Ill', 'Phillys', 'Bodyguard Bet Three', 'Paulie Yo Rock', 'Yo Rocks', 'Knock', 'Inflamed Mike', 'Marie Marie', 'Henry Wilcoxson', 'Yo Paulie Ya', 'Mickey Dipper', 'Ext Atomic Hoagie Shop Night Gazzo', 'Yo Dipper', 'Frazier', 'Wanna', 'Cornerman', 'Deject Rocky', 'Mickey Way', 'Southpaw', 'Paulie Rockll', 'Rocky Gazzos', 'Paulie Smash', 'Dipper Yo', 'Creed Creed Creed Rockys', 'Cmon Cmon Ill'}\n",
      "\n",
      "named entities - {'Waiter', 'Steve', 'Polack Blanche', 'Admire', 'Mitchell', 'Flowers Flowers', 'Harold Mitchell', 'Barnum', 'Steve Eunice', 'Shh Shell', 'Young', 'Mitch Mitch', 'Stanley Kowalski', 'Blanche Honey', 'Romeos', 'Stella Honey', 'Steve Put', 'Stan', 'Mr Kowalski', 'Mitch Come', 'Baby', 'Cherry Cherry Heh', 'Dubois', 'Honey', 'Flamingo', 'Drop', 'Stell', 'Stan Mm', 'Hush', 'Stand', 'Stanley Will', 'Whitman', 'Blanche', 'Belle Reve', 'Mm', 'Kowalski', 'Mr Gonzalez', 'Auriol', 'Mitch', 'Boy', 'Jacks', 'Sister Blanche', 'Light', 'Mrs Stanley Kowalski', 'Mardi Gras', 'Ill', 'S Ambler', 'Brag', 'Kowalskis', 'Blanche Ill', 'Kiefaber Harris', 'Allan Wait', 'Luck', 'Ambler', 'Stella Ropes', 'Stella Baby', 'Stella', 'Mother Margaret', 'Stella Stella', 'Stanley Come', 'Kiefaber', 'Polack', 'Tiffanys', 'Stanley Stanley', 'Stan Stanley', 'Elysian Fields', 'Blot'}\n",
      "\n"
     ]
    },
    {
     "name": "stdout",
     "output_type": "stream",
     "text": [
      "named entities - {'Charles Baker Harris', 'Jem', 'Mornin Atticus', 'Boo', 'Heck Bob Ewells', 'Jean Louise Finch', 'Boo Radleys', 'Helen Robinson', 'Scout Jem', 'Mayella', 'Mayella Ewell', 'Robinson', 'Heck Good', 'Robert E Lee Ewell Place', 'Maudie Atticus', 'S Mrs Taylor', 'Jem Good', 'Hush Scout', 'Sykes', 'Evenin Atticus Good', 'Morning Mr Strikes', 'Tom Swifts', 'David Good', 'Walter Mornin', 'Maudie', 'Walter He', 'Tom Robinsons', 'Bye Darn', 'Miss Dubose', 'Morning Scout', 'Thankyou Brotherjoe', 'Louise Finch', 'Arthur Radley', 'Mr Radley', 'Walter Cunningham Cut', 'Hush', 'Bendin', 'Scout', 'Radleys', 'Ewell Capn', 'Arthur', 'Cunningham', 'Tom Robinson', 'Dead Boy', 'That Atticus Finch', 'Heck Take He Mr', 'Boo Radley', 'Taylor', 'Bob Ewell', 'Cunningham Mornin', 'Bob Mr Ewell', 'Ill', 'Jean Louise', 'Tom', 'Kill', 'Halloweens', 'Louise Mr', 'Jems', 'Hejust', 'Grand', 'Cunninghams', 'Walter Cunningham', 'Ifyou', 'Abbottsville', 'Atticus Jems', 'Radley', 'Cecil Jacobs', 'Thankyou Mayella'}\n",
      "\n",
      "named entities - {'Jacques Bouvier', 'Waiter', 'Mooligan Mulligan', 'Tommy Baldwin', 'Charmaine', 'Montmartre', 'Monsieur Mulligan', 'Etienne Maurice', 'Henri', 'Adam Cook', 'Adam', 'Jules Parmentier', 'Jacques Bouviers', 'Jerry Mulligan', 'Jerry Mulligan Jerry The Jansens', 'Cowboy Hopalong Cassidy', 'Jerry', 'That Adam Hell', 'Honey', 'Jacques', 'Anything', 'Mulligan Picasso', 'Rouault', 'Henri Baurel', 'Jerrys', 'John', 'Monsieur Cook', 'Jansens', 'Lise Bouvier George', 'Sorry Buy', 'Milwaukee Ill', 'Lise Ill', 'Johnny Good', 'George', 'Jack', 'Charlie Chaplin', 'Ill', 'John Macdowd', 'Lise', 'Mulligan', 'Jerry He S', 'Milo Roberts Milo', 'Tommy', 'Adam Not', 'Jerry You', 'Adam For', 'Door Door Street Street', 'Louis Dufond', 'Lautrec', 'Milo Good', 'Georges', 'Jerry May', 'Bois', 'Roberts Milo', 'Candy'}\n",
      "\n",
      "named entities - {'Sweetheart', 'Freddy Bye', 'Beer Beer', 'Valuables', 'Al Homer', 'Fine Ill', 'This Peggy Stephenson', 'Ill Ill', 'Rob Thank', 'Pat Pat', 'Milton', 'Peggy Nice', 'Rob Stephenson', 'Al Good', 'Cigarette Homer', 'Marie', 'Dexter', 'Bandit', 'Hello Wilma Good Afternoon', 'Mommy Mommy', 'Freddy You', 'Gadowsky Gadowsky Gadorsky', 'Fred Hello', 'Bill Merrills', 'Fred Al', 'Steesell', 'Swell', 'Woody Woody', 'Peggy Peggy', 'Al Want', 'Butch Bu', 'Mrs Milton', 'Bomb', 'Peggy', 'God', 'Mommy', 'Jackie Jackie', 'Fred Goodbye', 'Freddy Hortense', 'Mary Kay', 'Al', 'Rob', 'Sticky Merkel Clarence Merkel', 'Marie Good', 'Bombardier', 'Bud Dexter', 'Dad', 'Cameron', 'Mm', 'Peggy Stephenson', 'Ill', 'Derry D E R', 'Kenworthys', 'Stephenson Sergeant Stephenson', 'Al Al', 'Gadorsky Gadorsky', 'Peggy Be', 'Fred Derry', 'Hortense', 'Al Als', 'Fellas', 'Steve Oh Ho Ho', 'Coffee', 'Mrs Stephenson', 'Chair', 'Sweet', 'Woody Merrill', 'Fred Glad', 'Freddy', 'Ma', 'Sylvia Mack', 'Fred Good', 'Macarthur', 'Hurry', 'Romantic Dream', 'Al Oh', 'Butch Glad', 'Peggy Peggy Rob', 'Peggys', 'Derry Derry', 'Lucias', 'Everything', 'Butch', 'Peg', 'Derry', 'Stephenson', 'Sit', 'Millys', 'Milton Glad', 'Al Stephenson', 'Homer Wilma', 'Freddy Hiya', 'Peggy Oh Woody', 'Rupert', 'Freddy Glad', 'Woody', 'Fred Derry Al Stephenson', 'Marie Marie', 'Wilmas', 'Gadorsky', 'Jackson High', 'Mrs Cameron', 'Shh', 'Soda Jerk', 'Al Yep', 'Glad', 'Ow Beg'}\n",
      "\n",
      "named entities - {'Alex Good Morning Missus', 'Dr Branom', 'Lick', 'Branom Dr Brodsky', 'Brodsky', 'Dolin Hahaha', 'Joe Find', 'Dolin', 'Frank', 'Leslie Thank', 'Speak', 'Stanley Kubrick', 'Pee', 'Alex Alex', 'Julian Ill', 'Alex Oh Dr Taylor', 'Alexander', 'Doorbell', 'Warren Clarke', 'Rubinstein Frank Dolin', 'Dim Be', 'James Marcus', 'Alex Come', 'Dim Doobidoob', 'Dr Brodsky', 'Tom', 'Mmmm', 'Marty', 'Alex Dim', 'Mum Leave', 'Pete', 'Alex Good', 'Ludwig Van Dim', 'Interrogation Room', 'Alex He', 'Hahahahaha', 'Molly Malone', 'Billygoat Billyboy', 'Alex Patrick Magee', 'Alex Exit Pee', 'Pete Georgie', 'Halt Excuse', 'Bog', 'Padre', 'Miriam Karlin', 'Warder', 'Dim Dim', 'Joe', 'Alex A', 'Anything', 'Alex Help', 'Joe Alex', 'Rubinstein', 'Jack', 'Charlie', 'Ill', 'Mrs Mrs Alexander', 'Symphony', 'Bible Seek', 'Hullo Frank Mr', 'Alex Naughty', 'Mrs', 'Dim Pardon', 'Screams', 'Lardface', 'Malcolm Mcdowell', 'Dr Brodsky Dr Brodsky', 'Joe The Lodger', 'Beethoven Ludwig Van Beethoven', 'Alex', 'Mr Alexander', 'Mrs Alexander', 'Sonietta', 'Alex Spoils', 'Lucy', 'Prison Governor', 'Michael Bates', 'Name', 'Em', 'Devotchka', 'Julian Frank', 'Alex Great', 'Alexander Good', 'Alex Pete Georgie', 'Alex Bit', 'Hurry', 'Georgie', 'Hymn', 'Uncle', 'Mrs Alexander Alex', 'Frederick As', 'Taylor Alex', 'Alex Fine', 'Ho Ho', 'Ludwig', 'Aye Glad', 'Matron', 'Brodskys', 'Beethoven', 'Alexander De Large', 'Korova', 'Alex Nobodys', 'Dim Start', 'Clerk', 'Circling Alex', 'Joes', 'Mr Deltoid', 'Catlady', 'Warden', 'Anthony Burgess Screenplay', 'Vagabound Kill', 'Stanley Kubrick Produce', 'Francis Lodger', 'Dim', 'Deltoid', 'Alexander Ill'}\n",
      "\n",
      "named entities - {'Yuri Andreyevich', 'Yuri', 'Tonya', 'Yuri Wait', 'Yuris', 'Larissa', 'Komarov', 'Yuri May', 'Kuniko We', 'Boris She', 'Uncle Alex', 'Anna', 'Say', 'Yevgraf Yevgraf', 'Dr Zhivago', 'Sasha', 'Boris Kurt', 'Varykino', 'Yuri This', 'Komarovsky', 'Speak', 'Yevgraf Andreyevich', 'Adapt', 'Yuriatin Yuriatin', 'Katya Come', 'Katya', 'Shut', 'Lunch', 'Strelnikov', 'Pilenko Goodbye', 'Drop', 'Yelkin', 'Zhivago Andreyevich', 'Dammit', 'Monsieur Komarovsky', 'Hurry', 'Strelnikov Varykino', 'Mammy', 'Cheer', 'Nonsense Ill', 'Victor Komarovsky', 'Yuri Ill', 'Ill', 'Kuril Home', 'Yuri Larissa', 'Antipov Address Ill', 'Monsieur Komarovsky Larissa', 'Boris', 'Lara', 'Larissa Good', 'Victor Yppolitovich', 'Yuriatin', 'Yuri Mammy', 'Asleep Pasha', 'Larissa Antipova', 'Farewell', 'Oul Monsleur Mademolselle', 'Rachmaninoff', 'Laras', 'Tonya Komarova', 'Lenin', 'Honor Keep', 'Victor', 'Fine Cheer', 'Mammy Mammy', 'Yuri Anna', 'Cigar', 'Komarovsky Komarovs', 'Gromeko Gromeko', 'Merry', 'Me Fit', 'Yevgraf'}\n",
      "\n",
      "named entities - {'Herbie Robinson', 'Larry Vaughn', 'Quint Haul', 'Kit', 'Shark Look', 'Cub Scouts Angle Bathing Area', 'Dr Miro', 'Gross', 'Bat', 'Scoutmaster', 'Barwood', 'Entire', 'Martin Stand', 'Peter Benchley', 'Carcharodon Cacharias', 'Blood', 'Homecome Queen', 'Lenny Hendrick', 'Quint', 'Yessir', 'Master Mate And Pilot', 'Ellen Mikey', 'Ellen Brody', 'Mary Ellen Moffit', 'Martin Brody', 'Tom', 'Ellen Honey', 'Harvard Penn', 'Matt Hooper', 'Flicka', 'Brody', 'Ellen Hooper', 'Meanwhile Brody', 'Hooper Hooper', 'Together Brody', 'Meadows', 'Felix Pratt', 'Matt Hooper Quint', 'Martin Woman', 'Vaughn Realty', 'Quint Cash', 'Carcharodon', 'Herschel', 'Townspeople', 'Arnold Felix', 'Quint Order', 'Mommy', 'Mrs Kintner', 'Pratt Harry', 'Joy', 'Dave Axelrod', 'Harry Angle Amity Gazette Newspaper Office', 'Quint You', 'Greener', 'Hooper Brody', 'Michael Wide', 'Quint U S S', 'Sarah Lawrence', 'Ruth Gordon', 'Remington', 'Carl Gottlieb', 'Coffee Angle', 'This Ellen Ill', 'Charlie Charlie', 'Ben Gardners', 'Kit Kit', 'Chrissie Behind', 'Harry Beat', 'Michael Cut', 'Keisel', 'Dorothy', 'Mrs Martin Brody', 'Vaughn', 'Jack', 'Charlie', 'Hansel', 'Alka Seltzer', 'Ill', 'Gaffer Teeth', 'Martin Quint', 'Michael Get', 'Tommy', 'Keisels Bicycle Rental', 'Charlie Swim Charlie', 'Alex Alex Kintner', 'Joy Quint', 'Quint Follow', 'Michael Dad', 'Alex', 'Quint Rig', 'Hmmm', 'Quint Duty', 'Pratt', 'Michael', 'Denherder', 'Ellen', 'Yo', 'Steve Kaplan', 'Harry', 'Borack Ill', 'Sean', 'Michael Sean', 'Ellen Sean', 'Gradually Hooper', 'Martin Brodys Country', 'Daisy Over', 'Ellen Take', 'Brody Silhouettes', 'Mary Ellen', 'Shark Kill', 'Arthur', 'Hofner Boyle', 'Ben Gardner', 'Woman', 'Ben', 'Fascinatin Rhythm', 'Ahoy', 'Reveal', 'Carl', 'Christine', 'Tom Cassidy', 'Before Brody', 'Robbie', 'Christine Watkins', 'Coroner Santos', 'Eric Harrison', 'Alex Kintner', 'Martin Brody Brody', 'Ripper', 'Quint Grab', 'Vaughn Meadows', 'Hooper Left', 'Hooper Start', 'Cmon Middle Appendix Quint', 'Moray Eel', 'Hooper Grab', 'Michael Brodys', 'Hooper Dead', 'Zig', 'Fatal', 'Shark Starboard', 'Vaughn Cmon', 'Sharks', 'Michael Come', 'Charlie Denherder', 'The Steve Canyon Of', 'Fred Ganz', 'Ben Meadows', 'Torso', 'Meadows Ginny', 'Brodys', 'Mikey Michael', 'Cousteau', 'Mary Lee', 'Hooper', 'Cadillacs', 'Walkie Talkie', 'Ode', 'Quint Shut', 'Compagno', 'Shark Brody', 'Research Assistants', 'Bill Mayhew', 'Brody Fasten', 'Brody Brody', 'Assistant Ill', 'Knock', 'Quint Hurry', 'Brody Grab', 'Larry', 'Quint Gettin', 'Lenny', 'Quint Orca', 'Charlie Tides', 'Hendricks Cassidy', 'Alex Alex Alex Ext', 'Carl Santos', 'Glad', 'Hooper Victim One', 'Yahd', 'Hooper Haul'}\n",
      "\n"
     ]
    },
    {
     "name": "stdout",
     "output_type": "stream",
     "text": [
      "named entities - {'Bradley Ernie', 'Roosevelt', 'Ike', 'William', 'Bernard Law Montgomery', 'Messina Bell Messina', 'Palermo', 'Arthur Damn', 'Knutsford', 'Von Schlieffen', 'Alexander', 'Arthur Delight', 'Ike We', 'Gen Bradley', 'Gl', 'Dick', 'Abigail', 'Dick Jenson', 'Chet Hansen', 'Palermo Col David', 'Gen Alexander', 'George One', 'Bastogne My', 'Agrigento Repeat Stop', 'Bastogne Bastogne', 'Vizzini', 'Von Rundstedt', 'Lucian Terry Allens', 'Doug Macarthur', 'Bradley', 'Jackasses', 'Fine George Come', 'Goddamn', 'Marshall', 'Stonewall Jackson', 'Harold', 'Bedell', 'Omar Bradley', 'Gasoline', 'Frederick The Great', 'Dick You', 'Alexander Get', 'Rommel', 'Thou', 'Normandy', 'Ill', 'Calais', 'Nuts Keep', 'Battle', 'Hun', 'Patton Remember', 'Lloyd Fredendall', 'Katkov', 'Mason', 'Codman', 'Brolo', 'Verdun', 'George S Patton Jr', 'Dummy', 'Bedell Smith', 'Ah George', 'Palermo Damn Palermos', 'Waiker', 'Clayburn Foss', 'Leclerc', 'Brad Bedell Listen', 'Smith', 'Willie', 'Purple Heart', 'Arthur', 'Fine George Good', 'Patton', 'Rommels', 'George Get', 'Dunkirk Push', 'Degaulle', 'Brad', 'Harry How', 'Georgie Patton', 'Ernie Pyle', 'Bradleys', 'George We', 'George Good', 'Hitler', 'Shut', 'Bastogne', 'Mcauliffe', 'Baileys', 'Boulogne Calais', 'George Ike', 'George You', 'George', 'George There S', 'Von Rundstedts', 'Richard N Jenson', 'Jacques Leclerc', 'George Pretty', 'Truscotts', 'Eisenhower', 'Gen Smith', 'Smith Bedell Ike', 'Bernard Shaw', 'Cod'}\n",
      "\n",
      "named entities - {'Evidently Bunny', 'Chris Taylor', 'Bravo Six', 'Hesitates', 'Ace Sos', 'Lieutenant Harris', 'Oneill', 'Captain Harris', 'Chris Oneill', 'Laughes Wolfe', 'Apc', 'Easy Tex', 'Elizabeth Elias', 'Chris Lerner Lerner', 'Rhah Baaa', 'Chris Hate', 'Passing Groups', 'Taylor Francis', 'Barnes Look', 'Machete', 'Grass', 'Close Ace', 'Sarge Oneill', 'Warren Ace Tony Rodriguez Barnes', 'Johnny Appleseed', 'Behind Lerner', 'Audie Murphy', 'Barnes Elias', 'Ace Adams Huffmeister', 'Fu Sheng', 'Dontthey', 'Shouts Tex', 'Chris Rhah Francis', 'Francis Ace', 'Francis Ext', 'Foxhole', 'Elias Elias', 'Chris Come', 'Redleg Romeo', 'Harold Shaddup', 'Roger', 'Lerner Rhah', 'Sergeant Elias', 'Harold Ill', 'Jimi Hendrix', 'Wolfe Push', 'Tex', 'Shape', 'Wrong You', 'Chris Proofs', 'Rhah Whatcha', 'Chris Ill', 'Oneill Lerner', 'Yaaaaaaaaa Screams', 'Sandy', 'Bags', 'Napalm', 'Radioman', 'Huey Chopper', 'Theyse', 'Bunny Boy', 'Young', 'Gimmee', 'Elias Baaaa', 'Bullshit', 'S Elias Rhah', 'Bunny Bunny', 'Harold', 'Wolfe Fuckin', 'Harris', 'Taylor Junior', 'Sos Lt Wolfe', 'Tubbs Warren Rodriguez', 'Kit Carson', 'Scared Looks', 'Dad', 'Harold De', 'Ace', 'Enemy', 'Tex Tex', 'Taylor Chris', 'Nam', 'Taylor Watch', 'Mm', 'Chris Can', 'Charlie', 'Lieutenant', 'Ill', 'Bob Barnes', 'Gardner Case', 'Lerner', 'Lias', 'Harold Whatcha', 'Spread', 'Danger', 'Gon', 'Blast', 'Tony Check', 'Spec Sanderson', 'Charlie Ho Chi Minh', 'Move Chris', 'Gardner', 'Manny Dats', 'Chris', 'Bunny', 'Dat', 'Junior Cmon', 'Deros', 'Explosion', 'Taylor Taylor', 'Chris Jennifer', 'Charlie Tellem', 'Elias', 'Jackson You', 'Gardner Gardner', 'Morphine', 'Rice', 'Kick', 'Chris Hold', 'Chris Clicks', 'Sgts Oneill', 'Sgt Oneill', 'Shouts Shots Chaos', 'Sarge Doctor', 'Hang', 'Crawford Elias', 'Charlie Company', 'Tony', 'Ext Jungle Fu Shengs Position Day', 'Flash Morehouse', 'Chris Get', 'Bare', 'Ammo', 'Susan Manny', 'Sal Goddamit', 'Warren Get', 'Tony Morehouse', 'Harold Putem', 'Whatcha', 'Francis Doc Adam', 'Sarge', 'Nams', 'Bob', 'Francis', 'Ace Fu Sheng', 'Dink', 'Rhah Crawford', 'Rhah', 'Don', 'Lerner Francis', 'Harold Bullshit', 'Merle', 'Redleg Redleg Ripper', 'Gracie', 'Chris Barnes', 'Cpt Harris', 'Elias Sergeant Barne', 'Wolfe Jackson', 'Ripper Bravo', 'Rhah Manny', 'Chris Francis Taylor', 'Charlie Kia', 'Crawford', 'Chris Francis Rhah', 'Blurry Chris', 'Manny', 'Rhah Francis Doc', 'Sgt Warren', 'Warren Rogriguez', 'Sorry', 'Bunny Satchel', 'Harold Inga', 'Meanwhile Manny', 'Baaaa His', 'Gator Hang', 'Lt Wolfe', 'Stark', 'Rhah Look', 'Scout', 'Lieutenants', 'Gotcha Elias', 'Unh Unh', 'Raquel Welch', 'Rmember', 'Sarge Doc', 'Gracie Slick', 'Laugh Yo', 'Chris La Dai La Dai Get The Fuck Outta There Francis', 'Taylor', 'Chris Shit', 'Shhh Bend', 'Brush', 'Doc Elias', 'Doc', 'Wolfe', 'Oliver Stone Genres', 'Warren Chris', 'Francis Int Hutch', 'Harris Sky Six', 'Daisy Mae', 'Warren Manny', 'Chris Trip', 'Lucy Jean Chris', 'Warren', 'Manny Manny', 'Ahab', 'Bozo Get', 'Glad', 'Dats', 'Cocksucker', 'Sanderson'}\n",
      "\n",
      "named entities - {'William William', 'Prince Edward', 'William', 'Deny', 'Craig Robert Longshanks', 'Robert', 'Campbell Pour', 'William Wallace Edward', 'Stand', 'Longshanks Look', 'Wallace Longshanks', 'Snug', 'William Good', 'Robert You', 'Stirling Castle', 'Dip', 'Robert Fight', 'Hamilton', 'Craig', 'Montage Wallace', 'Campbell', 'Hurry Hurry', 'Hamish Rest William Wallace', 'William Run Will', 'Wallace Split', 'Edward Simply', 'Malcolm', 'Opposite William', 'John We Favor', 'Campbell Son', 'Yorkshire', 'William Wallace Ext Macandrews Farm', 'William Campbell', 'Roberts', 'Longshank', 'William Wallace William', 'Campbell William Come', 'William Its', 'May', 'Edward Convene', 'Faudron Run', 'Nobles', 'Balliol', 'Joy', 'William Longshanks', 'Scots', 'Handmaiden Nicolette', 'The Distant Noise', 'Mer', 'Nobleman', 'Ghoul', 'Robert In', 'Phillip', 'Slowly Argyle', 'Young Bruce', 'William Stephen', 'William He', 'Heartsick', 'Campbell Insane', 'Stephen Smart', 'Faudron My', 'Wallace Behold', 'Stewart', 'Marion Tonight Tuck', 'Tall', 'Ill', 'Robert The Bruce Mornay', 'Magistrate', 'Ties', 'Slowly William', 'Marion Shush', 'Young Wallace', 'Robert The Bruce Robert', 'Mlord Talmadge', 'Marion William', 'Mornay Craig', 'Longshanks', 'Ride', 'Robert A', 'Ooo La La', 'Breathless', 'Locharmbie', 'Stephen Betrayed Wallace', 'Offer', 'Handmaiden', 'Craig Robert', 'Mlord Longshanks', 'Land Night William', 'John Wallace', 'Craig Longshanks', 'Craig Craig', 'William Wallace God', 'Malcolm Wallaces', 'Scot', 'Williams', 'John', 'Campbell Wallace', 'Robert V O', 'William Wallace Mornay', 'Ahhhhhgggg', 'Stung', 'Macgregor Campbell Macgregor', 'William Ill', 'Underscore Montage William', 'Stephens', 'Mornay', 'Mlord Edward', 'Dolecroft', 'William Wallace Cheltham', 'Surprise', 'William Wallace', 'Wallace Hamish Ham', 'Edward Prince', 'Charge Charge', 'William We', 'Bagpipes', 'The Balliols', 'Nicolette', 'Falkirk', 'Robert Please', 'Malcolms', 'Edward Longshanks', 'Edward The Longshanks', 'Runner', 'Wallace William', 'Randall Wallace', 'William Speak', 'Yorks', 'William Wallace Wallaces Voice', 'Wallaces', 'Scout', 'Young Robert', 'Stirling Wallace', 'Nicolette Wallace', 'Ida', 'Argyle', 'Wallace', 'Mlord', 'Edward', 'Old Craig', 'Balliols', 'Phillip Sire Thy', 'Wallace Arrows', 'Footsteps', 'William Stephen Fine', 'Campbell Macclannough', 'Edward Wallace', 'Patris Benefactum', 'Command Longshanks', 'Mlords Edward', 'Macgregor', 'Malcolm Wallace', 'John William Get', 'William Wallaces', 'Crony'}\n",
      "\n",
      "named entities - {'S', 'Michael Blake', 'Hairs', 'Knight Dunbar', 'Tow Socks', 'Trooper Spivey', 'Knight', 'Shyly', 'John J Dunbar Lt Dunbar', 'Otter', 'Fambrough Noooo', 'Young', 'John Dunbar', 'Willie Willie', 'Fringe', 'Ext Knoll', 'Kicking Bird', 'Otter Worm', 'Smiles A Lot', 'Pawnee', 'Dunbars', 'Willie', 'Worm', 'Grass', 'Edwards', 'Sergeant Bauer Spivey', 'Ray', 'Lieutenant Dunbars', 'John John Dunbar', 'Toward', 'Cargill', 'White', 'Ill', 'Christine', 'Sergeant Bauer', 'Michael Blake Genres', 'Elgins', 'Ciscos', 'Elgin', 'His Hair', 'Tucker', 'John J Dunbar'}\n",
      "\n",
      "named entities - {'Lex Lex', 'Alan', 'Hammond Hammond', 'Gallimimus', 'Furiously Nedry', 'Alan Grant', 'Michael Crichton', 'Wu Ill', 'Lex Screams', 'Frighten', 'Gennaros', 'Lex Grandpa', 'Lex', 'Grants', 'Wu Muldoon Raptors', 'Farrell Good Glad', 'Blood', 'Hammond Gennaro', 'Branch', 'Arnold Muldoon', 'Move', 'David Koepp', 'Muldoon Nedry', 'Yells', 'Donald', 'Ross', 'Muldoon Get', 'Grant', 'Freda', 'Grant Ellie', 'Gennaros Pov', 'Twigs', 'Carry Gennaro', 'God', 'Gradually Grant', 'Donald Glad', 'Hammond Screams', 'John Hammond', 'Lex Mr Regis', 'Pushes', 'Damn Nedry', 'Farrell', 'Alan I', 'Baker Ill', 'Bill', 'Richard Kiley', 'Muldoon Hammond', 'Ellie Gennaro', 'Rex Hammond', 'Timmy Timmy', 'Arnold Fix', 'Gimmie', 'Moment', 'Arnolds', 'Gennaro Hammond', 'Rex', 'John Arnold', 'Hammond Nedry', 'White', 'Baker', 'Wu', 'Regisll', 'Ill', 'Arnold Shut', 'Act', 'Gennaro Lex', 'Glass', 'Arnold', 'Queen Anne', 'Int Basement', 'Ah Alan', 'Water', 'Nedry', 'Arnold Nedry', 'Genna', 'Gennaro Grant', 'Tim', 'Screams Muldoon', 'Lexs', 'Grant Bounce', 'Grants Pov Pan', 'Dinosaur', 'Arnold Wu', 'Bill Baker', 'Afternoon Wu', 'Grant Hammond', 'Lets', 'Lex Screams Grant', 'Dilophosaurus', 'Jim', 'Grants Pov', 'Mr Hammond Arnold', 'Dilophosaurus One', 'Hammond Ellie', 'Lex Timmy', 'Maria Scotch Marmo', 'Run Grant', 'Smacks Nedry', 'Lex Timmys', 'Anne', 'Dinosaurs', 'Arnold Hmmmm', 'Isla Nublar Dr Grant Dr Sattler Little', 'Grandpa Hammond', 'John Wu', 'Bob', 'Harding Animal', 'Dr Wu', 'Grant Lex', 'Fraid', 'Rapto', 'Gennaro Gennaro', 'Wu Arnold', 'Trikes', 'Breathe', 'Jurassic Japan Grant', 'Donald Gennaro', 'Muldoon Shit', 'Hammond', 'Hammond Donald', 'Souvenirs', 'Lex Ill', 'Harding Bet', 'Arnold Memory', 'Grandpas', 'Regis', 'Grant Timmy', 'Ooooo', 'Grey', 'Arnold Arnold', 'Muldoon', 'Arnold Wu Muldoon', 'Nora', 'Ellie Hammondll', 'Robert Muldoon', 'Grant Cone', 'Hop', 'Ellie Grant', 'Farrell F Rederick D Capt Grant', 'Carl Sagan', 'Grant Grant', 'Arnold Hammond', 'Alan Alan', 'Arnold Ext', 'Leaves', 'My Rex', 'Light', 'Puntaremas', 'Muldoon Ellie', 'Uniform', 'Ahead Muldoon', 'Ellie Muldoon', 'Footsteps', 'Gennaro', 'Grant Twelve Hour', 'Muldoon John', 'Grant Look', 'Pit Afternoon', 'Timmy', 'Spitter', 'Arnold Thirty Second'}\n",
      "\n"
     ]
    },
    {
     "name": "stdout",
     "output_type": "stream",
     "text": [
      "named entities - {'Damien Merrin', 'Male Nurse Regan', 'Mrs Macneil', 'Male', 'Burke Dennings Burke', 'Lick', 'Dyers', 'Burke Willie', 'Dyer Dyer', 'Mother Mother Mother Mother Chris', 'Burke Dennings', 'Sharon Jack Macgowran', 'Merrin Lee J Cobb', 'Napoleon Bonaparte', 'Dyer Regan', 'Luis', 'S Burke', 'Burke Poor Burke Sharon', 'Chris Chris', 'Mrs Karras', 'John Garfield', 'Karras Scotch Ice', 'Karras', 'Sal Mineo Karras', 'Groucho Marx', 'Mary Karras', 'Chris Honey', 'Chris Kinderman', 'Chris Shar Still', 'Tom', 'Nirrem Karras', 'Bogart Kinderman', 'Chris Pretty', 'Kinderman Ill', 'Dimmy', 'Gestapo', 'Dr Klein', 'Karras Linda Blair', 'Chuck Ill', 'Pete Masterson Rudolf Schundler Gina Petrushka', 'Karras Come', 'Chris Regan All', 'Ritalin Ten', 'Uncle John', 'Karras Fuck', 'Regan Regan Goodnight', 'Howdy Do', 'Emit', 'Chris Burke', 'Sharon Sharon', 'Bastard Karras Shut', 'Damiens', 'Goebbels', 'Humphrey Bogart', 'Momma', 'William Peter Blatty Base', 'Regan Teresa', 'Chris Ya', 'Karras Dimmy', 'Spencer', 'Merrin Damien Regan Mrs', 'Ill', 'Karras You', 'Briefly Regan', 'Paul Newman', 'John Hopkins', 'Mike', 'Chuck', 'Woodstock', 'Karl Karl', 'Ellen Burstyn', 'Karras Karras', 'Karl Burke', 'Burke', 'Chris Goodbye', 'Merrins', 'Chris Great', 'Karras Sick', 'Dimmy Why Damien', 'St Joseph', 'Chris', 'Chris Regan Cmon', 'Mike Mike', 'Chris Stimulant', 'Mrs Chris', 'Tomb', 'St Mikes He', 'Karras Damien', 'Willie Willie', 'Seat', 'Lets', 'Dyer Damien Karras', 'Willie', 'Sharon', 'Dyer St Mikes Chris', 'Damien Karras Regan Demon', 'Male Nurse', 'Mrs Karras Nurse', 'Chris Wanna', 'Regan', 'Karras Uncle', 'Roman Rituals', 'Jason Miller', 'Howdy Chris', 'Sharon Chris', 'Uncle', 'Sharon Burke', 'Merrin', 'Karl Oh', 'Mrs K', 'Chris Macneil', 'Chris Heard', 'Damien Karras', 'Debbie Reynolds Desdemona', 'Chris Regan', 'Karras Momma', 'Ho Chi Minh', 'Sharon Dr', 'Howdy Captain', 'Dimmy Damien', 'Chuck Burkes', 'Howdy Regan', 'Jackie Gleason', 'Tseirp', 'Astronaut', 'Hun Bloody', 'Dyer', 'Burke Burke', 'Karl', 'Merrin Damien', 'Klein', 'Merrin Damien Get Out Damien', 'Chris Karl', 'Karras Shell', 'Kinderman Heathcliff', 'Kinderman', 'Chris Morning Willie Good', 'Tubular Bells', 'Strike', 'Catherine Earnshaw', 'Chris Sharon', 'Max Von Sydow', 'Chris Cmon', 'Karras St Joseph', 'William Friedkin Screenplay', 'Sharon Jesus', 'Kinderman William', 'Howdy', 'Regan Regan Demon Keep', 'Karras Quod', 'Dr Kleins', 'Damien', 'Sharon I', 'Karl Jesus Christ Karl'}\n",
      "\n",
      "named entities - {'Henryk Henryk', 'Snow Majorek', 'Benek', 'Puffs', 'Mother Henryk', 'Calmly Szpilman', 'Lobby', 'Dorota Ill Get Dr Luczak', 'Majorek Distant', 'Villa Evening Szpilman', 'Samuel Szpilman', 'Dzikiewicz', 'Stand', 'Gebczynski', 'Silence Szpilman', 'Mother Szpilman', 'Izaak Szerman', 'Henryk Szpilman', 'Gestapo', 'Szpilman Halina', 'Wladek Szpilman Heller', 'Wladeks', 'Henryk S Pov', 'Walk', 'Zikk Zack Szpilman', 'Freeze', 'Szalas Szpilman', 'Henryk Three', 'Chopins Piano', 'Mother Pack Wladek', 'Kitty Kitty', 'Debris', 'Majorek Majorek', 'Dorota', 'Afternoon Gebczynski', 'Meet', 'Yitzchak Heller', 'Aladdins', 'Again Heller', 'Szpilman', 'Janina Bogucki', 'Idiot', 'Genres Biography', 'Desolate', 'Henryk Get Out You', 'Silence Heller', 'Ill', 'Glass', 'Szpilman Ill', 'Bogucki', 'Majorek', 'Mother', 'Schutzpolizei', 'Henryk Just One', 'Jehuda Majorek', 'Jurek', 'Mother Pack', 'Henryk', 'Schultz', 'Mr Gebczynski', 'Puppydog', 'Szpilman Yitzchak Heller', 'Basement Gebczynski', 'Chopin The German Captain', 'Chopins Nocturne', 'Wladek', 'Janina', 'Ronald Harwood', 'Symche The', 'Jureks', 'Henryk Sssh Crackles', 'Anti', 'Fischke', 'Herr Rubinstein', 'Halina', 'Listens', 'Zick Zack', 'Janina Godlewska', 'Lednicki', 'Halina Heller', 'Liver', 'Angry German', 'Szalas', 'Kharkhov', 'Izaak Szermans', 'Szpilman Henryk', 'Umschlagplatz', 'English Carry', 'Mother Take', 'Jurek Jurek Jurek', 'Janina Tears', 'Peaceful A', 'Jehuda Mrs Zyskind', 'Then Heller', 'Enraged Zick Zack', 'Szalas Szalas', 'Hitler', 'Gebczynski Ill', 'Heller', 'Henryk Idiot', 'Szpilman Benek', 'Bach', 'Rubs', 'Trucks', 'Aim', 'Jehuda Zyskind', 'Kittens', 'Marek Gebczynski', 'Footsteps', 'Lublin Halina', 'Lipa', 'Henryk Ssh', 'Mother Regina Henryk', 'Run Run'}\n",
      "\n",
      "named entities - {'Jimmy', 'Fucko', 'Yon', 'Shrimp', 'Spider Cmon', 'Ho', 'Elizabeth Taylors', 'Robins', 'Henry V O Vinnie', 'Henry Jezuz', 'Marie', 'Button', 'Karen Int', 'Tuddy', 'Nicholas Pileggi', 'Spider Tommy', 'Henry Smash', 'Henry Tommy Come On Relax Tommy', 'Paulie I', 'Tommy Desimone', 'Angles', 'Marty', 'Jimmy Jimmys', 'Henry Lets', 'Councilor', 'Henry V O Johnny Dio', 'Henry Not', 'Tommy You', 'Sonofabitch', 'Henry Karen', 'Henry V O', 'Linda Honey', 'Frenchy', 'Toddy Vario', 'Fran', 'Copa', 'Jimmy Henry', 'Paul', 'Billy Batts', 'Henry Nods', 'Jfk', 'Henry Do Marty', 'Mickey', 'Henry V O Everybody', 'Int Roberts', 'Spider', 'Sunny Davis', 'Paulie Be', 'Billy Eckstein', 'Henry Paulie', 'Jimmy Jimmy Jimmy', 'Act', 'Henry Battss', 'Ill', 'Jesse James Burke', 'Angelo', 'Mickey Burke', 'Michael Henry', 'Batts', 'Male O S', 'Johnny', 'Tommy', 'Stacks Bang Bang Bang Cut', 'Billy Watch', 'Paulie Int', 'Manri', 'Burke', 'Carmella', 'Jimmy Vario', 'Robin Henry', 'Angelo Put', 'Michael', 'Karen', 'Henry Tommy', 'Paulie', 'Henry Jimmy', 'Jimmys', 'Ball', 'Bobby Darken', 'Fuck Jimmy', 'Judy Wicks', 'Hurry Henry', 'Henry Wha', 'Fat Louie', 'Stacks', 'Jimmy Broke', 'Sepe', 'Jimmy Henry V O', 'Henry Tommy Cut To Henry', 'Billy Daniels', 'Vario Jimmy', 'Henry Hill', 'Henry V O Paulie', 'Tony', 'Judy Judy', 'Henry Nah Jimmy', 'Vince', 'Hurry', 'Reveal', 'Diana', 'Henry Nods Vario', 'Henry He', 'Jimmy I', 'Henry Come', 'Jimmys Hand', 'Billy Billy Come', 'Quick Lock', 'Bait', 'Robin', 'Tommy He', 'Paulie We', 'Paul Vario', 'Waiter', 'Linda', 'Karen Go', 'Henry Say', 'Narks', 'Sergio Pranchi', 'Anthony', 'Shut', 'Henry O S', 'Henry Henry V O Thirty', 'Linda Tommy', 'Vario', 'Henry V O Karen', 'Paulie S', 'Jimmy Jimmy', 'Joe Buddha', 'Henry Lufthansa', 'Paulie Vario Right', 'Wiseguys', 'Henry O S Fifteen', 'Nark', 'Henry', 'Henry Shit Henry', 'Jimmy Burke', 'Toddy', 'Int Lindas Apartment Bedroom', 'Henry Listen', 'Tommy Help', 'Anthony Stabile', 'Judy', 'Henry V O Tommy', 'Karens', 'Anthony Cut', 'Angie Angie', 'Linda Rossi', 'Henry Jimmy Jimmy', 'Johnny Echoes', 'Henry Keep', 'Henry People', 'Wife'}\n",
      "\n",
      "named entities - {'Linda Contd', 'Kitchen Night Nick', 'Deerhead', 'Coffin Follow', 'Angela Nick', 'Laughter', 'Linda Lets', 'Albert Albert', 'Stetson', 'Nick Get', 'Pettrucio', 'Linda Eat', 'Squire Albert All', 'Merle Merle', 'Nick Linda', 'Vince Nick', 'Vincent', 'Wife', 'Vince Squire Albert Vince', 'John Waynes', 'Home Nick', 'Nick Guess', 'Cmon Biederman', 'Linda Vince Albert', 'Linda Nick', 'Linda Vince', 'Cynthia Nick Cynthia', 'Sorry Sorry Pardon Nick', 'Biederman', 'Nick Eat', 'Linda Bar Girl', 'John Sweet', 'Linda Great Fine', 'John Albert', 'Nick Linda Linda Linda', 'Merle Nick', 'Vince Nothin', 'Nick Pee', 'Listen Biederman', 'Vince Ill', 'Nick Merle Vince Albert', 'Sal Nick', 'Bags', 'Int Lindas House', 'Solomon Nick', 'John Kind', 'Vince Merle', 'Nick Lost Merle', 'Merles', 'Albert Int', 'Geraldine', 'Nick You', 'Forklift', 'Momma', 'Parlez', 'Nick The Taxicab', 'Pushes', 'Elizabeth Wife', 'Linda Contd Pick', 'John Shhh Alberts', 'Buck', 'Albert', 'God Angela', 'Vince Vince', 'Cigarette Nick', 'Nick Angela', 'Ill', 'Merle Armand Ah Merle', 'Glass', 'Angela Nick Sal', 'John Wayne Listen', 'Linda Linda', 'Albert Everybodys', 'Sal Goddamn', 'Coleman', 'Fuckin', 'Fuckin Nick', 'Momma Ill', 'Trip', 'Nick John Nick', 'Sal Sal Nick', 'Chair', 'Vince Snow Holy', 'Yo', 'Angela Sal', 'Nick', 'John Take', 'Nick Angela Angela', 'Nick Vince', 'Biederman Be', 'Seat', 'Nick Sal', 'Rice', 'Cmon Cmon', 'Deric Washburn', 'Mary Nick', 'John Wait', 'John Vince', 'Urine', 'Linda Myself', 'Fuckin Merle', 'John Nick', 'Nick Hit', 'Vince Albert', 'Vince', 'Vince Bullshit', 'Vince Get', 'Cynthia', 'Easy Nick', 'Nick Nick', 'Sal Sal', 'Everything', 'Albert Merle', 'Merle Lets', 'Nick Merle Albert', 'Scat Shoo Vince', 'Vince Fuckin', 'Strung', 'Merle', 'Nick Jesus', 'Pulls Nick', 'Nothing', 'Linda', 'Lieutenant Nick', 'Pajamas', 'Nick Albert', 'Vince John', 'John Play', 'Don Quixote', 'Nick Biederman', 'Linda Come You', 'Albert Lets', 'Henri Henri', 'John John', 'Nick Whee', 'Biederman Lieutenant Biederman', 'Linda You', 'Nick Merle', 'Nick Merle Merle', 'Bugle', 'Albert Vince', 'Vince Nick Hunt', 'John Sal Nick', 'Nick Sal Sal', 'Lieutenants', 'Snow', 'Merle Merles', 'Sal First', 'Ida', 'Merle Contd Sal', 'Angela', 'Nick Cmon', 'Squire Albert Vince', 'Footsteps', 'Perfect', 'Saigon Ill', 'Naturellement Seriously Nick', 'Assholes Ext', 'Linda Nick Nick'}\n",
      "\n",
      "None\n"
     ]
    },
    {
     "name": "stderr",
     "output_type": "stream",
     "text": [
      "Traceback (most recent call last):\n",
      "  File \"<ipython-input-4-926e6ae6d1a6>\", line 34, in FinalExtraction\n",
      "    f = open(\"scripts/\"+title+\".txt\",'r')\n",
      "FileNotFoundError: [Errno 2] No such file or directory: 'scripts/All Quiet on  the Western Front.txt'\n"
     ]
    },
    {
     "name": "stdout",
     "output_type": "stream",
     "text": [
      "named entities - {'Hysterical Clyde', 'Buck Barrow', 'Jesse James', 'Bonnie Saw', 'Capn Frank Bryce', 'Bonnie Parker', 'Hamer', 'Frank', 'Malcolm Nobody', 'Clyde Okay', 'Bye Bonnie Bye Bonnie', 'Camera', 'Clyde Int', 'Litte Tom', 'Screenland', 'Clyde', 'Bucks', 'Look Bonnie', 'Utter', 'Bonnie Bonnie', 'Yessir', 'Bonnie Cmon', 'Frank Hammer', 'Billy You', 'Bonnie Lie', 'Davis', 'Clyde Buck', 'Blanch', 'Clarence Mr Barrows', 'Pete', 'Pshhhhhh', 'Clyde Set', 'Barrows', 'Malcolm', 'Miss Bonnie Parker', 'Montage Bonnie', 'James Cagney', 'Clyde Tomorrows', 'Tight', 'Joe Boyd', 'Robert Benton', 'Say', 'Velma Ai', 'Damn Bonnie', 'Billy Bonnie', 'Dexter Iowa', 'Click Out', 'Billy Son', 'Velma Davis Buck', 'Bill', 'Daddy Malcolm', 'Buck', 'Blanche', 'Surrender', 'Aw Bonnie Bonnies Voice', 'Eugene Man', 'Concernin', 'Bonnie', 'Ill', 'Sandborn', 'Tommy', 'Tom Bonnie', 'Blanche Buck', 'Clyde Clyde', 'Clyde Lessee', 'Wesson', 'Velma Ill', 'Mother Parker Bonnie Mother', 'Bryce', 'Clyde Barrow Bonnie Parker', 'Davis Come', 'Buck Anderson', 'Jesse', 'Billy Still', 'Clyde Again Come', 'David Newman', 'Ranger Rev', 'Kick', 'Eugene Eugene', 'Clyde Ai', 'Clyde Clydes', 'Mrs Barrow', 'Tom Mathew', 'Robert Benton Genres Crime Drama', 'Damn', 'Boy', 'Clyde Night Bonnie', 'Joplin Missouri', 'Clyde Night', 'Tom Reaction Bonnie Bonnie', 'Clyde Barrows', 'Uncle', 'Buck Buck', 'Clyde Malcolm', 'Martha', 'Ranger', 'Joplin', 'Clyde Barrow', 'Brandy', 'C W Cmon', 'Bonnie Lemme', 'Extreme', 'Mother Parker', 'Clyde Prison Bonnie', 'Elizabeth Barrett Brown', 'Malcolm We', 'Bonnie Clyde', 'Clyde Bonnie', 'Buck Cmon', 'Clyde Bonnie C S Clyde Buck', 'Negro I', 'Clyde Bonnie Buck', 'Mack Sennett', 'Clyde Angle', 'Buck Bonnie', 'Shut', 'Frank Bryce', 'Pete Sixty', 'Gun', 'Cmon', 'W Buck', 'Hush', 'Clyde Cmon', 'Ginger Rogers', 'Clyde Buck Bonnie C W Clyde Clyde', 'Percy Hammond', 'Cmon Cmon Cmon Abrupt', 'Buck Buck Buck', 'Bonnie Guess', 'Mrs Parker', 'Howdy', 'Malcolm Bonnie', 'Eugene Grizzard Velma', 'Myrna Loy', 'Whynt', 'Clyde First Policeman Step'}\n",
      "\n",
      "named entities - {'Doyle Cloudy Ill', 'Charnier V O', 'Roosevelt', 'Marie Just', 'Tu', 'Lou', 'Candy Store', 'Jimmy', 'Doyle Desk Clerk', 'Bill Mulderig', 'Candy Store Doyle', 'Medium', 'Jake Lamottad', 'Randy', 'Marie', 'William Friedkin', 'Charnier Calm', 'Charnier Doyle', 'Don Ameche', 'Howard Take', 'Mulderig', 'Walter Medium', 'Jake Lamotta', 'Charnier Si', 'Alain Cest Merveilleux Tu', 'Doyle Gimme', 'Frenchie', 'Mulderigs Feds', 'Mulderigs', 'Charnier Henri', 'Walter', 'Doyle Toy', 'Russos', 'Freeze', 'Charnier Quelle', 'Jillys', 'Russo Doyle', 'Clerk Doyle', 'Marseilles', 'Fran', 'Businessman Own', 'Maurice Lavalle', 'Doyle Wise', 'Doyle Come', 'Ext Rue', 'Spray', 'Jean', 'Russo Jimmy', 'Mrs Levene', 'Cinzano Doyle', 'Bill', 'Fonfon', 'Wherem', 'M Devereaux', 'Lyndon Johnson', 'Doyle', 'Ill', 'Sal Ill', 'Vanderbilt Int', 'Doorman Doyle', 'Russo Light', 'Doyle Strike', 'Charnier Tu', 'Jim Brown', 'Angie', 'Stop Cover Charnier', 'Zoom', 'Doyle Simonson', 'Phil Klein', 'Simonson', 'Russo Lie', 'Angie Fast', 'Charnier Henri Medium', 'Michael', 'Takin', 'Joel', 'Tiens Marie Je', 'Lastarzas', 'Hackensack Zoom', 'Doyle Whatta', 'Willie', 'Charnier Rear', 'Marciano', 'Carol Hark', 'Yeh', 'Doyle Bill', 'Ya', 'Puerto Ricans', 'Moulins', 'Pierre Nicoli', 'Stop Stop', 'Joel Weinstock', 'Charnier Il', 'Bed Stuyvesant', 'Charnier Marie', 'Terrific', 'Sal Boca', 'Club Doyle', 'Doyle Milk', 'Hidin', 'Doyle Or', 'Motorman', 'Blackjack Burns', 'Ziti', 'Doyle Doyle', 'Walter They', 'Delancey', 'Mutchie', 'Klein', 'Doyle Hands', 'Charnier Je', 'Sonofabitch Klein', 'Jimmy Bill', 'Phil', 'Walter I', 'Charnier Sois', 'Lastarza', 'Knock', 'Blackjack', 'Charnier', 'Doyle Yeh', 'Salami', 'Gus Lesnevich', 'Gin Rummy', 'Angie Nd', 'Willie Mays Bad', 'Dimly', 'Rue', 'Charnier Une', 'Jimmy Doyle', 'Madison', 'Devereaux', 'Russos Pov', 'Dirty Sonofabitch Int Russos', 'Henry Lee', 'Heroin', 'Je'}\n",
      "\n",
      "named entities - {'Chaplin Home Chaplin', 'Chaplin', 'Transcript', 'Charles Chaplin'}\n",
      "\n",
      "named entities - {'Peter Real', 'Nurses', 'Lacey Lacey', 'Peter Goodnight', 'Fine Ill', 'Yessir Andrews', 'East Lynne Peter', 'Sorry Mr Warne', 'Robert', 'Take Abraham Lincoln', 'Andrew', 'Alexander Andrews', 'Sorry Peter', 'Goodnight Mr Warne', 'Gordon I Gordon', 'Brat', 'Yessir', 'Peter The', 'Peter I', 'Andrew Come', 'Andrews', 'Absurd', 'Pete', 'Ellies Bedroom', 'Peter Aw', 'Peter Shut', 'Swell', 'Joe Gordon', 'Westleys', 'Dobbin', 'Peter', 'Joe Use', 'Gordon Gordon', 'Lacey', 'Shapeley He', 'Dad Andrews', 'Say', 'Young', 'Peter Mush Mush Operator', 'Henri', 'Shapeley Yessir', 'Glen Falls Michigan Andrews', 'Mullison', 'Joe', 'Yessir Gordon', 'Joe Listen', 'Gordon Great', 'Afraid', 'Shapeley Ellie', 'Andrews Ill', 'Pete Didya', 'Dad', 'Doughnut', 'Peter Danker', 'Brown', 'Shapeley You', 'Ill', 'Goodnight', 'Yeah First Pilot', 'Group Look', 'Yessir Ellie', 'Peter You', 'Spread', 'Groom', 'Mary Yessir', 'Gon', 'Mr Warne Peter', 'Zeke', 'Peter Warne', 'Gordon Slong', 'Gandhi', 'Ellen', 'Tonsil I', 'Offer', 'Killer', 'Hoyle', 'Ma', 'Peter With', 'Riskin', 'Peter Ellie', 'Shapeley Oscar Shapeley Peter', 'Ridiculous Lacey', 'Cinderella', 'Danker', 'Peter Peter', 'Tony', 'Mary Ellie', 'Behold', 'Hurry', 'Peters', 'Peter Hitch', 'Peter Joe', 'Alexander Andrews Wall Street', 'Shell', 'Gigolo', 'Git', 'Said', 'Peter Eat', 'Scum', 'Lovington', 'Remain', 'Yessir Shapeleys', 'Bugs', 'Gordon', 'Peter Holy', 'Shapeley Travelin', 'Clark', 'Ellen Andrews', 'Henderson Lovington', 'Shapeley', 'Everythingll', 'Darn', 'Mccormack Ellie', 'Peter Hurry', 'Topcoat Suitcase Hat', 'Peter Shapeley', 'Mullison Come', 'Peter Well', 'Joe This', 'Peter Chalk', 'Ellie Andrews', 'Mac Ill', 'Samuel Hopkins Adams The Harbor', 'Shapeleys', 'Henderson Henderson', 'Candy', 'Mary Mr King Westley'}\n",
      "\n",
      "None\n"
     ]
    },
    {
     "name": "stderr",
     "output_type": "stream",
     "text": [
      "Traceback (most recent call last):\n",
      "  File \"<ipython-input-4-926e6ae6d1a6>\", line 34, in FinalExtraction\n",
      "    f = open(\"scripts/\"+title+\".txt\",'r')\n",
      "FileNotFoundError: [Errno 2] No such file or directory: 'scripts/A Place in the  Sun.txt'\n"
     ]
    },
    {
     "name": "stdout",
     "output_type": "stream",
     "text": [
      "named entities - {'John Wayne', 'Rico Rico Rizzo Gretel', 'Annie', 'Depot', 'Joe Buck Int', 'Moonlight', 'Jackie', 'Stetson', 'Drink Frozen', 'Joes Reflection Gon', 'Joe Int', 'Camera', 'Gary Cooper', 'Joe Whoopee', 'Ratso Good', 'Frozen Sunshine', 'Rizzo Jackie', 'Towny', 'Joe Buck Come', 'Shirley Ratso', 'Beecham', 'Ratso Int', 'Roses Strobe', 'Ralph Ai', 'Mony Towny', 'Tex', 'Gretel', 'Joe Beg', 'Joe Ralph', 'Joe Int X Flat Night Joe', 'Joe Pyne', 'Joe You', 'Ye', 'Street Wheren', 'Odaniel', 'Bill Bonner', 'Joe', 'Bill', 'Sister Rosella', 'Joes Reflection', 'Shirley', 'Buck', 'Joe Shee', 'Pale Blonde', 'Joe Ext', 'James Bond', 'Nedick Joe Hold', 'Joe Hown', 'Ratso Joe', 'Hansel', 'Ill', 'Ratso Joe Screw', 'Joes Reflection Die Int', 'Joes Stetson', 'Shirley Miss', 'Towny Towny', 'Mother', 'Joes Voice Whoopee', 'Rape', 'Salt Genres Drama', 'Shirleys', 'Odiddle', 'Joe The Mutual Tower', 'Cherry Neverlin', 'Odaniel Ready', 'Dusk Ratso', 'Joe Kee', 'Stetson Woodsy', 'Ralph', 'Joe Smart', 'Shirley Top', 'Kee', 'Ratsos', 'Load', 'Charles Lindberg', 'Cowboy', 'James Leo', 'Bill Mister Bonner', 'Shirley Gretels', 'Ratso Rizzo', 'Lonely Heart', 'Saint Christopher', 'Shirley Gay', 'Sally Bucks', 'Shirley Joe', 'Ratso Ratso', 'Joe Buck Ill', 'Cass Guy', 'Cass', 'Ratso', 'Joe As', 'Rico', 'James Stewart', 'Youn', 'Driver', 'Joe Joe Shee', 'Woodsy Niles', 'Joe Joe', 'Greengrocer', 'Odaniel Ill', 'Fascinated Joe', 'Rizzo', 'Shop Night Ratso', 'Missus Gardner', 'Sally Buck', 'Hush', 'Ralph Joe', 'Buddha', 'Bill Int', 'Yaint', 'Joe Know', 'Siren', 'Joe Ratso', 'Shirley Get', 'Joe Goddam', 'Break', 'Joes', 'Joe Buck', 'Townys', 'Kennedy', 'Joe Joes', 'Ratsos Voice', 'George Raft', 'Joe Plenty', 'Enrico Rizzo', 'Con Edison', 'Joe Hansel', 'Joes Voice', 'Joe Joe Beat', 'Joe Ready', 'Frozen Sunshine Orange'}\n",
      "\n",
      "named entities - {'Hold Amos', 'Jeff Diz', 'Amos', 'Congressman Radner Schultz', 'Collapsed Mcgann', 'Daniel Boones', 'Jefferson Look', 'John First', 'Deficiency Bill', 'Joe Wait', 'Jefferson Goo', 'Jeff Awkward', 'Paine Jefferson', 'Terry Canyon Jefferson', 'Jackie Taylor And Mcgann', 'Jefferson Good', 'Joseph Jefferson', 'Diz Moore Poet', 'Sidney Buchman Story', 'Helen Get', 'Ma Ma Satans', 'Diz Frankly', 'Jackie', 'Kinda', 'Saunder', 'Stymie', 'Jeffs', 'Boy Stuff', 'Sam Foley', 'Radner Schultz Diggs', 'Jefferson Paine', 'Know', 'Paine Susan', 'Diz Moore', 'Paine Jeff', 'Kim', 'Washington Jefferson', 'Charles Be', 'Paine', 'Paine Paine', 'Hendricks Ill', 'Jim Taylor Hubert', 'Jefferson Yay Saunder', 'Joseph Paine', 'Hubert Hopper', 'Paine Page', 'Jeffs Senate Outer Office', 'Joseph Paine Willet Dam', 'Ma Jeff', 'Susan Paine', 'Ma Cook', 'Honorable Jefferson Smith', 'Jeff Mcgann', 'Taylor Paine Cook', 'Samuel Foley', 'Mcgann Susan Paine', 'Paine Newsman', 'Jeffs Story', 'Clerk Jefferson Smith Jeffersons Voice', 'Jeff Smith Big', 'Sam Hendricks', 'Jefferson Saunders', 'Jefferson Letitia', 'Paine Jeffersons Voice', 'Hubert Hoppers', 'Joe Paine', 'Understand Hubert', 'Swell', 'Paine Hang', 'Diz Diz', 'Sorry Jefferson Smith', 'Bobby', 'Diz Don Quixote', 'Understand Defend', 'Joe The Silver Knight', 'Hopper Ma', 'Jeff', 'Boy Ranger', 'Jefferson Smiths Ill', 'Cook', 'Willet Dam', 'Jeff Smith Hubert', 'Hendricks Jim', 'Terry Canyon Saunders', 'Filibuster Hubert', 'Clarissa Diz', 'Fine Jefferson', 'Henry Miller', 'Saunders', 'Paine He', 'Washingtons', 'Jeff Smith', 'Henry Hill Horace Miller', 'Clayton', 'Jim Taylor', 'Joe Come', 'Nosey', 'Willet Creek', 'Bill Paine Jeff', 'Say', 'Taylor Pop Hubert', 'Peter Jeff', 'Hya Carl', 'Horace Miller', 'Susan Nah', 'Taylor Mcgann Hubert', 'Taylor Mcgann', 'Saunders Diz', 'Daniel Webster', 'Hya', 'Taylor Joe', 'Huberts', 'Joe', 'The Clarkville Courier', 'Bill', 'James Taylor Ill', 'Taylor Jackson', 'Fire', 'Edwards', 'Clark Jim Taylor', 'Mr Allen', 'Stop Jeff', 'Clarissa Ma', 'Kenneth Allen', 'Miller', 'Albert', 'Taylor Hubert', 'Henry The', 'Susan', 'Taylor Man', 'Happy Hubert', 'Diz Forget', 'James Taylor', 'Diz Ill', 'Jeff All', 'Paine Taylor', 'Ill', 'Jefferson Smiths', 'Manna', 'Paine Jim Taylor', 'Willet Creek Dam', 'Allen Allen', 'Brownell', 'Paine Jefferson Mcgann', 'Foley', 'Hear', 'Arthur Kim', 'Allenll', 'Mcgann Mcgann', 'Mcgann Diz', 'Hubert Happy Hopper', 'George Washington', 'Jerry Blackie Queenie Lets', 'Jim Hubert', 'Abraham Lincoln', 'Dearborn', 'Fellas', 'Taylor Smith Stop', 'Hopper', 'Mr Griffith', 'Rostrum', 'Diz', 'Paine Smith', 'Mcgann', 'Child', 'Snow White', 'Chairs', 'Jeff Smith Heres Jeffs', 'Jefferson Please', 'Webster Sat', 'Paine Ma', 'Ken Allen', 'Agnew', 'Hubert Hopper Hurry', 'Jeff Hubert', 'Library Hubert', 'Ranger Band', 'Ma', 'Saunders Good', 'Jim', 'Hubert Hubert', 'Mrs Smith', 'Smith', 'Henry Hill', 'Jefferson Smith Hubert', 'Jimmie Gee', 'Henry Then', 'Daniel Boone', 'Jean Jacques Rousseau', 'Mr Cook', 'Boloney', 'Cinch', 'Kaltenborn', 'Clay', 'Joe Susan', 'Shoot Clarissa', 'Emma', 'Mcgann Blow', 'Hurry', 'Taylor Keep', 'Smith Mr', 'Hubert Boys', 'Jefferson', 'Ranger Smith', 'Pro Tem', 'Carl', 'Mcgann Relax Happy Jim', 'Jefferson Amos', 'Joe Keep', 'Susan Painell', 'Mr Smith', 'Hill', 'Sorry Hubert', 'Goodbye', 'Paine Nonsense Jeff', 'Grab', 'Allen', 'Trail Blazer', 'Smiths', 'Taylor Chick', 'Ranger', 'Puss', 'Jefferson J Jefferson Smith', 'Dad Hubert', 'Ma Ma', 'Paine Will', 'Mrs Hopper', 'Jeffs Ma', 'Jeff Jackie', 'Voice Whadaya', 'Boy Blue', 'Lobby Mcgann', 'Waiter', 'Ken Taylor', 'Wha Emma', 'Susan Susan Paine', 'Jackie Hopper', 'Jeff Ill', 'Mr Smiths', 'Lulu Hold', 'Washington', 'Don Quixote', 'Jeff Paine', 'Dizs', 'Jefferson Smith', 'Paine Pick', 'Taylor And Mcgann', 'Henry Hill Emma', 'Sam Foleys', 'Catch', 'Paine Jim', 'Mr Mcgann', 'Paine Goodnight Jeff Jefferson', 'Diz Nothin Beat', 'Joe We', 'Take Jeffs', 'Webster', 'Paine Diz', 'Jeff Good', 'Jimmie', 'Jefferson Mas', 'Chin', 'Paine Susan Goodnight Jeff', 'Mcgann Harmony', 'Man Jefferson Smith', 'Into', 'Susan Fass', 'Jane Papas', 'Clerk', 'Carl Cook', 'Paine Mcgann', 'Clayton Smith', 'Mcgann Joe Jim', 'Jim Goodbye', 'Hopper Hubert', 'Taylor', 'Joes', 'Mcgann Cook', 'Paine Saunders', 'Hubert', 'Mrs Emma Hopper', 'Thumbs Ill', 'Amos Amos', 'Nonsense Peter Number', 'Griffith', 'Paine To Paine', 'Paine Laughter', 'Chick', 'Susan Susan', 'Auld Lang Syne', 'Paine Bill Carl', 'Glad', 'Joe Be', 'Farrell Leave'}\n",
      "\n",
      "named entities - {'Yo Ray', 'Yeah Bed', 'Raymond My', 'Raymond', 'Ray Come', 'Tom Sort', 'David Eisenhower', 'Raymond Remember', 'Right Ray Refund', 'Listen Ray', 'Pick', 'Mr Bainbridge', 'Charlie Babbitt', 'Ray Legal', 'Charlie Tell', 'Iris Raymond', 'Speak', 'Raymond We', 'William Marshall', 'Hamburger Ray', 'Ray You', 'Sue Morgan', 'Eleanor Babbitt', 'Davis', 'Fred Astaire', 'Charlie Lenny', 'Susanna', 'Raymond She S', 'Dodgers', 'Mitchell Get', 'Clothes Charlie', 'Sam Tape', 'Bill Monroe', 'Raymonds', 'Ray Elevator', 'Toothpicks', 'Ray Go', 'Bateman', 'May', 'Susanna Kissed Susanna', 'Ted Kluszewski', 'Raymond Hell', 'Frame', 'Young', 'Dr Marston', 'Oak', 'Donald Clemons', 'Ray Course', 'Lunch', 'Rolex', 'Stu', 'Raymond Back', 'Raymond He', 'Burnett', 'Raymond Hey You Dipshit', 'Tub', 'Dee Fondee', 'St Louie', 'Ted Kloszevski Kluszewski', 'Charlie', 'Ray Yeah Step', 'Ill', 'Ciao Ray', 'Boxer', 'Wyatt Wyatt', 'Water', 'Hanes Underwear', 'Bruner', 'Fernando Valenzuela', 'Wrecks', 'Buick', 'Dr Bruner', 'Treadwell', 'Desert Wind', 'Pepperoni', 'Shakespeare', 'Mitchell', 'Nick', 'Wapners', 'Raymond All', 'Iris Iris', 'Raymond Raymond', 'Iris', 'Charlie Mr', 'Ray Raymond', 'Mom', 'Ray Kmart', 'Hour Mystifying Course', 'Ray Pick', 'Raymond Yeah Come', 'Raymond Ray Just', 'Charlie Dr', 'Raymond Good', 'Kmart Raymond', 'Ray Pancakes', 'Ready For Palm Springs', 'Ray Ray Ray', 'Raymond Would', 'Charlie Can', 'Babbitt', 'Stu Stu Stu Legally Bruner', 'Heres Davis', 'Sanford Babbitt', 'Andrew Baker', 'Ken Aldorf', 'Ken', 'Bumblefuck Missouri', 'Ray', 'Ginger Rogers', 'Ray Ill', 'Break', 'Ray Ray', 'Lisa', 'Ray Dr Bruner', 'Lenny', 'Wanna', 'Wapner', 'Charlie Babbitt Stay', 'Charles Sanford Babbitt', 'Watchman', 'Doug Llewelyn'}\n",
      "\n",
      "named entities - {'Richard The', 'Burbank', 'Annie', 'Knicks Robin', 'Balzac', 'Oswald', 'Rob Keep', 'Pick', 'Robert Redford', 'Cherie', 'Ivan', 'Mom Hall', 'Cheri', 'Alvy Ill', 'Ill Ill', 'Chippewa Falls Alvy', 'Mcluhan', 'Frank Sinatra', 'Wife Will', 'Tony Lacey', 'Adlai Stevenson', 'Duane', 'Mozart James Joyce', 'Rob Mhm Alvy', 'Gesture', 'Terry Robin Interrupt', 'Annie Gram', 'Charlie Alvy', 'Melvyn Greenglass', 'Moskowitz', 'Nixon', 'Herbie Adult', 'Groucho Marx', 'Kissinger', 'Mmm Tony', 'Nelson Eddy', 'Jesus Ill', 'Tony Lacey Tony', 'Dick', 'Doug Douglas Wyatt', 'Tail Pup', 'Donald', 'Adult First', 'Alvy Mm', 'Gestapo', 'Lyndon Johnson Alvy', 'Dylan', 'Alvy Actor', 'Sinatras', 'Dad Hall', 'Dennis', 'Aw Marie', 'Randy Hunt Annie', 'Max Wagner', 'Ralph St', 'Freddy Nd', 'Alvy', 'Tsch Allison', 'Whatta', 'Reluctantly Alvy', 'Randolph Hunt', 'Allison Alvy', 'Shawn', 'Allison', 'Marshall Mcluban', 'Lunch', 'Rob', 'Tony Smile', 'Donald Donald', 'Johnson Alvy', 'Seated Alvy', 'Chippewa Falls', 'Raid', 'Charlie You', 'Henry James', 'Allison Portchnik', 'Mmmm Mmmm', 'Jack', 'Charlie', 'Lyndon Johnson', 'Ill', 'Woody Allen Marshall Brickman', 'Uncle Bill', 'Alvy Honey', 'Mother', 'Semitism Rob Max', 'Wagner Wagner', 'Rob Tessie', 'Buick', 'Joey', 'Gesture Tsch', 'Yuh', 'Alvy Singer', 'Impeach Ronald Reagan', 'Rob Max', 'Tony Lacey Alvy', 'Max', 'Shakespeare', 'Ivan Ackerman', 'Alvy Singer Alvy', 'Snow White', 'Maam', 'Jew Rob Alvy', 'Alvys Mother Interrupting George', 'Hershel Kaminsky', 'Wagner Rob', 'Earl Warren Allison', 'Duane Alvy', 'Bloomingdales', 'Jeanne Darc', 'Jerry', 'Mrs Singer', 'Max Alvy', 'Tony Laceys', 'Max Alvy Carry', 'Sadie Laughing Sadie', 'Hang', 'Annie Hm Alvy', 'Granted La Strada', 'George Uh George', 'Joey Nichols', 'Tony', 'La De Da', 'Adolf Hitler Annie', 'Chippewa Falls High School Cut To', 'Paul Goodman', 'Tsch', 'Platform', 'Marshall Mcluhan', 'Bob', 'Central Parks', 'Tessie', 'Rob Annie', 'Annoyed Fellas', 'Robin', 'Medea Lemme', 'Janet Laughing Alvy Rob Eager', 'Alvy Alvy', 'Norman Rockwell', 'Alvys', 'Allen Marshall Brickman', 'Jerry Alvys Voice', 'William F Buckley', 'Woody Allen', 'Sylvia Platb', 'Samuel Beckett', 'J Edgar Hoover', 'Monroe', 'Alvys Psychiatrist', 'Arnie Arnie', 'Ooooh Alvy', 'Ralph Alvy', 'Impeach', 'Adult Alvy', 'Grammy', 'Comedian Off', 'Tom Christie', 'Freddy Freddy', 'Tonys', 'Max Rob', 'Alvy Ann', 'Marshall Mcluhans', 'Fellini', 'Sinatra', 'Dylan Alvy Cough I', 'Duane Mom Hall', 'Everything Saunas Jacuzzi', 'Princeton', 'George', 'Manson', 'Charlie Chaplin', 'Bob Tony', 'Janet', 'Doc', 'Max Alvys Mother', 'Johnny Carson', 'Perfect', 'Eisenhower', 'Dick Cavett', 'Genres Comedy', 'Pierre', 'Sigh Annie'}\n",
      "\n"
     ]
    },
    {
     "name": "stdout",
     "output_type": "stream",
     "text": [
      "named entities - {'Bill Diehl Stan', 'Formica', 'Lou', 'Marge', 'Wuddya', 'Jerry Hon', 'Grimsrud Shut', 'Jean Scream', 'Click Jerry', 'Jerry Lundega', 'Gary Officer Olson Man', 'Anderson', 'Margie Marge', 'Whoa Whoa Daddy Grimsrud', 'Gustafson Old', 'Jerry Get', 'Dad Jerry Wade', 'Shep', 'Salesman Ya', 'Jerry Jerry', 'Widda', 'Gustafson', 'Jerry Ya', 'Margie Olmstead', 'Gary White', 'Brainerd', 'Jerry Jerry Lundegaard Voice All', 'Stan Wades', 'Lorraine', 'Audience Awoooo', 'Mile Lacs', 'Grimsrud', 'Sylvia', 'Gary Hiya Norm How', 'Gunderson', 'Norm', 'Another Salesman', 'Forty', 'Goddamn', 'Jean Hon Voice', 'Jerry Carl', 'Gary Mr Mohra', 'Mrs Lundegaard', 'Jean Marge', 'Grimsurd', 'Stan', 'Jean', 'Gunderson Marge', 'Broken', 'Mike Yanagita', 'Dad', 'Carl Blood', 'Man Ya', 'Mrs Gunderson Marge', 'Mike Yanagita Remember', 'Margie We', 'Jerry Lundegaard', 'Carl Showalters', 'Carl Showalter', 'Ill', 'Exit Booth Carl', 'Pancakes Hause', 'Glass', 'Ecklund Swedlins', 'Scotty', 'Katie Jensen', 'Mike', 'Ramp Carl', 'Dayton Radisson', 'Jerry You', 'Gustafson Jerry', 'Mike Great', 'Jose Feliciano', 'Scotty Ill', 'Gaear Grimsrud', 'Carl Ill', 'Fnk Road Carls', 'Mike Mike', 'Reilly Deifenbach', 'Norm Son', 'Jerry Hon Upstairs', 'Carl Carl', 'Marge Okey', 'Gimmee A Dammit', 'Jerry Beat Jerry', 'Mike Carlton Celebrity', 'Jerry', 'Cop Marge', 'Grimsrud Grimsrud', 'Jerry Beyond', 'Elmer Fudd', 'Jerry Babe', 'Jeshush', 'Bright', 'Ya', 'Lou Ya', 'Woman', 'Eden Prarie', 'Stan Yah Jerry Pound', 'Margie', 'Grimsrud Jerry', 'Grandad', 'Jerry Wade', 'Carl', 'Stan Jerry', 'Dad Jerry', 'Gary The', 'Gary Shep Proudfoot', 'Jean Hold', 'Marge Gunderson', 'Waiter', 'Linda', 'Geez', 'Gary Ya', 'Int Prowler Marge', 'Adiosh', 'Wade', 'Geeze Margie', 'Ethan Coen', 'Norm Norm', 'Shep Proudpfut', 'Woman Wuddya', 'Jerry Shep', 'Stan Grossman', 'Jerry Geez', 'Gary', 'Wade Ya', 'Marge Hon Norm', 'Steve Boutsikaros', 'Linda Cooksey', 'Cmon', 'Mrs Mohra', 'Stu Jacobson', 'Joel Coen', 'Clerk', 'Jean Scott Jerry Say', 'Snow', 'Marge Ill', 'Moren', 'Heck Fdic', 'Paul Bunyan', 'Mike Yanagita Ya', 'Shep Proudfoot', 'Jean Jerry', 'Norm Marge', 'Janet', 'Wades', 'Mrs Gunderson', 'Mike Should', 'Mikes', 'Jerry Whatcha', 'Lundegaard', 'Jean Lundegaard', 'Man Ill'}\n",
      "\n",
      "named entities - {'Adarene', 'Mrs Leslie', 'Roosevelt', 'Fernie', 'Leslie Now', 'Jett', 'Gomez', 'Bone', 'Ms Wharton', 'Jordy', 'Jett Nice', 'Mighty', 'Heres Ula', 'Leslie How', 'Mrs Obregn Ill', 'S Pinky', 'Leslie Thank', 'Speak', 'Juana Villalobos', 'Douglas Fly', 'Bick Nobody', 'Bick Good', 'Jett Take', 'Austin', 'Jordan Benedict', 'Boy Howdy', 'Grandpa Grandpa Ice', 'Vientecito', 'Clair De Lune', 'Pinky', 'Japes Glad', 'Leslie Good', 'Jordan Benedict Iv', 'Jetexas', 'Howdy Jett Good', 'Clinch Bick', 'Deep Smith', 'Mommy', 'Bick', 'Bale', 'Leslie Leslie', 'Witness', 'Flunky Flunky', 'Kale Beebe', 'Mrs Jordan', 'Bick Mr Benedict', 'Jordan Hello', 'Luz', 'Dad', 'Tex Howdy', 'Burkburnett', 'Nancy Good', 'Mrs Benedict Perdoname', 'Bawley Good', 'Bick Fine', 'Ill', 'Vashti', 'Vashti Hakes', 'Emperador Hotel', 'Mort Snythe', 'Jett Everybody', 'Mrs Jordan Benedict', 'Howdy Jett', 'Daddy Reason', 'Jordan', 'Jett Howdy', 'Jett Come', 'Pinky Come', 'I Ill', 'Leslie Mighty', 'Jett Rink', 'Jett Rinks', 'Ma', 'Jett Jett', 'Uncle Bawley', 'Luz Oh', 'Juana', 'Mrs Obregns', 'Beauty', 'Mrs Benedict', 'Bick Touchy', 'Jett Real', 'Papa Bob', 'Beckwith', 'Hurry', 'Waco', 'Bob', 'Bob Dace', 'Joan', 'Jetts', 'Bob Howdy', 'Jett Rink Gomez', 'Leslie Hello', 'Vashti Mort Snythe', 'Bale Ill', 'David Karfrey', 'Leslie You', 'Pedro', 'Mrs Benedict Come', 'Sam Houston', 'Mrs Bale', 'Bick Benedict', 'Judy', 'Luz Benedict', 'Mrs Obregn', 'Howdy', 'Benedict', 'Leslie', 'Jett Rink Day', 'Calfs', 'Set', 'Dr Borneholm'}\n",
      "\n",
      "named entities - {'Torrey Nobodys', 'Starrett Ill', 'Grafton', 'Torrey Torrey', 'Starrett Joe Starrett', 'Joe Go', 'Chris Beat', 'Joe Starrett', 'Starrett', 'Wilson Ai', 'Joey Joey', 'Joey Ill', 'Chris Bust', 'Pete', 'Joey Goodnight', 'Johnson Howdy Shane', 'Joey Take', 'Wilson', 'Mrs Starrett', 'Starrett Mr', 'Shane Shane', 'Joey Run', 'Looky', 'Stranger', 'Mr Grafton', 'Stonewall Jackson', 'Joe', 'Anything', 'Stop Ill', 'Chris Knock', 'Cheyenne Ca', 'Reckon', 'Shipstead', 'Susan', 'Ernie', 'Lee', 'Ill', 'Bang Bang', 'Rufe', 'Mother', 'Joe Shanell', 'Ed Howells', 'Joey', 'Chris Tear', 'Shane Guess', 'Chris', 'Shane Morgan', 'Starrett Shane', 'Lewis', 'Lewis Fred Fred Torrey', 'Joey Come', 'Comin', 'Yanks Listen', 'Ma', 'Joey Shane', 'Starrett Torrey', 'Chris Thank', 'Honey', 'Jack Wilson', 'Mother Pas', 'Marian Please', 'Ernie Wright', 'Johnson', 'Joey Ca', 'Joey You', 'Boss Look', 'Starretts', 'Martha', 'Said', 'Martha Shipstead', 'John Sue', 'Howdy Joe', 'Howdy Starrett', 'Mrs Torrey', 'Stonewall', 'Ernie Bluff', 'Joe Joe', 'Torrey', 'Johnson They', 'Joe We', 'Reb', 'Gun', 'Wilson Shane', 'Ryker', 'Jack Wilson Gunfighter', 'Joe Starrett Fool', 'Howdy Starrett Expectin', 'Chris Dirty', 'Joey Soda', 'Cheyenne', 'Joe Beat', 'Joe Wo', 'Joe Starretts', 'Morgan'}\n",
      "\n",
      "named entities - {'Al Need', 'Floyd', 'Tom Ill', 'Willy Mae Ma', 'Ma Ma Al', 'Whay', 'Stetson', 'Uncle Johns', 'Granma', 'Johnson Base', 'Chuck Alec', 'Grampa Grampa', 'Jule', 'Muley Listen', 'Bert', 'Grandmas', 'Al Gallon', 'Ready Pa Pa', 'Granma Grampa', 'Johnson Genres Drama User', 'Tom Ai', 'Ma Gettin', 'John He', 'Woman Mornin', 'Ruthie Tom', 'Joad', 'Davis', 'Rosasharnll', 'Al Watch', 'Tom', 'Rosasharn Howya Al Grampa', 'Ma Noah', 'Thomas', 'Man Evnin', 'Uncle John Get', 'Rosasharn Yever', 'Al Rosasharn', 'Tom Tom', 'Tom Tell', 'Tom His', 'Thomas Hidy Mizz Thomas Thomas', 'Tom Theys', 'Somepin', 'Hep Rosasharn', 'Connie', 'Howya Noah', 'Drivin', 'John Fine Tommy Glad', 'Uncle John', 'Casy Tom', 'Tommy You', 'Tommy Tom Bust', 'Willie You', 'God', 'Rosasharn Hi', 'Joe Daviss', 'Tom Didn', 'Rosasharn Smile', 'Muley Everbody', 'Young', 'Bill Cut', 'Truck', 'John Tell Tom', 'Mizz Clark', 'Howm', 'Jackson', 'Tom Looks', 'Winfiel', 'Al', 'Joe', 'Bill', 'John Steinbeck', 'Rosasharns', 'Riot', 'Thomas Ill', 'Reckon', 'John Connie', 'Listen Smart Guy Ill', 'Granma Noah', 'Al Ill', 'Joad Tom Joad Caretaker', 'William James Joad Dye', 'Yesm', 'Spencer', 'Howya Uncle', 'Awright Awright', 'Tom Ought', 'Bill Bill', 'Blowin', 'Ill', 'Muley After', 'Preacher', 'Everbody', 'Tommy', 'Mike', 'Somepins', 'Rosasharn Pa', 'Noah', 'Tim', 'Al Ready Ma', 'Floyd Twicet', 'Gallagher', 'Al Short', 'Smirking See', 'Clerk Name Tom', 'Shet', 'Grampa', 'Al Whatta', 'Floyds', 'Theys', 'Tom Wilkie', 'Grin', 'Tom You', 'Comin', 'Lemmo', 'Awright Tommy', 'Omnes Lookut', 'Ma', 'Tim Wallace', 'Willie', 'Tom Get', 'Noah Granma', 'S Grampa Al', 'Tommy Point', 'Ma Rosasharn', 'Tom Al', 'Granmas', 'Ya', 'Woman', 'Huddle', 'Floyd Ever', 'Boy', 'Tommy Tom', 'Tim Awright', 'Whatcha', 'Proprietor', 'Rosasharn', 'Muley Muley Tommy', 'Uncle', 'Lookie Tom', 'Git', 'Mae', 'Tom I', 'Ma Ma', 'Rosasharn Cut', 'Tom Policeman', 'John Noah', 'Al Get', 'Tom Me', 'John Ma', 'Tom Howya', 'Lissen', 'Tom Listen Faint', 'Jackson Buck Jackson', 'Muley Grave', 'Think Mas', 'Driver', 'Tom Joad How', 'John John', 'Lay', 'Joad Say', 'Tom Howdy', 'Tom Ma', 'John Al', 'Al And', 'Al Pa', 'Mrs Joad Rfd', 'Mas Have', 'Joad Clerk', 'Tom Stay', 'Pad', 'Tom Joad', 'Rosasharn Lets', 'Tom Later', 'Winfiel Look', 'Muley Tom', 'Muley Muley', 'Rummage', 'Casy', 'Felt', 'Muley', 'Highway', 'Muley Go', 'Tommy Tom Full', 'Lissen Citizens', 'John Watch', 'Knock', 'Joe Tom Evenin', 'Ruthie', 'Wilkie', 'Mas', 'Tom Them', 'Al Gon', 'Tulsa', 'Tom Muley', 'Ma Tommy', 'Leader', 'Ma Leave', 'Thoughtfully Wonder', 'Frank Frank', 'John Grampa', 'Granma Granma', 'Glad', 'Bert Bert', 'Al Tom', 'Bill Kinda', 'Ma Als'}\n",
      "\n",
      "named entities - {'Sparky Silence', 'Bienvenue', 'John Brutal', 'Paul Ill', 'Kathe', 'Boss Howell Brutal', 'Hurt', 'Cmon Toward', 'William Wharton', 'Irving Berlins', 'John Find', 'Ginger', 'Sparky', 'Paul Brute', 'Pete Interesting Buncha', 'Eddie Del', 'Smiles', 'Billy The Kid', 'Percy Coffey', 'Hal Ill', 'Paul Dean Int', 'Melindas', 'Dels', 'St Christopher', 'Billy Wharton', 'Bitterbuck Paul', 'Billy Niggers', 'Paul Kill', 'Mile', 'Howie Detterick', 'Brutal Harry', 'Paul Hal', 'Paul Out Cynthia', 'Fred Astaire', 'Hal Moores', 'Sparky Paul', 'Pete', 'Percy Brutal', 'Billy Paul Let Him', 'Percy Billy Whata', 'Get Dean', 'Jack Van Hay', 'Billys', 'Jan', 'Percy Hal', 'Percy Names', 'Dean Cmon Percy', 'Percy Paul Jeezus', 'Billy Pssss', 'Del Brutal', 'Wild Bills', 'Percy Wetmore', 'Elaine', 'Fuller', 'Paul Percy', 'Kids Lunch', 'Astaire', 'Dean Paul Del', 'John Coffey', 'Billy Yeeeeeeehaaaawwwwwwrooooo', 'Paul Dean', 'Hal', 'Del', 'Paul Del', 'Young', 'Paul Brutal', 'Melinda Brutus Howell', 'Dean Dean', 'Delacroixs', 'Irving Berlins Remember', 'Dean Hurt', 'Waiting Del', 'Momma', 'Jim Thorpe', 'Paul', 'Paul Mr Hammersmith', 'Harry Be', 'Bill', 'Amen Paul', 'Coffeys', 'Percy Van Hay', 'Hal Hal Stick', 'Billy Cmon', 'Brutal', 'Percy Hellraiser', 'Percy Sabotage Paul', 'Brad Dolan', 'Pandemonium', 'White', 'Del Ai', 'Ill', 'Delacroix', 'Katie', 'Mouse', 'Brutus', 'Jerry Springers', 'Mcgee', 'Brad Dolans Elaine', 'Mrs Moores', 'Dean Paul', 'Dean Del', 'Paul Paul', 'Newt Gingrich', 'Paul Bitterbuck', 'Moon Pie', 'Percy May', 'Giveya', 'Melinda', 'Arlen Bitterbuck', 'Guess Ill', 'Cora', 'Paulie', 'Percy Bzzzzzzzzt', 'Paul John John', 'Theys', 'John Take', 'Harry', 'Yeehaaw Good', 'Billy Lil Black Sambo', 'Jingles Paul', 'Toots', 'Marjorie Detterick', 'Eduard Delacroixs', 'Harry Percys', 'Amen Coffey', 'Harry Paul', 'John Law', 'Upsy', 'Delacroix Paul', 'Detterick', 'Del Wanna', 'Wild Bill', 'Bill Dodge', 'Gene Austin', 'Percy You', 'John', 'Paul John Coffey', 'Melinda Hal Make', 'Brutus Howell', 'Cry Yaaaahhh', 'John Harry', 'Elaine You', 'Ran', 'Cora Detterick', 'Hal Melindas', 'Dean Paul Dean', 'Pause Bitterbuck', 'Paul Edgecomb', 'Goddamn Percy Harry', 'Burt', 'Cynthia', 'Hal John Coffey Halt Halt', 'Top Hat', 'Percy', 'Earl', 'Ready Coffey', 'Paul Can', 'Amazingly Billys', 'Billy Big', 'Brad', 'Paul Lie', 'Billy Sright', 'Various Angle', 'Doc Sadler', 'Howie', 'Bill Hickock', 'Mouseville Paul And Brutal', 'Wharton', 'Okra', 'John I', 'Paulie Paul', 'Percy Throw Paul', 'Nothing', 'Frank Darabont', 'Elaine Mr Edgecomb', 'Harry Harry', 'Harry Dean', 'Lillie Langtry', 'Schuster', 'Coffey', 'Roy', 'Paul Coffeys', 'Eduard Delacroix', 'Nobodyd', 'John Sick', 'Paul Cmon John', 'Percy Dead', 'Mr Hammersmith', 'Dean', 'Ius', 'Percy Percy', 'Paul Hal Hal', 'Ill Brad', 'Cmon', 'Paul Don', 'Paul Delacroix', 'Boss Howell', 'Ginger Rogers', 'Harry Hold', 'Percy Get', 'Hal Pure', 'Elaine Angle Shifts', 'Arlen', 'Burts', 'John You', 'Beinvenue', 'Delacroix Brutal', 'Paul Guess', 'Jans', 'Capn', 'Whadja', 'Hal Hal How', 'Get Coffey', 'Paul Mr Jingles Del Dat', 'Harry Better', 'Pauls', 'Paul Shut', 'Whassit', 'Percys Yells', 'Paul Wharton', 'Paul Coffey', 'Billy The Kid Tilt', 'Bitterbuck', 'Airless', 'Je'}\n",
      "\n"
     ]
    },
    {
     "name": "stdout",
     "output_type": "stream",
     "text": [
      "named entities - {'Mrs Guiler', 'Neary Larry Butler', 'Bud The', 'Laughlin Pardon', 'Nothing', 'Sylvia', 'Matthew Mc', 'Fast Kick', 'Walsh', 'Mrs Harris Ill', 'Roy', 'Chicken', 'Theodore Roosevelt', 'Hurry Hold', 'Einstein', 'Sara Lee Moon', 'Larry Larry', 'Ronnie', 'Toby Brad Come', 'Frank', 'Roger Continue', 'Pinocchio', 'Walter Cronkite', 'Riot Control', 'Jillian Guiler', 'Kim', 'Mr Lacombe', 'Roy Ike', 'Mrs Harris', 'Barry Where', 'Bigfoot', 'Roy Roy', 'Bud You', 'Julie Anderson', 'Honey', 'Jump Jump', 'Claude Lacombe Frank Taylor', 'Roys', 'Trick', 'Hour Ronnie', 'Cody', 'Dad', 'Goofy Golf', 'Swensen Matthew Daniel', 'Roger Center', 'Crowheart', 'Jack', 'Wrong Roy', 'Goofy Golf Roy', 'Barry', 'Guess', 'Ill', 'Larry', 'Robert F', 'Lock', 'Barry Honey Barry', 'Delore Rudolph E', 'Nearys', 'Harry Ward Craig', 'Lacombe', 'Erickson David', 'Brad', 'S Mrs Harris', 'Beat', 'Craig Harry Ward', 'Earl We', 'Quickly Brad'}\n",
      "\n",
      "named entities - {'Bill Bastard Mary Stop', 'Joan Tewksbury', 'Haven Barnett', 'Bluegrass', 'Peter Finch', 'Sueleen', 'Bill Hat Int', 'Norman', 'Barbara Jeans', 'Jean Name', 'Green Glad', 'Green Can', 'Bud Bud', 'Tom Long', 'Sueleen Gay', 'Al Allen', 'Glenn Thank Triplette Triplette', 'Tom', 'Delbert', 'Green Ill', 'Listen Norman', 'Vitamin', 'Int Linneas Car Join', 'Connie', 'Vitamins', 'Haven Delbert', 'Benefit Banquet', 'Momma', 'Mother V Bet The', 'John Triplette Bill', 'Havens Linnea', 'Bill', 'Dakota Guess', 'Afraid', 'Song', 'Haven Hamilton', 'John Triplette Triplette', 'Linnea', 'Nam', 'Brown', 'Bill Norman', 'Tom Old', 'Bill Bill', 'Ill', 'Mr Green', 'Albuquerque', 'Mary Bill', 'Tricycle', 'Johnny', 'Kenneth Fraser Glad', 'Reese Cmon', 'Walker', 'Opal', 'Tom Howdy Bill', 'Bob Trilltree', 'Jean Barnett', 'Barbara Jean Triplette', 'Norman Norman', 'Tommy Brown', 'Mary Norman', 'Mary Be', 'Connie White', 'Tom Another Angle Tom', 'Gandi', 'Green Green Barbara', 'Terre Haute', 'Foxy', 'The Parthenon Kenny', 'Havens', 'Barnett', 'Opal S', 'Mary', 'Norman Lot', 'Barbara Jean', 'Reese Ill', 'Sueleen Gay Triplette', 'Zeke Willard', 'Joan', 'Bill Tom Triplettes', 'Kenny', 'Owen Green', 'Glenn Triplette Come', 'Billy Apple', 'Misfires', 'Joan Get', 'Haven Bud', 'Eddie Black', 'Glenn', 'Connie White Al Want', 'Roy', 'Bud Ya', 'John Triplette', 'Man Barnett', 'Percy Warner Park', 'Worry I', 'Percy Warner', 'Green Joan', 'Ken', 'Ryan', 'Mary Sue', 'Billy Apples', 'Kenneth Fraser', 'Hal Phillip Walker', 'Music Row Green', 'Bill Bill Come', 'Split', 'Bud', 'Glenn Green', 'Barbara Jean Bud'}\n",
      "\n",
      "named entities - {'Erica Beat', 'Mark Thiel', 'Tu', 'Napster', 'Marx Beat', 'Sean Great', 'Tate Winklevoss', 'Male Friend Good', 'Mark Marylin', 'Andrew Andrew Not', 'John Harvard', 'Mark Hm Erica', 'Bitoh', 'Erica Smiles', 'J Female Student', 'Dustin Moskowitz', 'Beat Mark', 'Tyler Cameron', 'Cameron Let', 'Bill Gates', 'Male Friend', 'Irving Berlin', 'Eduardo Saverin', 'Marylin Delpy', 'Narendra', 'Mark S', 'Jenny', 'Thefacebook', 'Gage Gage We', 'Albright', 'Marylin', 'Elliot', 'Mark Divya Mark', 'Send Mark', 'Wardos', 'Male Student', 'Mark Hi Divya', 'Mark Sean', 'Zuckonit', 'Aaron Sorkin', 'Michael Moritz Moritz', 'Bobby', 'Kenwrigit Good', 'Mark You', 'Peter Thiels', 'Mark Dustin', 'Sharon Sean', 'Eduardo Mark', 'Gretchen Gretchen', 'Don Julio', 'Peter Thiel To Eduardo', 'Mark Zuckerberg Production', 'Sean Parkers', 'Ashleigh', 'Eduardo', 'Jfk', 'Mark Zuckerberg', 'Stuart Singer', 'Mark Jenny', 'Plaxo', 'Div', 'Napster Sean', 'Larry Summers Cameron', 'Niagara Falls', 'Peter Thiefs', 'Cameron', 'Erica', 'Albert', 'Grad Student Into Phone', 'Erica Albright', 'Billy Olsons', 'Tyler', 'Ill', 'Henley Royal Regatta', 'Marylin Smiles', 'Lewis Carroll', 'Sean Refresh Mark', 'Asshole', 'Jack Daniels', 'Anne Anne', 'Baylor', 'Mark Zuckerberg Production Sean', 'Alice Dustin Jenny', 'Phoenix', 'Domain Name', 'Chris', 'Mountain Dew', 'Girl Bong', 'Dustin Mark', 'Sweet', 'Sean', 'Friendster', 'Divya Narendra', 'Summers', 'Sean Ill', 'Californias', 'Sharon', 'Mary Beat', 'Mark Into Phone', 'Maurice', 'Glock', 'Mark Zuckerberg Percent', 'Mary', 'Anne', 'Bob Mark', 'Chris Hughes', 'Capella', 'Charles River Dawn', 'Listens', 'Grad Student', 'Bob', 'Daniel Chester', 'Tribeca', 'Mark Hang', 'Yale Columbia', 'Mark Mark', 'Auditoriumi Night', 'Maryijin', 'Roosevelt Mark', 'Crimson', 'Michael Moritz', 'Wikipedia Mark', 'Mark', 'Mark Cameron', 'The Wink Marx', 'Zuckerberg', 'Jed Clampett Marx', 'Fuerza Latina', 'Beat Anybody', 'Jenny Puck', 'Mark Zuckerberg Eduardo Beat', 'Gage Mr Zuckerberg', 'Jenny Ill', 'Marx', 'Divya', 'Clothes', 'Gage Can', 'Mark Zuckerberg Cut', 'Pradas', 'Siddown Erica', 'Mark Marx', 'Mark Good', 'Peter Theil Would', 'Mark A', 'Mark Beat', 'Radcliffe', 'Gordon Gekko Mark', 'Mark Zuckerberg Cameron Into', 'Mart', 'Cameron Winklevoss', 'Divya Hang', 'Female Friend Divya', 'Mark Ill', 'Spam', 'Bitch Beat', 'Columbia Dustin', 'Erica Erica', 'Limes', 'Beat Cam', 'Larry', 'Zuck', 'Teddy Roosevelt', 'Sharon Another', 'Calm', 'Mary V Erica Albright', 'Sorkin Genres Drama User', 'Cameron Winklevoss W', 'Victor', 'Dustin Moskowitz Cameron Into', 'Chris Marks', 'Divya Casa', 'Sean Parker', 'Counsel'}\n",
      "\n",
      "named entities - {'Carter Ben Would', 'Ext', 'Hopperman', 'Robinson Carl', 'Mccleery', 'Goodnight Benjamin Ben Well', 'Reverse Bens', 'Singleman Angela', 'Heres Ben Ben Excuse', 'The Karl Smith', 'Gladstone Ben Luggage', 'Mike Nichols Marathon', 'Shot Podium', 'Elaine Int', 'Benjamin Ben', 'Mrs Braddock', 'Elaine Ben', 'Ben Wood', 'Elaine Elaine', 'Bens', 'Mrs Braddock Benjamin', 'Benjamin Ben Fine', 'Carl Smiths', 'Ben Ah', 'Benjamin Ben Now', 'Mrs Robinson Mrs Robinson', 'Ben Shoot Ben', 'Ben Great', 'Benjamin Would', 'Ben Ahh', 'Braddocks Voice', 'Carl Glad', 'Shoot Mrs', 'Ben Int', 'Benjamin You', 'Braddocks Voice Ben', 'Push', 'Reverend Smith', 'Ben Frozen', 'Elaine', 'Ben Carl', 'Mcquire Ben', 'Proabaly', 'Elaine Mrs', 'Mrs Arnold', 'Ben Mr Robinson', 'Mrs Singleman', 'Dad', 'Benjamin Mr Robinson', 'Lady Ben', 'Carl Smith', 'Dr Smiths', 'Braddock Ben', 'Benjamin Braddock', 'Ill', 'Mrs Robinson Mrs', 'Elaine Benjamin', 'Mcquire Mr Mcquire', 'Mrs', 'Benjamin Ben Lets', 'Ben Benjamin Braddock', 'Shot Ben Ben', 'Braddocks', 'Ben Elaines', 'Benjamin', 'Elaine Robinson Mrs', 'Gladstone Ben', 'Ben Listen', 'Look Ill', 'Mrs Robinson Benjamin Shoot Ben', 'Clerk Goodnight', 'Ben Man', 'Robinson', 'Ben Mrs', 'Mrs Robinson Ill', 'Smith Carl W M D Shoot Ben He', 'Carl Carl', 'Elaines', 'Elaine The Organ', 'Ben Ill', 'Goodbye Benjamin Shoot Benjamin', 'Ben Elaine', 'Benjamin Now', 'Elaine Benjamin Ben', 'Elaine Hello', 'Ben Hurry', 'Ben Most', 'Ben', 'Ben Run Elaine', 'Ben The', 'Elaine You', 'Carl', 'Ben Swell', 'Mcquire Ben Ben', 'Smiths', 'Ben Hello', 'Plane Closeup', 'Ben Come', 'Mrs Robinsons', 'Ben Mrs Robinson', 'Ben Ben', 'Singleman Ben', 'Louise', 'Elaine Ben Next', 'Closing Ben', 'Ben Mrs Robinson Mrs', 'Braddock', 'Night Ben', 'Shouting Elaines', 'Jeffrey', 'Mrs Robinson', 'Shoot Ben Ben', 'Elaine Robinson', 'Ben Shoot', 'Ben Quite', 'Benjamin Braddock Int', 'Follow Ben', 'Dewitte Mrs Singleman', 'Ben Mrs Carlson', 'Elaine Lets', 'Different', 'Mrs Carlson Mr Carlson', 'Footsteps', 'Dewitte', 'Jeffrey Singleman', 'Elaine Ben We', 'Mr Arnold'}\n",
      "\n",
      "named entities - {'Gordon Good', 'Intro', 'Wolf', 'Heartbeats', 'Floyd', 'Teddy Girl', 'Idy', 'Gil', 'Joke Joke Bobbie', 'Ginger', 'Bob Falfa', 'Billy Webber', 'Steve Budda Budda', 'Rock Around', 'Laurie Ill', 'Steven Bolander', 'Frank Bartlett', 'Terry The Tiger Debbie', 'Baby', 'James Bobbie', 'Citroen Wolfman', 'John Ya', 'Terry The Toad', 'Evelyn Chelnick', 'Tom Curt', 'Laurie John', 'Terry Fields', 'Mopar', 'Carol Ill', 'John Curt', 'Laurie Henderson', 'John Jump', 'Steve Terry', 'Bob Falfas', 'Vespa', 'Carlos', 'D J Steve', 'Laurie Get', 'Wolfman Ill', 'Gordon Jeez', 'Laurie A T Roadster', 'Jane', 'Surfin Safari', 'Terry Ill', 'Dave Oboler', 'John The Ford', 'Walt Hawkins', 'Peg Fuller', 'Carol Morrison', 'Kroot Bolander', 'Jim Kaylor', 'Buick Terry', 'Soul Terry', 'Steve Come', 'Baby Ill', 'Curt Henderson', 'Chubby Chuck', 'Terry Accelerate', 'Little Carlos', 'Connie Stevens', 'Goodnight Sweetheart', 'Terry', 'Bob Falfas Chevy', 'Peggy', 'Shame', 'Wolfman', 'Floyd Hello', 'Holstein', 'Joe Ya', 'Terry Eddie Burns', 'John Jump Out', 'Carlie Johnson', 'John Mud', 'John Milners Ford', 'Moose Lodge', 'James Dean', 'Kid Want', 'Blotto', 'Surfin Safari Carol', 'Eddie You', 'Joe', 'Carol', 'Terry Terry', 'Al', 'Ant Tie', 'Jack Wolfman', 'John Yezz', 'Nelson', 'Colette Call', 'Hank Anderson', 'Expectin', 'Echo', 'Steve Let', 'Ill', 'Diane', 'Lauries Edsel Inside', 'John Come', 'Carol Waitll', 'Car', 'Bolander', 'Mike', 'Deb Some Night', 'Carol Bunny', 'Havin', 'Vicki', 'Wolfman Bye Wolfman', 'Steve Bolander', 'Wolfman Jack', 'Hepcat Jewelers', 'Yeah Bobbie', 'Steve Laurie', 'Citroen', 'Debbie Debbie', 'Steve', 'Steven Steve', 'Falfa Dale', 'Kip Henderson', 'John Someone', 'Bull Steve', 'Steve Dale', 'Barbara Ann', 'Sandra Dee Terry', 'Eddie', 'Darlin', 'Carol Carol', 'Kips', 'Vette', 'Joe College', 'Curt Kip', 'Steve Curt', 'Eddie Eddie Come', 'Ah Wendy', 'Chuck Berry', 'Gil Gonzales', 'Steve Good', 'Joe Guess', 'John Just', 'Wolfman Jack Wolfman', 'John', 'Across Holsteins', 'Damn', 'Terry Come', 'Daryl Starbirds Laurie', 'Ya', 'Laurie Budda Macrae', 'Judy Judy', 'Carol Good', 'Weird Willard', 'Boy', 'Steve Debbie', 'Curt Joe Whadaya', 'George Lucas Gloria Katz Willard Huyck', 'Puke Green', 'Steve Steve', 'Feet', 'Linda John', 'Carl', 'Wendy Wendy', 'Curt Curt', 'Jack Carol', 'Ricky Nelson', 'Carols', 'Moon', 'John Falfa', 'Loc', 'Earl He', 'Johnny Ace', 'Gordon Henderson', 'Carol I', 'George Lucas', 'Debbies', 'Wolfman Baby', 'Carol Al Hiya', 'Peg', 'Carol Grungy', 'Debbie', 'Terry Brew', 'Carhops', 'Holstein Milner', 'Linda', 'Geez', 'Terry Then', 'Curt', 'Gordon', 'Curt Last', 'Steve Ah', 'Pharoah', 'Joe Joe', 'Curtsy', 'Mexicali Chili Barb', 'Diamond Wolfman Top', 'Steve Out', 'Johnny B Goode', 'Steven Steve Laurie', 'John Funny', 'Salesman Ill', 'Terry Whadaya', 'Don White', 'Dee Dee', 'Johnny Burnette', 'John Debbie', 'Mr Simpson', 'Studey', 'Dick Clark', 'Darby Langdon', 'Toad', 'Daryl Starbirds', 'Listen Ill', 'Chubby Chuck Vic', 'John Watch', 'Laurie', 'John Bullshit', 'Barf', 'Whadaya', 'John You', 'John Milner', 'Kennedy', 'Marilyn Gator', 'Eddie Burns', 'Falfa', 'Cruise Main', 'Found Barbara Ann', 'Judy', 'Debbie Guy', 'John Grab', 'Terry Terry Alley', 'Falfas', 'John Listen', 'Wendy', 'Steve Steve Terry Terry', 'Gallo Dam'}\n",
      "\n"
     ]
    },
    {
     "name": "stdout",
     "output_type": "stream",
     "text": [
      "named entities - {'Russell', 'Wolf', 'Vincent How', 'Mother Butch', 'Jimmy', 'Floyd', 'Wurlitzer', 'Vincent Come', 'Int Jimmies Bedroom Morning Jimmies', 'Fonzie', 'Madonna', 'Butch Land', 'Slashes Maynard', 'Mia Wallace', 'Gimps', 'Vincent Mayonnaise', 'Marsellus Butch', 'Vincent Antwan', 'Jules Keep', 'Jules Cmon Yolanda', 'Vincent Quit', 'Choco', 'Bora Bora', 'Merde', 'Takakura Kenstyle', 'Butch Coolidge', 'Vincent Vincent Royale', 'Vincent Cmon', 'Fabby My', 'Zed Without', 'Brett Ya', 'Marvin', 'Amsterdam Vince', 'Dan', 'Ringos', 'Vincent Goddammit', 'Jerry Quarry', 'Honey Bunny Vincent', 'Aunt Ginny', 'Vincent', 'Magnum Jules O S', 'Vincent Chill', 'Vincent Vega Ed Sullivan', 'Asta', 'Zed Pick', 'Marvin The Wolf Slams', 'Mia Mia', 'George Chuvalo', 'Knoxville Next', 'Horror Butch', 'Zed Wanna', 'Jody', 'Marsellus Zed', 'Zed Maynard', 'Jimmie Jimmie', 'Civic Vince', 'Lance I', 'Falls Flat', 'Brett Jules', 'Raven Mccoy', 'Roger', 'John Q Laws', 'Douglas Sirk', 'Jules Examples Vincent', 'Bonnie The Wolf Expect', 'Zed A', 'Antwan Rockamora', 'Fabby Fabienne Shut', 'Vincent Goddamn', 'Ed Sullivan Ed Sullivan', 'Push', 'Peggy Sue Mia Ill', 'Jules Wanna', 'Closeup Vincent', 'Fatso', 'Vincent Check Jules Yolanda', 'Zed', 'Pitt', 'Needle', 'Maynard', 'Sally Leroys', 'Quentin Tarantino', 'Chuck Berrys', 'Tony Rocky Horror', 'Zed Thrusts', 'Jimmies House', 'Martin', 'Jules Mia Vincent', 'Young', 'Jimmie How', 'Winston', 'Maynard His', 'James Dean', 'Vincent Vincent', 'Jules Vincent', 'Mia Jump Back', 'Raquel', 'Raquel Someday', 'Honey Bunny Goddammit', 'Vincent Lets', 'Vincent Royale', 'Vincent Ill', 'Fabienne Fabienne', 'Raquel Raquel Goodbye', 'Butch Butch', 'Jody Ill', 'Honey Bunny Shoot', 'Ed Sullivan', 'Winocki', 'Jules Nobodys', 'Jules Ill', 'Mia Mia Mia', 'Mamie Van Doren', 'Slack', 'Mia We', 'Vincent Jules', 'Vincent Bloody', 'Vincent Lance', 'Raquel Say', 'Missus Mia Wallace Ed Sullivan', 'Fabiennes Honda Blood', 'Brett Brett', 'Joe See', 'Antwan', 'Jack', 'Bonnie', 'Julie', 'Ill', 'Bloody', 'Goodnight', 'Doughboy Ernie Coolidge', 'Bank', 'Koons', 'Roger You', 'Teriyaki Donut', 'Jules Whaddya', 'Marsellus', 'Jules', 'Dave Vincent', 'Vincent Cmon Marvin', 'Floyd Ray Willis', 'Beat', 'Reed Martin', 'Vincent Fuckin', 'Durwood Kirby', 'Morning Jimmie', 'Jules O S', 'Jules Mr', 'Marilyn Monroes', 'Int Jimmies', 'Fuckin', 'Ready Pumpkin', 'Mia Vincent', 'Ezekiel', 'Uncle Conrad', 'Jules Funny', 'Vincent Dean Martin Jimmie', 'Sweet', 'Lewis', 'Jimmie Dimmick', 'Jules Fraid', 'Jules Check', 'Vince Mia', 'Jules Goddamn Jimmie This', 'Jules Say', 'Richard', 'Vincent Butch', 'Amsterdam Vincent', 'Vincent Rollin', 'Int Jimmies Bedroom Morning Jules', 'Sodomy', 'Hoyle', 'Winston Jimmie', 'Donna Reed', 'Jim', 'Jerry', 'Bless', 'Vincents Malibu', 'Vincent Jimmie', 'Vincent Sausages', 'Villalobos', 'Dave Ill', 'Vincent Jules Vincent Vincent', 'Jimmie Jimmie Dorks', 'Ya', 'Tony', 'Vincent Mucho', 'Mia Mia V O', 'Vincent Int', 'Vince', 'Mongoloid', 'Honey Bunny', 'Zed Maynard Collapses Zed', 'Coolidge', 'Jules Yolanda', 'Frankie', 'Jules Naw', 'Kaboom Zed', 'Int Garage Morning Both Jules And Vincent', 'Morning Vincent', 'Vincent Vega', 'Vincent Mums', 'Butch', 'Jimmie Walker', 'Capt Koons', 'Rocky Horror', 'Lucky Star', 'Vincent Vincent Marvin Wait', 'Beautiful Tulip', 'Brett Screams', 'Bang Marvin', 'Dave Vincent Vega', 'Vincent Vince', 'Elvis', 'Vincent Smile Vincent', 'Jules Jules', 'Mias', 'Fred Flintstone', 'Peter Odonnell Vincent', 'Marsellus Wallace', 'Grace', 'Inglewood Winston', 'Shepherd', 'Oooooooh', 'Eenie', 'Butch Grips', 'Fabienne', 'Jimmie Mr', 'Jules Yours', 'Dean', 'Jules Shit Negro', 'Uncle Marsellus', 'Brett', 'Marilyn Monroe', 'Vincent Marvin', 'Jules Jules Nothin', 'Jimmie', 'Jules Jimmie Jimmie', 'Vincent Jody', 'Pissin', 'Hop', 'Lewis Vincent', 'Jimmie Good', 'Tow Monster Joe', 'Jimmies', 'S Antwan Vincent', 'Winston Call', 'Jules Winnfield', 'Ding Dong Int', 'Jules Goddamn', 'Jimmie He', 'Vincent O S', 'Julie Jules', 'Roger You Flock Of Seagulls', 'Andy Mia Martin', 'Zippo', 'Marilyn', 'Butch Fabienne', 'Jules Vincent Jimmie', 'Gimp', 'Jules Snaps', 'Dane Coolidge', 'Jules Whatsamatter', 'Jody Vincent', 'Medieval', 'Vincent Mia Marsellus', 'Mia Jules Take', 'Wanna', 'Se', 'Toss', 'Butch Crank', 'Mia', 'Gimpss', 'Marvin Jules Put', 'Vincent Springs', 'Bora Boran', 'Jules Promise', 'Fabienne Screams', 'Fabienne Shut', 'Honey Bunny Screams', 'Jack Omelet'}\n",
      "\n",
      "named entities - {'Ali', 'Sam', 'Mrs Aurora Greenway', 'Lizbeth Lizbeth', 'Lizbeth', 'Malignancy Rosie', 'Mommy', 'Vernon Dahlart', 'Houston', 'Teddy', 'Mary Martin', 'Emma Horton', 'Flap Horton', 'Lee Anne', 'Vernon', 'Grandma Grandma Grandma', 'Momma', 'Shut', 'Patsy Goodbye Patsy', 'Foot', 'Douglas', 'Grandma', 'Talk', 'Granny Aurora', 'Honey', 'Edward Johnson Auroras', 'Ethel Merman', 'Mel', 'Afraid', 'Mrs Horton', 'Aurora', 'Bright', 'Horton', 'Emma', 'Garrett Ill', 'Ticketron', 'Dottie Wind', 'Melanie', 'Emma Patsy', 'Butch Mom', 'Melanie Mother', 'Kinda Tex Mex', 'Sam Burns', 'Ill', 'Rudyard Rudyard', 'Tommy Stand', 'Edward', 'Boy Great', 'Garrett Garrett', 'Tommy', 'Everything', 'Jane Thank', 'Liz Beth', 'Aurora Garrett', 'Elizabeth Its Lizbeth', 'Tommy He', 'Patsys', 'Rosie', 'Mommys', 'Patsy', 'Lizbeth Hi'}\n",
      "\n",
      "named entities - {'Rick', 'Laughter', 'Gerry Lambeau', 'Billy Fuckin', 'Pete Garrison', 'Bobby Champa', 'Lambeau Ill', 'Kellys Roast', 'Billy Submit', 'Sean Maguire Sean', 'Noam Chomskys', 'Fields Medal', 'Terry Mikey Davey', 'Continuous Chuckie', 'Beat Lambeau', 'Barney', 'Irish Chuckie', 'Tom', 'Chuckie He Clark', 'Fernald', 'Marty', 'Billys', 'Charles St Bridge', 'Tom Tom', 'Apples Will', 'Sullivan', 'Bobby', 'Push', 'Glad', 'Dale Ernhart', 'Terry', 'Caseys', 'Genie', 'Chad', 'James Lemon', 'Sean Gerry', 'Laughter Chuckie Morgan', 'Wills', 'Henry Lipkin', 'Robert Tavano', 'Sister Margarets', 'Tommy Joey Robby Johnny', 'Lambeau Alexander', 'Will Lambeau', 'Angle', 'Bill', 'Clarks', 'Pudge Fisks', 'Bobby He', 'Gordon Wood', 'Danny Terrio', 'Honor', 'Gerry Pekec', 'Albert Einstein Timmy', 'Laughter Chuckie', 'Jack', 'Goddamn Medal Lambeau', 'Sean Sean', 'Timmy Lambeau', 'Ill', 'Al Cowlins', 'Happy Birthday Morgan', 'Mike', 'Chuck', 'Mel Weintraub', 'Maureen Vinnie', 'Michelangelo', 'Pekec Maker', 'Really Lambeau', 'Guy', 'Mikey Sullivan', 'Chuckie', 'Chainlink', 'Sam', 'Sean Maguire', 'Will Cmon', 'Sean Lambeau', 'Unabomber', 'Magna', 'Pre', 'Malone Keep', 'Will Morgan', 'Howard Zinns', 'Recruiter', 'Beethoven Mozart', 'Ibid Your Honor Prosecutor Man', 'Henry He Henry', 'Pekec', 'Sean', 'Larry Bird', 'Einstein', 'Mozart', 'Submit Submit', 'Malone Mr', 'Sean Ill', 'Mckinley', 'Tom A', 'Danny Boy No One', 'Cathy', 'Uncle Sam', 'Wiry', 'Billy Jumps', 'Rick Lambeau', 'Sean Hold', 'Lambeau Will', 'Will Ill', 'Bereavement', 'Malone Son', 'Kellys', 'Uncle', 'Mclullen', 'Tom Sanders', 'Skylars', 'Matt Damon Ben Affleck Genres Comedy Drama User', 'Casey', 'Gerald Lambeau M', 'Tom Sean', 'Barry Hypnotist', 'Laughter Lambeau', 'Pekec Lambeau Alexander', 'Barry Henry Rick Lambeau', 'Clark', 'Malone', 'Dale Ernharts', 'Starry Night', 'Nancy', 'Sean Einstein', 'Apples Clark', 'Combunatorial Mathematics', 'Oscar Wilde Napoleon Gertrude Stein', 'Henry', 'Larry', 'Gerald Lambeau', 'Lambeau Lambeau', 'Billy Whip', 'Fisk', 'Vinnie', 'Matt Damon Ben Affleck', 'Lot Chuckie', 'Gerry', 'Uncle Marty Will', 'Billy Will', 'Morgan', 'Timmy', 'Lambeau'}\n",
      "\n",
      "named entities - {'Rosie The', 'Shona Everythings', 'Bora', 'Descend', 'Ebrew Greek No', 'Herbie Mortons', 'Allnutts Huh', 'Morns', 'Petty Officer', 'Ohhh', 'Eres', 'Miss Lyins', 'Rose Goodbye', 'England Allnut', 'Move', 'Ere', 'Allnutt', 'Long Shot', 'Charlie Close Shoot Allnutt', 'Medium Shoot', 'Stay', 'Ai', 'Rosie', 'God', 'Speak German', 'Ulanga Falls', 'Charlie Close Shoot', 'Bid', 'Mrs Alfred Briggs', 'Miss Watch', 'Limbasi', 'James Agee John Huston', 'Charlie Charlie', 'Louisa', 'Herbie Morton', 'Thou', 'Charlie Int', 'Honor', 'Peter Viertel Base', 'Imperial Majesty Kaiser', 'Von Triplitz Behind', 'Jack', 'Charlie', 'Ill', 'Roses', 'Wilhelm Ii Allnut Oo', 'Formal Shoot The', 'Methodist', 'Herbie', 'Rose Allnutt', 'Steady Moving Shoot', 'Charlie Allnut', 'Rembrandts', 'Blyme', 'England', 'Rosie My God', 'Fraulein Sayer', 'Detail', 'Tiller', 'Rose Rosie', 'Rest', 'Sorry Allnut S', 'Crazy', 'Back Old', 'Ya', 'Ere Lay', 'Shona Shona', 'Rosie Rosie Long Shot', 'Presently Roses', 'Mistah Sayuh', 'Shona', 'Goodbye Charlie', 'Officer', 'Allutts Hand', 'Rose Sayer', 'Allnutts', 'Martini', 'Shafts', 'Allnut Blimey', 'Charles Allnutt', 'Movin', 'Rosie Close Shoot', 'Yer', 'Charlie Allnutt', 'Close Shoot', 'Alfred Briggs Soap', 'Mangroves', 'Fraulein', 'Glad'}\n",
      "\n"
     ]
    },
    {
     "name": "stdout",
     "output_type": "stream",
     "text": [
      "named entities - {'Phil Sheridan', 'Dallass', 'Handcuffs Scars', 'Hatfield Lordsburg Gatewood', 'Ike', 'Lucy Mallory', 'Chris Gatewood', 'Gatewood', 'Jim Ill', 'Gatewood Gatewoods', 'Jerry Bartender', 'Mrs Mallory Lucy', 'Curly Buck', 'Ed', 'Luke Ike Hank', 'Hatfield Curly Peacock', 'Chris Buck', 'Lucy He S', 'Mrs Mallory', 'Yakima', 'Nickname', 'Ringos', 'Mick Howdy Frank', 'Camera', 'Ringfield', 'Chris Chris', 'Bucks', 'Hatfield Hatfield', 'Luke Shotgun', 'Hatfield', 'Dudley Nichols', 'Barney', 'Gatewood Camera', 'Luke Plummer', 'Ben Hecht', 'Bessie Brownie', 'Luke Mis', 'Billys', 'Lucy Mallory Nancy', 'Chris Doc Boone', 'Curly Ill', 'Doc Boone', 'Hatfield Curly Hatfield', 'Billy Billy Kill', 'Hatfield Doc Boone', 'Luke', 'Pan', 'Billy Billys', 'Mrs Gatewood', 'Dallas Blanchard', 'Lucy Peacock', 'Lucy Hatfield', 'Agatha As', 'Buck Hatfield', 'Lucy Lucy', 'Gatewood Gatewood', 'Billy Ringo', 'Hya Buck', 'Chris Si', 'Dallas Hatfield', 'Gatewood Ringo', 'Sam Inside', 'Buck', 'Lee Ferry', 'Chris Geronimo', 'Samuel Peacock', 'Sickels', 'Bill Man All', 'Dallas Gatewood', 'Whitneys', 'Ill', 'Curly Ringo Buck', 'Curlys', 'Hatfields', 'Mrs Lucy Mallory', 'Ready Buck Buck', 'Jim Buck', 'Track', 'Jerry The Bartender', 'Curly Camera', 'Nancy Lucy', 'Feature Doc Boone', 'Chris', 'Gatewood Ellsworth H', 'Geronimo', 'Lucy', 'Hatfield Hatfield Hatfield', 'Manor Hatfield', 'Richard', 'Lucy Sit', 'Geronimos', 'Lucy Medium', 'Lucy Nancy', 'Apache', 'Gatewood Woof', 'Apaches Track', 'Bessie', 'Helen', 'Howdy Buck', 'Ringo Doc Boone', 'Ernest Haycox', 'Kid Ringo', 'Henry He', 'Mrs Mallorys', 'Mrs Pickett', 'Gitty', 'Peacock', 'Luke Cut', 'Howdy Chris', 'Kid', 'Buck Buck', 'Lucy Doc', 'Git', 'Chris Plenty', 'Nothin Buck', 'Gunshots', 'Simultaneously Ringo', 'Curly Hatfield', 'Curly Wilcox', 'Hurry Ringo', 'Ike Hank', 'Look Kid', 'Luke Cash', 'Apaches Dallas', 'Dinner', 'Hatfield Cut', 'Doc Doc Boone', 'Sergeant Billy Pickett', 'Billy Pickett', 'Gatewood Dallas', 'Bawdy', 'Mrs Mallory Hatfield', 'Dallas', 'Hatfield Gatewood', 'Bill Doc Boone', 'Gatewood Hatfield', 'Cut', 'Shut', 'Lucys', 'Curly Ringo', 'Gentlemen Gentlemen Ringo', 'Nancy', 'Lucy Ringo Set', 'Sssssh Quiet Buck', 'The Ringo Kid', 'Lucy Dallas', 'Ringo Buck', 'Lt Blanchard', 'Henry Doc Boone', 'Henry Gatewood', 'Cheyenne', 'Bisbee Buck', 'Gatewood Peacock', 'Ready Kid Ringo', 'Blanchard', 'Doc', 'Curly Apaches Inside', 'Lucy Gatewood', 'Billy Gitty', 'Hatfield Lucy', 'Ike Plummer', 'Buck Lordsburg', 'Buck Dallas', 'Apaches'}\n",
      "\n",
      "named entities - {'Walter Goodbye B Neffs Office', 'Lou', 'Walter He S', 'Stetson', 'Phyllis Cross', 'Night Watchman', 'Phyllis Good', 'Suicide', 'Phyllis Mrs Tucker', 'Dietrichson Good', 'Phyllis Walter', 'Again Neff', 'Verdict', 'Lola Anne Matthews Phyllis', 'Mrs Dietrichson Phyllis', 'Franklin North', 'Move', 'Mrs Dietrichson Neff', 'Walter Be', 'Goodbye Mrs Dietrichson', 'Mrs Phyllis Dietrichson', 'Walter One', 'Zachetti Zachetti', 'Walter Walter', 'Nettie Nettie', 'Walter', 'Lola Dietrichson', 'Phyllis Dietrichson', 'Boom Shot', 'Keyes Keyes', 'Apartment Phyllis', 'Lolas', 'Traffic Phyllis', 'Walter Neff Quick', 'Dietrichson Lola', 'Walter Neff Pacific', 'Jackson Goodbye', 'James M Cain', 'Lola Lola Dietrichson', 'Walter He', 'Jackson', 'Keyes Norton', 'Medford Oregon', 'Mr Dietrichson', 'S Jackson Keyes', 'Jackson Jackson', 'Walter Norton', 'Charlie', 'Ill', 'Phyllis Get', 'Walter Not', 'Porter', 'Neffs Voice', 'Phyllis Long Beach', 'Phyllis Phyllis', 'Phyllis Lemon Sugar', 'Jackson Any', 'Dietrichson Me', 'Dietrichson Jackson', 'Phyllis', 'Mrs Dietrichson Dietrichson', 'Sam Gorlopis', 'Dietrichson', 'Autopsy', 'Raymond Chandler', 'Billy Wilder', 'Walter Navy', 'Phyllis He', 'Phyllis First', 'Phyllis Ill', 'Walter That S', 'Mr Dietrichson Dietrichson', 'Klamath Falls', 'Schwartz', 'Nettie', 'Dietrichsons', 'Papa', 'Phyllis You', 'Lola Mr Dietrichson', 'Lola Zachetti', 'Maid', 'Charlie Attendant', 'Dietrichson Anne', 'Lola Phyllis', 'Walter The', 'Jackson To Neff Ever', 'Walter You', 'Phyllis They', 'Keyes', 'Keyes Come In Come', 'Hobeys', 'Neffs', 'Phyllis Call', 'Medford Medford', 'Walter B Phyllis', 'Palo Altos', 'Bowl', 'Walter Its', 'Lou Schwartz', 'Phyllis Bourbon', 'Dietrichson Neff', 'Calmly Phyllis', 'Phyllis Without', 'Lubin', 'Phyllis Dietrichsons', 'Leo Carrillo', 'Keyes Dietrichson', 'Mrs Dietrichson', 'Walter Just', 'Lola', 'Keyes He', 'Dietrichson Hold', 'Phyllis Goodbye', 'Lola Ninos', 'Walter I', 'Dietrichson Dietrichson', 'Norton', 'Neff', 'Phyllis Wait', 'Slowly Phyllis', 'Norton Jackson', 'Walter Phyllis', 'Walter Neff', 'Below Phyllis Dietrichson', 'Charlie Just'}\n",
      "\n",
      "None\n"
     ]
    },
    {
     "name": "stderr",
     "output_type": "stream",
     "text": [
      "Traceback (most recent call last):\n",
      "  File \"<ipython-input-4-926e6ae6d1a6>\", line 34, in FinalExtraction\n",
      "    f = open(\"scripts/\"+title+\".txt\",'r')\n",
      "FileNotFoundError: [Errno 2] No such file or directory: 'scripts/Wuring Heights.txt'\n"
     ]
    },
    {
     "name": "stdout",
     "output_type": "stream",
     "text": [
      "named entities - {'Stare', 'Kristofferson', 'Janis Joplin', 'Black Wizard', 'Howdy Wizard Killer', 'Thomas Wolfe Gods', 'Midday', 'Charles Palantine', 'Bertrand Russell', 'Button', 'Travis Betsy', 'White Cab Co', 'Blow', 'Malcolm X', 'Ext Charles', 'Bets Betsy', 'Tom', 'Mick Jagger Bob Dylan', 'Move', 'Tom Cmon', 'Travis Travis', 'Hotel', 'Tom Tom', 'Tom Betsy', 'Betsys', 'Push', 'Charlie T Wizard', 'Blush', 'Easy Lay', 'Young', 'C U Of Palantine', 'Kris Kristofferson', 'Ask Travis', 'Hubert Humphrey', 'Iris Sport', 'Mccall', 'Palantine', 'Bum', 'Nam', 'Agony', 'Toward', 'Damn Betsy', 'Ouch Betsy', 'Charlie', 'Wizard Wizard', 'Ill', 'Dispatcher', 'Off Duty', 'Travis', 'Wesson', 'Michelangelos', 'St Fuckin Mau Mau', 'Sweet Iris', 'Fill', 'Dough Boy', 'Charles', 'Killer', 'Eddie', 'Walter Cronkite', 'Betsy Charles Palantine', 'Iris Iris', 'Colt', 'Easy Andy', 'Jim', 'Taxi Driver Hero', 'Betsy Betsy', 'Iris', 'Damn', 'Amsterdam The Jungle Travis', 'Andy Andy', 'Betsy', 'Peter Fonda', 'Charlie T S', 'Fare Check', 'Sport Wha Travis', 'Figurd', 'Burt', 'Henry Krinkle', 'Salesgirl', 'Female Voice', 'Jrb Cab', 'Andy', 'Melio The Stick Up Man', 'Zap Betsy', 'Scum', 'Snub', 'Charlie T', 'Sorry Wizard', 'Betsy Tom', 'Charlie Mccall', 'Junkies', 'Wizard Threw', 'Wizard Travis', 'Melio', 'Street Travis', 'Paul Schrader', 'Bet', 'Male Movie Voice O S', 'Nobodyd', 'Neil Young', 'Mrs Steensma', 'Chin', 'Wizard', 'Female Movie', 'Subways', 'Betsy Travis', 'Wizard Mccall', 'Ida', 'Kennedy', 'Jackson Heights', 'Wiz Wizard', 'Window Woman', 'Headline', 'Cabbie Return To Job'}\n",
      "\n",
      "named entities - {'Jeff Soothe', 'Lisa Shut', 'Jeff To Stella', 'Jeff People', 'Int Jeffs Apartment Night Medium Shoot', 'Ext Jeffs Apartment', 'Lisa Enthusiastically Lets', 'Lisa The', 'Quickly Bryce', 'Closeup Gunnison', 'Morgan', 'Jeff Stella Stella', 'Ill Ill', 'Jeffs', 'Jeff Int', 'Lisa Lisa', 'Dannemora', 'Jeff Suppose Mrs Thorwalds', 'Lisa Turn', 'Smiles', 'Jeff Ca', 'Jeff Between', 'Int Jeffs Apartment Night Medium Shot Jeff', 'Jeff Can', 'Jeff Quick Take', 'Jeff Lisa', 'Jeff Forget', 'Lisa Doyle', 'Hearing Aid', 'Lisa Breathe', 'Int Jeffs Apartment Night', 'Tom', 'Thomas J Doyle', 'Thorwalds', 'Int Jeffs Apartment Night Closeup Jeff', 'Jeff Talk', 'Gypsy', 'Stella', 'Tom Tom', 'Lisa Preview', 'Jeff Too', 'Start', 'Lisa Ext', 'Fremont', 'Jeff', 'Jeff Hello Stella', 'Jeff Hallo', 'Jeff Jeff Thorwald', 'Mrs Thorwald Jeff', 'Frame', 'Mrs Thorwald', 'Jeff Jeff', 'Lisa Smile', 'Stella Ill', 'Mrs Thorwald To Lisa', 'Jeff Stella', 'Int Jeffs Apartment Night Closeup', 'Jeff Mock', 'Farth Left', 'Doyle Look', 'Mark Cross', 'Ext Jeffs Apartment Night Close Shot', 'Int Jeffs Apartment Night Closeup Jeffs', 'Jeff Depend', 'Jeff Sharply', 'Tom Int', 'Closeup Jeff', 'Lisa He', 'Doyle Too', 'Lisa Kitchens', 'Thorwald', 'Miss Torso', 'Gunnison Wrong Day', 'Lisa Fremonts', 'Jeff Interrupt', 'Ill', 'Doyle', 'Goodnight', 'Jeff Smart', 'Jeff Gunnison', 'Int Jeffs Apartment', 'Jeff Please', 'Jeff Off', 'Int Jeffs Apartment Night Closeup Jeffs Head', 'Doyle Turn', 'Jeff Slight', 'Jeff Int Jeffs Apartment Night', 'Lars Thorwald', 'Jeff Sharply Get', 'John Michael Hayes Base', 'Int Jeffs Apartment Dawn', 'Carl Just', 'Lisa Display', 'Bryce', 'Int Jeffs Apartment Day Medium Shoot Jeff', 'Jeff Lets', 'Lisa Look', 'Hmmm', 'Hayes Genres Thriller', 'Int Jeffs Apartment Night Closeup Thorwalds', 'Kidney', 'Trip', 'Jeff Come', 'Jennings', 'Int Jeffs Apartment Day', 'Lisa Stella', 'Lambert Jeff Swell', 'Jeff Mmmm', 'Jeff Pick', 'Jeff Look', 'Int Jeffs Apartment Night Medium Shot', 'Gunnison Jeff', 'Miss Torsos', 'Torsos', 'Shot Thorwald', 'Lonely Hearts', 'Jeff Tom', 'Lisa Fremont', 'Jeff Would', 'Kelly Green', 'Merritsville Look', 'Chelsea', 'Int Jeffs Apartment Day Medium Shot Jeffs', 'Gunnison Ill', 'Jeff Long Distance', 'Jeff Alert', 'Carl', 'Gunnison Look', 'Listens', 'Merritsville', 'Int Jeffs Apartment Night Closeup Doyle', 'Doyle Lisa Stella', 'Lisa Simply Well', 'Gunnison', 'Miss Lonely Hearts', 'Myles', 'Jeff Nods', 'Lisa You', 'Jeff First', 'Black Int Jeffs Apartment Night', 'Int Jeffs Apartment Sunset Medium Shoot Lisa Face Jeff', 'Doyle Ill', 'Int Jeffs Apartment Day Close Shot', 'Jeff One', 'Jeff Lisa Lisa', 'Jeff Ill', 'Jeff Doyle', 'Int Jeffs', 'Anna', 'Doyle Doyle', 'Mrs Thorwalds', 'Exacta', 'Lisa Int', 'Jeff Over', 'Int Jeffs Apartment Night Medium Shot Stella', 'Torso', 'Shut', 'Slung', 'Int Jeffs Apartment Night Closeup Lisa', 'Jeff Hello', 'Closeup Thorwald', 'Slim Hayward', 'Lisa Jeff Jeff', 'Jeff Now', 'Lisa Ignore', 'Mrs Lars', 'John Michael', 'Mrs Anna Thorwald', 'Lisa Start', 'Lisa Jeff', 'Doyle Ever', 'Lisa Carol', 'Doyle Shrugs', 'Lisa Jeffs', 'Bryce Ill', 'Stella Simple', 'Squint', 'Lisa', 'Lisa Without', 'Stella Smart Shell', 'Lisa Jeff Ill', 'Doyle Jeff', 'Jeff Lisa Int Jeffs Apartment', 'Coats', 'Lisa Ill', 'Jeff Jefferies Gunnison', 'Lisa Murmurs', 'Doyle Closeup'}\n",
      "\n",
      "named entities - set()\n",
      "\n",
      "named entities - {'Backyard', 'Pit', 'Jim Ill', 'Jim Got', 'Jim Wowee', 'Funny Jimmy', 'Lobby', 'Frank', 'Jim Stark Nobody', 'Judy Lexington', 'Camera', 'Grandma', 'Jim Main', 'Jim Jim', 'Jamie Judy Want', 'Plato', 'Moose', 'Mil', 'Goon', 'Hallway Judys', 'Jim Me', 'Jim Blood', 'Beau Judys', 'Jim Stark', 'Judy Med', 'Buzz Buzz', 'Bertha You', 'May', 'Judy Jim', 'Quick Fill', 'Judy Buzz', 'Buzz Jim', 'Jim Listen Sergeant', 'Mother Frank', 'Plato Plato', 'Jim Plato', 'Ray Will', 'Mil Buzzy', 'Peanut', 'Ambulance Ambulance', 'Dad', 'Moo Goon', 'Jack', 'Ill', 'Plato Shut', 'Goodnight', 'Juvenile Officer', 'Judy Ill', 'Silence Med', 'Plato Med', 'Mother', 'Shakes', 'Nail', 'Dad Smile', 'Judys', 'Moo', 'Classes', 'Judy Not', 'Observatory Look', 'Moose Look', 'Plato Stand', 'Mrs Crawford', 'Chicken Jim', 'Beau', 'Judy Jim Watch', 'Juvenile Hall', 'Plato Silence', 'Jim You', 'Jim', 'Plato Get', 'Drop', 'Plato Travel', 'Buzz Wanna', 'Helen', 'Judy Buzzie', 'Ray Framek', 'Buzz', 'Dad Buzz', 'Judy Judy', 'Jim Lovely Grandma', 'Judy Good', 'James', 'Judy Plato', 'Driver', 'Gene Come', 'Judy Beau', 'Ole Buzz', 'John John', 'Jim Jim Stark', 'Balcony', 'Jim Chicken', 'Mother Frank Father Stay', 'Plato Do', 'Ray', 'John Plato', 'Knock', 'Display', 'John You', 'Judy', 'Ole Jim', 'Jim Jim Crunch Crunch', 'Jim Come', 'Split', 'Easter'}\n",
      "\n",
      "named entities - {'Lester Townsends', 'Fuera De', 'Espina Kaplan', 'Despu S De Todo', 'Pero La Buena', 'Kaplan Ciertamente', 'Emil Klinger Sergeant Emil El', 'Anoche', 'Sorry Lo', 'Somos', 'Alguien', 'Pero', 'Mrs Thornhill Roger', 'Mercedes Laura Mr Thornhill', 'Roger Thornhill Roger Thornhill Stick', 'Lobby', 'Muy', 'Vamos', 'Hotel Sherwyn', 'Roger Thornhill Est', 'Rot Rot', 'Lo', 'Est', 'A De Nueva York Police Polic A', 'Ahora Good', 'Butterfield', 'Porter Gracias', 'Madre', 'Nos', 'De George Kaplan', 'Profesor', 'Mrs Finley', 'Eva Kendall', 'Maggie Ese', 'Probablemente', 'Ayer', 'Tan', 'Luego', 'Eres', 'Stand', 'Nelson Nelson', 'Nada', 'Hotel Sheraton Johnson', 'Establecer', 'Kaplan Luego', 'Phillip Vandamm', 'Arriba', 'Matter La', 'Esp', 'Tom', 'Pobre', 'De Marshall Fields', 'Maggie', 'Roger', 'Muchas', 'Mother Esa', 'Mother Ahora', 'Elsie', 'Bolas De', 'Thornhill', 'Buena', 'Tal', 'Lt Harding Este', 'Charles Addams', 'George Kaplan', 'Mrs Babson Que', 'Maggie Espera Maggie', 'Wonderful Maravilloso', 'Siempre', 'Come Venga', 'N De Cuajada', 'Lauras Mercedes', 'Podr', 'Goodbye Mr Thornhill', 'Cuidado', 'Leonard About', 'Okay Muy', 'Roger Hola', 'Buena Roger', 'Qui', 'Tiene', 'Fue', 'Thornhill Roger Code Want', 'Bellas Ill', 'Say', 'Dime', 'Kaplan George', 'Gracias', 'Nada Ill', 'Mantenga', 'Bowling', 'Creo', 'Sell Vendido Brook Brook', 'George Kaplan El Sr George Kaplan Boy Boy Kaplan Kaplan', 'Amigo', 'Mt Rushmore Vandamm', 'Valet Servicio De', 'Mother Madre', 'Al', 'Avenida Madison', 'Justo', 'Phillip', 'Cu', 'George Kaplan Cuando', 'Buenas', 'Quiero', 'Cest La', 'Thornhill Buenas', 'Roger Thornhill Mi', 'Aqu Taxi Taxi', 'Statler', 'Butterfield Butterfield', 'Soy', 'Ill', 'Est S De', 'Kaplan La', 'Nothing Nada', 'Thornhill Thornhill', 'Llame', 'Incluso', 'Spread', 'Herman Herman', 'Lo S', 'Estamos De', 'Beat', 'La', 'Tuvo', 'Sergeant Emil Klinger El', 'Hurry Date', 'Recu', 'Latidos De', 'Roger Deja De', 'Emil Klinger', 'Roger Thornhill Roger Thornhill', 'Sam Quiero', 'Ahora', 'Hab', 'Asalto', 'Mother Estoy', 'Yo', 'De Chicago', 'Prairie Stop Highway', 'Name', 'Que', 'Quieres', 'Su', 'Thornhill Roger O', 'Contestar', 'Ma', 'Eddie Buenas', 'Leonard', 'Derecho', 'Whisky', 'Hermano', 'Demasiado', 'Sr Kaplan', 'Cada', 'Fine Bellas', 'Que La', 'Algunos De', 'George Kaplan De Boston', 'Ya', 'Por', 'Eve Kendall Kendall Eva', 'Le', 'Mr Kaplan', 'Desprotegido Check', 'Hurry', 'Estamos', 'Hemos', 'Eve Kendall', 'Gracias Catalogue', 'Tiene La', 'Roger Thornhill Madre', 'George Kaplan Nuestro', 'Basura', 'George Kaplan Hemos', 'Immediately Inmediatamente', 'Nosotros', 'Claro', 'Roger Thornhill', 'Mientras', 'Mr Thornhill', 'Chris Swenson', 'De Lester Townsend', 'Eve Eva', 'Dinner', 'Kaplan Me', 'Kaplan Kaplan', 'Ese', 'Hacen', 'Buen', 'Gracias Ill', 'Leonard Hurry', 'Gracias Hello', 'De Jason', 'Room Habitaci', 'Arnolds Larry', 'Anna Arrangements', 'Kaplan', 'De', 'Babson', 'Dile', 'Voy', 'Townsend Townsend', 'Mrs Babson', 'Beberla', 'Kaplan Le', 'Sold Vendido', 'Hotel Benjamin Franklin', 'Mrs Townsend', 'De Kaplan', 'Marshall Fields', 'Trataron De', 'Roger No', 'Qu Leonard', 'Miss Si', 'Recuerdo', 'Louis Quinze', 'La De Roger Thornhill', 'Kaplan Parec', 'Rubbish Basura Soon', 'George Kaplan Como', 'Sergeant Flamm', 'Arnold Will', 'Larry', 'Mercedes Laura', 'Teddy Roosevelt', 'Bulletin Kaplan', 'Eres La', 'Qu', 'Kaplan De', 'Se', 'Fuera De La', 'Puedo', 'George Kaplan George Kaplan', 'Kaplan Si', 'Esa', 'Luck', 'Leonard Dale Kaplan', 'Deja', 'George Kaplan De George Kaplan How', 'Al Sr Weltner', 'Fine Bellas Consider', 'Si', 'Roger O'}\n",
      "\n"
     ]
    },
    {
     "name": "stdout",
     "output_type": "stream",
     "text": [
      "named entities - {'Harry Lauder', 'Tetrazzini', 'Dad Mom', 'Jack Lets', 'Jerry Take', 'Buck Cohan', 'Mary Its', 'George M Cohan', 'Mary That S', 'Hammerstein', 'Sam Divensky', 'Halt', 'George George', 'Yankee Doodle', 'George Better', 'Charlie Say', 'Fireproofed', 'George M Cohan Oh Georgie', 'Johnny Jones', 'Josie', 'Enjoy', 'George Better Excuse', 'Tony Pastor', 'Llewellyn', 'Swell', 'Charlie Case', 'Sullivan', 'Lottie Collins', 'Albee Coster Beall', 'Dennis', 'Mary George', 'Cohan Coen Cohan George M Cohan', 'Josie Cohan', 'George Not', 'George M S', 'Young', 'Harold', 'Harris', 'Mr Cohan', 'Cohan Never', 'Next Left', 'Bill', 'Cohan', 'Dad', 'Riley', 'Nelson Monument', 'Ill', 'Greek Ill', 'Nellie', 'Hirohito', 'Delmonicos', 'Stix Small', 'Jerry Cohan', 'George Washington', 'Mary You', 'Todd Sloan', 'Mary A', 'George Washington Jr', 'Sam', 'Cigarette', 'Hardships', 'George M Cohan Occupation Actor', 'George M Cohan Print', 'Eddie Foy Ward', 'Mac', 'Vesta', 'Dietz Goff', 'Lewis', 'Harrigan', 'Dietz', 'Fagan Feeny', 'Michael George', 'Abe', 'Michael Cohan', 'Templeton Ill', 'Jerry', 'Dietz Look', 'Daniel Boone', 'Jerry Nellie', 'Mary', 'Seasick', 'Cohan He', 'Hurry', 'Georgie', 'Sam H Harris Shake', 'Cohan Hello', 'Cohan George Cohan Goodbye', 'Peck Bad Boy', 'Kid', 'Broadway Sam', 'Nellie Sit', 'Everything', 'Eddie Foy', 'Derby', 'Lf', 'Templeton', 'Georges', 'Sgt Cooper', 'Sam Work', 'Mrs Cohan Mr Cohan Good', 'Hammer', 'Alexson', 'Washington', 'Mrs Cohan', 'George Fay Templeton', 'Nora', 'Jerry Sit', 'Sam Harris', 'Abe George', 'Address Devonshire Hotel', 'Jones', 'Yankee Doodle Dandy', 'Henry', 'Dad Ill', 'Clark George Acrobats Look', 'George', 'Mrs Dietz', 'Teddy Roosevelt', 'Cohans', 'George Nine', 'Cohan George M Cohan', 'Goodbye Johnny', 'Glad'}\n",
      "\n"
     ]
    }
   ],
   "source": [
    "titles,names = FinalExtraction()"
   ]
  },
  {
   "cell_type": "code",
   "execution_count": 7,
   "metadata": {
    "id": "D789AxdJ38Uc"
   },
   "outputs": [],
   "source": [
    "ExtractedCharacters = pd.DataFrame({'Movie Names':titles,\"Character Name\":names})"
   ]
  },
  {
   "cell_type": "code",
   "execution_count": 8,
   "metadata": {
    "colab": {
     "base_uri": "https://localhost:8080/",
     "height": 206
    },
    "id": "OYixag4C2dKQ",
    "outputId": "e98c5e52-5c83-408e-e9e4-f0b8d95fe5ef"
   },
   "outputs": [
    {
     "data": {
      "text/html": [
       "<div>\n",
       "<style scoped>\n",
       "    .dataframe tbody tr th:only-of-type {\n",
       "        vertical-align: middle;\n",
       "    }\n",
       "\n",
       "    .dataframe tbody tr th {\n",
       "        vertical-align: top;\n",
       "    }\n",
       "\n",
       "    .dataframe thead th {\n",
       "        text-align: right;\n",
       "    }\n",
       "</style>\n",
       "<table border=\"1\" class=\"dataframe\">\n",
       "  <thead>\n",
       "    <tr style=\"text-align: right;\">\n",
       "      <th></th>\n",
       "      <th>Movie Names</th>\n",
       "      <th>Character Name</th>\n",
       "    </tr>\n",
       "  </thead>\n",
       "  <tbody>\n",
       "    <tr>\n",
       "      <th>0</th>\n",
       "      <td>Godfather</td>\n",
       "      <td>{Michael Hagen Mama, Michael We, Mike Michael,...</td>\n",
       "    </tr>\n",
       "    <tr>\n",
       "      <th>1</th>\n",
       "      <td>Shawshank Redemption</td>\n",
       "      <td>{Andy Pleasure, Floyd Smokes Put, Wiley, Floyd...</td>\n",
       "    </tr>\n",
       "    <tr>\n",
       "      <th>2</th>\n",
       "      <td>Schindler's List</td>\n",
       "      <td>{Clerk Good, Lena Schindler, Goeths Adler, Amo...</td>\n",
       "    </tr>\n",
       "    <tr>\n",
       "      <th>3</th>\n",
       "      <td>Raging Bull</td>\n",
       "      <td>{Jack Jake, Jake Get Everyone Out Of, Jake Ton...</td>\n",
       "    </tr>\n",
       "    <tr>\n",
       "      <th>4</th>\n",
       "      <td>Casablanca</td>\n",
       "      <td>{Ilsa Kiss, Berger, Rick, Herr Rick We, Rick U...</td>\n",
       "    </tr>\n",
       "  </tbody>\n",
       "</table>\n",
       "</div>"
      ],
      "text/plain": [
       "            Movie Names                                     Character Name\n",
       "0             Godfather  {Michael Hagen Mama, Michael We, Mike Michael,...\n",
       "1  Shawshank Redemption  {Andy Pleasure, Floyd Smokes Put, Wiley, Floyd...\n",
       "2      Schindler's List  {Clerk Good, Lena Schindler, Goeths Adler, Amo...\n",
       "3           Raging Bull  {Jack Jake, Jake Get Everyone Out Of, Jake Ton...\n",
       "4            Casablanca  {Ilsa Kiss, Berger, Rick, Herr Rick We, Rick U..."
      ]
     },
     "execution_count": 8,
     "metadata": {},
     "output_type": "execute_result"
    }
   ],
   "source": [
    "ExtractedCharacters.head()"
   ]
  },
  {
   "cell_type": "code",
   "execution_count": 9,
   "metadata": {},
   "outputs": [
    {
     "data": {
      "text/html": [
       "<div>\n",
       "<style scoped>\n",
       "    .dataframe tbody tr th:only-of-type {\n",
       "        vertical-align: middle;\n",
       "    }\n",
       "\n",
       "    .dataframe tbody tr th {\n",
       "        vertical-align: top;\n",
       "    }\n",
       "\n",
       "    .dataframe thead th {\n",
       "        text-align: right;\n",
       "    }\n",
       "</style>\n",
       "<table border=\"1\" class=\"dataframe\">\n",
       "  <thead>\n",
       "    <tr style=\"text-align: right;\">\n",
       "      <th></th>\n",
       "      <th>Name</th>\n",
       "      <th>Character Names</th>\n",
       "    </tr>\n",
       "  </thead>\n",
       "  <tbody>\n",
       "    <tr>\n",
       "      <th>0</th>\n",
       "      <td>Godfather</td>\n",
       "      <td>{\"Lou - Sollozzo's Driver\", \"Luca Brasi's Assa...</td>\n",
       "    </tr>\n",
       "    <tr>\n",
       "      <th>1</th>\n",
       "      <td>Shawshank Redemption</td>\n",
       "      <td>{\"Andy Dufresne's Wife\", 'Laundry Bob', 'Fat A...</td>\n",
       "    </tr>\n",
       "    <tr>\n",
       "      <th>2</th>\n",
       "      <td>Schindler's List</td>\n",
       "      <td>{'Majola', 'Gestapo Clerk Klaus Tauber', 'Wilh...</td>\n",
       "    </tr>\n",
       "    <tr>\n",
       "      <th>3</th>\n",
       "      <td>Raging Bull</td>\n",
       "      <td>{'Heckler in Bar', 'Charlie - Man with Como', ...</td>\n",
       "    </tr>\n",
       "    <tr>\n",
       "      <th>4</th>\n",
       "      <td>Casablanca</td>\n",
       "      <td>{'Arab Vendor', 'Berger', \"Gambler at Rick's\",...</td>\n",
       "    </tr>\n",
       "  </tbody>\n",
       "</table>\n",
       "</div>"
      ],
      "text/plain": [
       "                   Name                                    Character Names\n",
       "0             Godfather  {\"Lou - Sollozzo's Driver\", \"Luca Brasi's Assa...\n",
       "1  Shawshank Redemption  {\"Andy Dufresne's Wife\", 'Laundry Bob', 'Fat A...\n",
       "2      Schindler's List  {'Majola', 'Gestapo Clerk Klaus Tauber', 'Wilh...\n",
       "3           Raging Bull  {'Heckler in Bar', 'Charlie - Man with Como', ...\n",
       "4            Casablanca  {'Arab Vendor', 'Berger', \"Gambler at Rick's\",..."
      ]
     },
     "execution_count": 9,
     "metadata": {},
     "output_type": "execute_result"
    }
   ],
   "source": [
    "df = pd.read_csv('Original_Characters.csv',index_col = 'Unnamed: 0')\n",
    "df.head()"
   ]
  },
  {
   "cell_type": "code",
   "execution_count": 10,
   "metadata": {
    "id": "aJ8yt85w8q4p"
   },
   "outputs": [],
   "source": [
    "ExtractedCharacters.to_csv(\"Extracted_Characters.csv\")"
   ]
  },
  {
   "cell_type": "code",
   "execution_count": 11,
   "metadata": {
    "id": "uj8VsqSH8zPw"
   },
   "outputs": [],
   "source": [
    "original_df = pd.read_csv(\"Original_Characters.csv\")"
   ]
  },
  {
   "cell_type": "code",
   "execution_count": 12,
   "metadata": {},
   "outputs": [
    {
     "data": {
      "text/html": [
       "<div>\n",
       "<style scoped>\n",
       "    .dataframe tbody tr th:only-of-type {\n",
       "        vertical-align: middle;\n",
       "    }\n",
       "\n",
       "    .dataframe tbody tr th {\n",
       "        vertical-align: top;\n",
       "    }\n",
       "\n",
       "    .dataframe thead th {\n",
       "        text-align: right;\n",
       "    }\n",
       "</style>\n",
       "<table border=\"1\" class=\"dataframe\">\n",
       "  <thead>\n",
       "    <tr style=\"text-align: right;\">\n",
       "      <th></th>\n",
       "      <th>Unnamed: 0</th>\n",
       "      <th>Name</th>\n",
       "      <th>Character Names</th>\n",
       "    </tr>\n",
       "  </thead>\n",
       "  <tbody>\n",
       "    <tr>\n",
       "      <th>0</th>\n",
       "      <td>0</td>\n",
       "      <td>Godfather</td>\n",
       "      <td>{\"Lou - Sollozzo's Driver\", \"Luca Brasi's Assa...</td>\n",
       "    </tr>\n",
       "    <tr>\n",
       "      <th>1</th>\n",
       "      <td>1</td>\n",
       "      <td>Shawshank Redemption</td>\n",
       "      <td>{\"Andy Dufresne's Wife\", 'Laundry Bob', 'Fat A...</td>\n",
       "    </tr>\n",
       "    <tr>\n",
       "      <th>2</th>\n",
       "      <td>2</td>\n",
       "      <td>Schindler's List</td>\n",
       "      <td>{'Majola', 'Gestapo Clerk Klaus Tauber', 'Wilh...</td>\n",
       "    </tr>\n",
       "    <tr>\n",
       "      <th>3</th>\n",
       "      <td>3</td>\n",
       "      <td>Raging Bull</td>\n",
       "      <td>{'Heckler in Bar', 'Charlie - Man with Como', ...</td>\n",
       "    </tr>\n",
       "    <tr>\n",
       "      <th>4</th>\n",
       "      <td>4</td>\n",
       "      <td>Casablanca</td>\n",
       "      <td>{'Arab Vendor', 'Berger', \"Gambler at Rick's\",...</td>\n",
       "    </tr>\n",
       "  </tbody>\n",
       "</table>\n",
       "</div>"
      ],
      "text/plain": [
       "   Unnamed: 0                  Name  \\\n",
       "0           0             Godfather   \n",
       "1           1  Shawshank Redemption   \n",
       "2           2      Schindler's List   \n",
       "3           3           Raging Bull   \n",
       "4           4            Casablanca   \n",
       "\n",
       "                                     Character Names  \n",
       "0  {\"Lou - Sollozzo's Driver\", \"Luca Brasi's Assa...  \n",
       "1  {\"Andy Dufresne's Wife\", 'Laundry Bob', 'Fat A...  \n",
       "2  {'Majola', 'Gestapo Clerk Klaus Tauber', 'Wilh...  \n",
       "3  {'Heckler in Bar', 'Charlie - Man with Como', ...  \n",
       "4  {'Arab Vendor', 'Berger', \"Gambler at Rick's\",...  "
      ]
     },
     "execution_count": 12,
     "metadata": {},
     "output_type": "execute_result"
    }
   ],
   "source": [
    "original_df.head()"
   ]
  },
  {
   "cell_type": "code",
   "execution_count": 13,
   "metadata": {},
   "outputs": [],
   "source": [
    "ExtractedCharacters.columns=['Name',\"Extracted Name\"]"
   ]
  },
  {
   "cell_type": "code",
   "execution_count": 14,
   "metadata": {},
   "outputs": [
    {
     "data": {
      "text/html": [
       "<div>\n",
       "<style scoped>\n",
       "    .dataframe tbody tr th:only-of-type {\n",
       "        vertical-align: middle;\n",
       "    }\n",
       "\n",
       "    .dataframe tbody tr th {\n",
       "        vertical-align: top;\n",
       "    }\n",
       "\n",
       "    .dataframe thead th {\n",
       "        text-align: right;\n",
       "    }\n",
       "</style>\n",
       "<table border=\"1\" class=\"dataframe\">\n",
       "  <thead>\n",
       "    <tr style=\"text-align: right;\">\n",
       "      <th></th>\n",
       "      <th>Name</th>\n",
       "      <th>Extracted Name</th>\n",
       "    </tr>\n",
       "  </thead>\n",
       "  <tbody>\n",
       "    <tr>\n",
       "      <th>0</th>\n",
       "      <td>Godfather</td>\n",
       "      <td>{Michael Hagen Mama, Michael We, Mike Michael,...</td>\n",
       "    </tr>\n",
       "    <tr>\n",
       "      <th>1</th>\n",
       "      <td>Shawshank Redemption</td>\n",
       "      <td>{Andy Pleasure, Floyd Smokes Put, Wiley, Floyd...</td>\n",
       "    </tr>\n",
       "    <tr>\n",
       "      <th>2</th>\n",
       "      <td>Schindler's List</td>\n",
       "      <td>{Clerk Good, Lena Schindler, Goeths Adler, Amo...</td>\n",
       "    </tr>\n",
       "    <tr>\n",
       "      <th>3</th>\n",
       "      <td>Raging Bull</td>\n",
       "      <td>{Jack Jake, Jake Get Everyone Out Of, Jake Ton...</td>\n",
       "    </tr>\n",
       "    <tr>\n",
       "      <th>4</th>\n",
       "      <td>Casablanca</td>\n",
       "      <td>{Ilsa Kiss, Berger, Rick, Herr Rick We, Rick U...</td>\n",
       "    </tr>\n",
       "  </tbody>\n",
       "</table>\n",
       "</div>"
      ],
      "text/plain": [
       "                   Name                                     Extracted Name\n",
       "0             Godfather  {Michael Hagen Mama, Michael We, Mike Michael,...\n",
       "1  Shawshank Redemption  {Andy Pleasure, Floyd Smokes Put, Wiley, Floyd...\n",
       "2      Schindler's List  {Clerk Good, Lena Schindler, Goeths Adler, Amo...\n",
       "3           Raging Bull  {Jack Jake, Jake Get Everyone Out Of, Jake Ton...\n",
       "4            Casablanca  {Ilsa Kiss, Berger, Rick, Herr Rick We, Rick U..."
      ]
     },
     "execution_count": 14,
     "metadata": {},
     "output_type": "execute_result"
    }
   ],
   "source": [
    "ExtractedCharacters.head()"
   ]
  },
  {
   "cell_type": "code",
   "execution_count": 15,
   "metadata": {},
   "outputs": [],
   "source": [
    "final = pd.merge(left=ExtractedCharacters,right =original_df,on ='Name')"
   ]
  },
  {
   "cell_type": "code",
   "execution_count": 16,
   "metadata": {},
   "outputs": [],
   "source": [
    "final.to_csv(\"Assignment2_submission.csv\")"
   ]
  },
  {
   "cell_type": "markdown",
   "metadata": {},
   "source": [
    "### Evaluation"
   ]
  },
  {
   "cell_type": "code",
   "execution_count": 21,
   "metadata": {
    "scrolled": true
   },
   "outputs": [
    {
     "name": "stdout",
     "output_type": "stream",
     "text": [
      "For F1 score, True Positives are sum of Partial Macthes and Identical Matches, False Positives are which my code considered as characters but are actually not characters and False Negatives are The Characters that did not match from the orignal characters.\n",
      "F1 score:  0.25801749271137026\n",
      "---------------------------------------------\n",
      "For Accuracy, Total Matches are True Positives which divided by the total number of characters\n",
      "Accuracy: 35.45515245938126\n"
     ]
    }
   ],
   "source": [
    "def similarity_checker(text1, text2):\n",
    "    return SequenceMatcher(None, text1, text2).ratio()\n",
    "\n",
    "try:\n",
    "    Submission_File = pd.read_csv('Assignment2_submission.csv')\n",
    "    Names_Character = Submission_File['Character Names']\n",
    "    names_extractedlist = Submission_File['Extracted Name']\n",
    "    identicalmatches_total = 0\n",
    "    similarmatches_total = 0\n",
    "    DNMatch_total = 0\n",
    "    c_extrac_total = 0\n",
    "    c_total = 0\n",
    "    i = 0\n",
    "    while i <len(Names_Character):\n",
    "\n",
    "        if(isinstance(Names_Character[i], float) and math.isnan(Names_Character[i])):\n",
    "            continue\n",
    "        if(isinstance(names_extractedlist[i], float) and math.isnan(names_extractedlist[i])):\n",
    "            continue\n",
    "        actualNames_Character = Names_Character[i].replace(\"{\", \"\")\n",
    "        actualNames_Character = actualNames_Character.replace(\"}\", \"\")\n",
    "        actualNames_Character = actualNames_Character.replace(\", '\", \",'\")\n",
    "        actualNames_Character = actualNames_Character.replace(\"'\", \"\")\n",
    "        actualNames_Character = actualNames_Character.replace(\", \\\"\", \",\\\"\")\n",
    "        actualNames_Character = actualNames_Character.replace(\"\\\"\", \"\")\n",
    "        actualNames_Character = actualNames_Character.split(\",\")\n",
    "        extractedNames_Character = names_extractedlist[i].replace(\"{\", \"\")\n",
    "        extractedNames_Character = extractedNames_Character.replace(\"}\", \"\")\n",
    "        extractedNames_Character = extractedNames_Character.replace(\", '\", \",'\")\n",
    "        extractedNames_Character = extractedNames_Character.replace(\"'\", \"\")\n",
    "        extractedNames_Character = extractedNames_Character.replace(\", \\\"\", \",\\\"\")\n",
    "        extractedNames_Character = extractedNames_Character.replace(\"\\\"\", \"\")\n",
    "        extractedNames_Character = extractedNames_Character.split(\",\")\n",
    "        identicalmatch = 0\n",
    "        DnMatch = 0\n",
    "        c_extra = 0\n",
    "        similar_match = 0\n",
    "        c = 0\n",
    "\n",
    "        for OG_character in actualNames_Character:\n",
    "            f = False\n",
    "            try:\n",
    "                extractedNames_Character.i(OG_character)\n",
    "                identicalmatch = identicalmatch + 1\n",
    "                f = True\n",
    "                c = c + 1\n",
    "            except:\n",
    "                name = Submission_File['Name'][i]\n",
    "                for extractedCharacter in extractedNames_Character:\n",
    "                    OG_character = OG_character.strip()\n",
    "                    OG_character = OG_character.replace(\"'\", \"\")\n",
    "                    OG_character = OG_character.replace(\"\\\"\", \"\")\n",
    "                    extractedCharacter = extractedCharacter.strip()\n",
    "                    extractedCharacter = extractedCharacter.replace(\"'\", \"\")\n",
    "                    extractedCharacter = extractedCharacter.replace(\"\\\"\", \"\")\n",
    "                    if(len(extractedCharacter) > 5 and OG_character.find(extractedCharacter) != -1):\n",
    "                        similar_match = similar_match + 1\n",
    "                        f = True\n",
    "                        break\n",
    "                    elif(extractedCharacter.find(OG_character) != -1):\n",
    "                        similar_match = similar_match + 1\n",
    "                        f = True\n",
    "                        break\n",
    "                    elif(len(extractedCharacter) > 5 and similarity_checker(OG_character, extractedCharacter) > 0.6):\n",
    "                        similar_match = similar_match + 1\n",
    "                        f = True\n",
    "                        break\n",
    "                if(not f):\n",
    "                    DnMatch = DnMatch + 1\n",
    "                c = c + 1\n",
    "        c_total = c_total + c\n",
    "        if(len(extractedNames_Character) >= 1):\n",
    "            c_extra = len(extractedNames_Character) - (identicalmatch + similar_match + DnMatch)\n",
    "        c_extrac_total = c_extrac_total + c_extra\n",
    "        identicalmatches_total = identicalmatches_total + identicalmatch\n",
    "        similarmatches_total = similarmatches_total + similar_match\n",
    "        DNMatch_total = DNMatch_total + DnMatch\n",
    "        i +=1\n",
    "        \n",
    "    true_p = identicalmatches_total + similarmatches_total\n",
    "    false_p = c_extrac_total\n",
    "    false_n = DNMatch_total\n",
    "    total_matches = true_p\n",
    "    f1_score = (true_p / (true_p + 0.5*(false_p + false_n)))\n",
    "    accuracy = (total_matches/c_total)*100\n",
    "    print(\"For F1 score, True Positives are sum of Partial Macthes and Identical Matches, False Positives are which my code considered as characters but are actually not characters and False Negatives are The Characters that did not match from the orignal characters.\")\n",
    "    print(\"F1 score: \", f1_score)\n",
    "    print(\"---------------------------------------------\")\n",
    "    print(\"For Accuracy, Total Matches are True Positives which divided by the total number of characters\")\n",
    "    print(\"Accuracy:\", accuracy)\n",
    "        \n",
    "except:\n",
    "    traceback.print_exc()\n",
    "    print(\"\\n\")\n"
   ]
  },
  {
   "cell_type": "code",
   "execution_count": null,
   "metadata": {},
   "outputs": [],
   "source": []
  }
 ],
 "metadata": {
  "colab": {
   "name": "submission.ipynb",
   "provenance": []
  },
  "kernelspec": {
   "display_name": "Python 3",
   "language": "python",
   "name": "python3"
  },
  "language_info": {
   "codemirror_mode": {
    "name": "ipython",
    "version": 3
   },
   "file_extension": ".py",
   "mimetype": "text/x-python",
   "name": "python",
   "nbconvert_exporter": "python",
   "pygments_lexer": "ipython3",
   "version": "3.8.3"
  }
 },
 "nbformat": 4,
 "nbformat_minor": 5
}
